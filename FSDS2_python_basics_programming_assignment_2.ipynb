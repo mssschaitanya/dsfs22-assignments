{
 "cells": [
  {
   "cell_type": "markdown",
   "id": "11ce3685",
   "metadata": {},
   "source": [
    "# 1.Write a Python program to convert kilometers to miles?"
   ]
  },
  {
   "cell_type": "code",
   "execution_count": 5,
   "id": "a6bd9e6c",
   "metadata": {},
   "outputs": [
    {
     "name": "stdout",
     "output_type": "stream",
     "text": [
      "enter the number of kilometers to convert:1\n",
      "1.0km distance in miles = 0.621miles\n"
     ]
    }
   ],
   "source": [
    "def kilometer_to_miles():\n",
    "    km=float(input('enter the number of kilometers to convert:'))\n",
    "    print(f'{km}km distance in miles = {km*0.621}miles')\n",
    "\n",
    "kilometer_to_miles()"
   ]
  },
  {
   "cell_type": "markdown",
   "id": "fe636d42",
   "metadata": {},
   "source": [
    "# 2.Write a Python program to convert Celsius to Fahrenheit?"
   ]
  },
  {
   "cell_type": "code",
   "execution_count": 7,
   "id": "df56ab41",
   "metadata": {},
   "outputs": [
    {
     "name": "stdout",
     "output_type": "stream",
     "text": [
      "enter the temperature in Celsius:100\n",
      "100.0 celsius in Fahrenheit=212.0F\n"
     ]
    }
   ],
   "source": [
    "def Celsius_to_Fahrenheit():\n",
    "    c0=float(input('enter the temperature in Celsius:'))\n",
    "    F=(c0*9/5+32)\n",
    "    print(f'{c0} celsius in Fahrenheit={F}F')\n",
    "    \n",
    "Celsius_to_Fahrenheit()"
   ]
  },
  {
   "cell_type": "markdown",
   "id": "3501e02b",
   "metadata": {},
   "source": [
    "# 3.Write a Python program to display calendar?"
   ]
  },
  {
   "cell_type": "code",
   "execution_count": 8,
   "id": "1bf5f557",
   "metadata": {},
   "outputs": [
    {
     "name": "stdout",
     "output_type": "stream",
     "text": [
      "Enter calander year: 2023\n",
      "                                  2023\n",
      "\n",
      "      January                   February                   March\n",
      "Mo Tu We Th Fr Sa Su      Mo Tu We Th Fr Sa Su      Mo Tu We Th Fr Sa Su\n",
      "                   1             1  2  3  4  5             1  2  3  4  5\n",
      " 2  3  4  5  6  7  8       6  7  8  9 10 11 12       6  7  8  9 10 11 12\n",
      " 9 10 11 12 13 14 15      13 14 15 16 17 18 19      13 14 15 16 17 18 19\n",
      "16 17 18 19 20 21 22      20 21 22 23 24 25 26      20 21 22 23 24 25 26\n",
      "23 24 25 26 27 28 29      27 28                     27 28 29 30 31\n",
      "30 31\n",
      "\n",
      "       April                      May                       June\n",
      "Mo Tu We Th Fr Sa Su      Mo Tu We Th Fr Sa Su      Mo Tu We Th Fr Sa Su\n",
      "                1  2       1  2  3  4  5  6  7                1  2  3  4\n",
      " 3  4  5  6  7  8  9       8  9 10 11 12 13 14       5  6  7  8  9 10 11\n",
      "10 11 12 13 14 15 16      15 16 17 18 19 20 21      12 13 14 15 16 17 18\n",
      "17 18 19 20 21 22 23      22 23 24 25 26 27 28      19 20 21 22 23 24 25\n",
      "24 25 26 27 28 29 30      29 30 31                  26 27 28 29 30\n",
      "\n",
      "        July                     August                  September\n",
      "Mo Tu We Th Fr Sa Su      Mo Tu We Th Fr Sa Su      Mo Tu We Th Fr Sa Su\n",
      "                1  2          1  2  3  4  5  6                   1  2  3\n",
      " 3  4  5  6  7  8  9       7  8  9 10 11 12 13       4  5  6  7  8  9 10\n",
      "10 11 12 13 14 15 16      14 15 16 17 18 19 20      11 12 13 14 15 16 17\n",
      "17 18 19 20 21 22 23      21 22 23 24 25 26 27      18 19 20 21 22 23 24\n",
      "24 25 26 27 28 29 30      28 29 30 31               25 26 27 28 29 30\n",
      "31\n",
      "\n",
      "      October                   November                  December\n",
      "Mo Tu We Th Fr Sa Su      Mo Tu We Th Fr Sa Su      Mo Tu We Th Fr Sa Su\n",
      "                   1             1  2  3  4  5                   1  2  3\n",
      " 2  3  4  5  6  7  8       6  7  8  9 10 11 12       4  5  6  7  8  9 10\n",
      " 9 10 11 12 13 14 15      13 14 15 16 17 18 19      11 12 13 14 15 16 17\n",
      "16 17 18 19 20 21 22      20 21 22 23 24 25 26      18 19 20 21 22 23 24\n",
      "23 24 25 26 27 28 29      27 28 29 30               25 26 27 28 29 30 31\n",
      "30 31\n",
      "\n"
     ]
    }
   ],
   "source": [
    "import calendar\n",
    "\n",
    "def showcalander():\n",
    "    year = int(input(\"Enter calander year: \"))\n",
    "    print(calendar.calendar(year))\n",
    "showcalander()"
   ]
  },
  {
   "cell_type": "markdown",
   "id": "453df680",
   "metadata": {},
   "source": [
    "# 4.Write a Python program to solve quadratic equation?"
   ]
  },
  {
   "cell_type": "code",
   "execution_count": 4,
   "id": "0a66a912",
   "metadata": {},
   "outputs": [
    {
     "name": "stdout",
     "output_type": "stream",
     "text": [
      "Enter a value: 2\n",
      "Enter b value: -10\n",
      "Enter c value: 5\n",
      "Roots are Real and different 8.063508326896292 11.936491673103708\n"
     ]
    }
   ],
   "source": [
    "import cmath\n",
    "import math\n",
    "\n",
    "def quadartic_equation_roots(a,b,c):\n",
    "    discriminant=b**2-4*a*c\n",
    "    if discriminant == 0:\n",
    "        r1 = -b/2*a\n",
    "        r2 = -b/2*a\n",
    "        print(\"Roots are Real and same\",r1,r2)\n",
    "    elif discriminant>0:\n",
    "        r1 = -b-(discriminant)**0.5/(2*a)\n",
    "        r2 = -b+(discriminant)**0.5/(2*a)\n",
    "        print(\"Roots are Real and different\",r1,r2)\n",
    "    else:\n",
    "        r1 = -b-(discriminant)**0.5/(2*a)\n",
    "        r2 = -b+(discriminant)**0.5/(2*a)\n",
    "        print(\"Roots are imaginary\",r1,r2)\n",
    "\n",
    "a = int(input('Enter a value: '))\n",
    "b = int(input('Enter b value: '))\n",
    "c = int(input('Enter c value: ')) \n",
    "quadartic_equation_roots(a,b,c)"
   ]
  },
  {
   "cell_type": "markdown",
   "id": "8710b826",
   "metadata": {},
   "source": [
    "# 5.Write a Python program to swap two variables without temp variable?"
   ]
  },
  {
   "cell_type": "code",
   "execution_count": 14,
   "id": "dfd5c617",
   "metadata": {},
   "outputs": [
    {
     "name": "stdout",
     "output_type": "stream",
     "text": [
      "enter first value:3\n",
      "enter the second value:4\n",
      "before swapping = 3,4\n",
      "after swapping = 4,3\n"
     ]
    }
   ],
   "source": [
    "x=int(input('enter first value:'))\n",
    "y=int(input('enter the second value:'))\n",
    "def swap_variables(x,y):\n",
    "    print(f'before swapping = {x},{y}')\n",
    "    x=x+y\n",
    "    y=x-y\n",
    "    x=x-y\n",
    "    print(f'after swapping = {x},{y}')\n",
    "\n",
    "swap_variables(x,y)"
   ]
  },
  {
   "cell_type": "code",
   "execution_count": null,
   "id": "fd241e40",
   "metadata": {},
   "outputs": [],
   "source": []
  }
 ],
 "metadata": {
  "kernelspec": {
   "display_name": "Python 3 (ipykernel)",
   "language": "python",
   "name": "python3"
  },
  "language_info": {
   "codemirror_mode": {
    "name": "ipython",
    "version": 3
   },
   "file_extension": ".py",
   "mimetype": "text/x-python",
   "name": "python",
   "nbconvert_exporter": "python",
   "pygments_lexer": "ipython3",
   "version": "3.9.13"
  }
 },
 "nbformat": 4,
 "nbformat_minor": 5
}
