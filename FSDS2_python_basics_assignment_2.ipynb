{
 "cells": [
  {
   "cell_type": "markdown",
   "id": "0a94226d",
   "metadata": {},
   "source": [
    "# 1.What are the two values of the Boolean data type? How do you write them?\n"
   ]
  },
  {
   "cell_type": "code",
   "execution_count": 6,
   "id": "551807de",
   "metadata": {},
   "outputs": [
    {
     "name": "stdout",
     "output_type": "stream",
     "text": [
      "False,data type is <class 'bool'>\n",
      "True,data type is <class 'bool'>\n"
     ]
    }
   ],
   "source": [
    "Boolean_data_types=[True,False] # make sure first letter is capital booleans mainly used in logical operations \n",
    "# example for booleans\n",
    "x=10>11\n",
    "print(f'{x},data type is {type(x)}')\n",
    "y=11>10\n",
    "print(f'{y},data type is {type(y)}')"
   ]
  },
  {
   "cell_type": "markdown",
   "id": "44ef36fb",
   "metadata": {},
   "source": [
    "## 2. What are the three different types of Boolean operators? \n",
    "## # 3. Make a list of each Boolean operator's truth tables (i.e. every possible combination of Boolean values for the operator and what it evaluate )."
   ]
  },
  {
   "cell_type": "code",
   "execution_count": 10,
   "id": "1099a130",
   "metadata": {},
   "outputs": [
    {
     "name": "stdout",
     "output_type": "stream",
     "text": [
      "if both conditions are true then answer is true, from above examples z=True w=False x=False or y=False\n",
      "if one condition is true then answer is true, from above examples a=True b=True c=True d=False\n",
      "False\n",
      "True\n"
     ]
    }
   ],
   "source": [
    "# 1 AND operator\n",
    "w=False and True\n",
    "x=True and False\n",
    "y=False and False\n",
    "z=True and True\n",
    "print(f'if both conditions are true then answer is true, from above examples z={z} w={w} x={x} or y={y}')\n",
    "\n",
    "# 2 OR operator\n",
    "a=True or False\n",
    "b=False or True\n",
    "c=True or True\n",
    "d=False or False\n",
    "print(f'if one condition is true then answer is true, from above examples a={a} b={b} c={c} d={d}')\n",
    "\n",
    "# 3 NOT operator\n",
    "print(not True)\n",
    "print(not False)"
   ]
  },
  {
   "cell_type": "markdown",
   "id": "be9f388d",
   "metadata": {},
   "source": [
    "# 4. What are the values of the following expressions?\n",
    "(5 > 4) and (3 == 5)\n",
    "\n",
    "not (5 > 4)\n",
    "\n",
    "(5 > 4) or (3 == 5)\n",
    "\n",
    "not ((5 > 4) or (3 == 5))\n",
    "\n",
    "(True and True) and (True == False)\n",
    "\n",
    "(not False) or (not True)\n"
   ]
  },
  {
   "cell_type": "code",
   "execution_count": 11,
   "id": "31a39d06",
   "metadata": {},
   "outputs": [
    {
     "data": {
      "text/plain": [
       "False"
      ]
     },
     "execution_count": 11,
     "metadata": {},
     "output_type": "execute_result"
    }
   ],
   "source": [
    "(5 > 4) and (3 == 5)"
   ]
  },
  {
   "cell_type": "code",
   "execution_count": 12,
   "id": "55488936",
   "metadata": {},
   "outputs": [
    {
     "data": {
      "text/plain": [
       "False"
      ]
     },
     "execution_count": 12,
     "metadata": {},
     "output_type": "execute_result"
    }
   ],
   "source": [
    "not (5 > 4)"
   ]
  },
  {
   "cell_type": "code",
   "execution_count": 13,
   "id": "c6ff6e2c",
   "metadata": {},
   "outputs": [
    {
     "data": {
      "text/plain": [
       "True"
      ]
     },
     "execution_count": 13,
     "metadata": {},
     "output_type": "execute_result"
    }
   ],
   "source": [
    "(5 > 4) or (3 == 5)"
   ]
  },
  {
   "cell_type": "code",
   "execution_count": 14,
   "id": "91eb3576",
   "metadata": {},
   "outputs": [
    {
     "data": {
      "text/plain": [
       "False"
      ]
     },
     "execution_count": 14,
     "metadata": {},
     "output_type": "execute_result"
    }
   ],
   "source": [
    "not ((5 > 4) or (3 == 5))"
   ]
  },
  {
   "cell_type": "code",
   "execution_count": 15,
   "id": "1cddc633",
   "metadata": {},
   "outputs": [
    {
     "data": {
      "text/plain": [
       "False"
      ]
     },
     "execution_count": 15,
     "metadata": {},
     "output_type": "execute_result"
    }
   ],
   "source": [
    "(True and True) and (True == False)"
   ]
  },
  {
   "cell_type": "code",
   "execution_count": 16,
   "id": "19578e97",
   "metadata": {},
   "outputs": [
    {
     "data": {
      "text/plain": [
       "True"
      ]
     },
     "execution_count": 16,
     "metadata": {},
     "output_type": "execute_result"
    }
   ],
   "source": [
    "(not False) or (not True)"
   ]
  },
  {
   "cell_type": "markdown",
   "id": "541e1113",
   "metadata": {},
   "source": [
    "# 5. What are the six comparison operators?"
   ]
  },
  {
   "cell_type": "code",
   "execution_count": 17,
   "id": "208fd4cb",
   "metadata": {},
   "outputs": [
    {
     "data": {
      "text/plain": [
       "True"
      ]
     },
     "execution_count": 17,
     "metadata": {},
     "output_type": "execute_result"
    }
   ],
   "source": [
    "#1) == operator means equal \n",
    "9**3+8**3+7**3+6**3+5**3+4**3+3**3+2**3-1**3==2023"
   ]
  },
  {
   "cell_type": "code",
   "execution_count": 18,
   "id": "f789a8b4",
   "metadata": {},
   "outputs": [
    {
     "data": {
      "text/plain": [
       "False"
      ]
     },
     "execution_count": 18,
     "metadata": {},
     "output_type": "execute_result"
    }
   ],
   "source": [
    "# 2) != means not equal\n",
    "9*8+7+6*54*3*2*1!=2023"
   ]
  },
  {
   "cell_type": "code",
   "execution_count": 20,
   "id": "c6b00b9a",
   "metadata": {},
   "outputs": [
    {
     "data": {
      "text/plain": [
       "False"
      ]
     },
     "execution_count": 20,
     "metadata": {},
     "output_type": "execute_result"
    }
   ],
   "source": [
    "# 3) > means greater than\n",
    "(2+0+2+3)*(2**2+0**2+2**2+2**2)>2023"
   ]
  },
  {
   "cell_type": "code",
   "execution_count": 21,
   "id": "41b668ee",
   "metadata": {},
   "outputs": [
    {
     "data": {
      "text/plain": [
       "True"
      ]
     },
     "execution_count": 21,
     "metadata": {},
     "output_type": "execute_result"
    }
   ],
   "source": [
    "# 4) < means less than\n",
    "2022<2023"
   ]
  },
  {
   "cell_type": "code",
   "execution_count": 48,
   "id": "d77664e5",
   "metadata": {},
   "outputs": [
    {
     "name": "stdout",
     "output_type": "stream",
     "text": [
      "[3]\n",
      "[3, 4]\n",
      "[3, 4, 5]\n"
     ]
    }
   ],
   "source": [
    "# 5) >= means greater than or equal\n",
    "L=[1,2,3,4,5]\n",
    "x=[]\n",
    "for i in L:\n",
    "    if i>=3:\n",
    "        x.append(i)\n",
    "        print(x)"
   ]
  },
  {
   "cell_type": "code",
   "execution_count": 43,
   "id": "452a5d76",
   "metadata": {},
   "outputs": [
    {
     "name": "stdout",
     "output_type": "stream",
     "text": [
      "True\n",
      "True\n"
     ]
    }
   ],
   "source": [
    "# 6) <= means less than or equal\n",
    "print(50<=100)\n",
    "print(100<=100)"
   ]
  },
  {
   "cell_type": "markdown",
   "id": "d68079ae",
   "metadata": {},
   "source": [
    "# 6. How do you tell the difference between the equal to and assignment operators?Describe a condition and when you would use one."
   ]
  },
  {
   "cell_type": "code",
   "execution_count": 5,
   "id": "5f7008ec",
   "metadata": {},
   "outputs": [
    {
     "name": "stdout",
     "output_type": "stream",
     "text": [
      " a+b=5 a==b is False\n"
     ]
    }
   ],
   "source": [
    "# '==' is equal to operator, = is the assignment operator in python programming language.\n",
    "a=2  # value 2 is assigned to variable a\n",
    "b=3  # value 3 is assigned to variable b\n",
    "print(f' a+b={a+b} a==b is {a==b}')"
   ]
  },
  {
   "cell_type": "code",
   "execution_count": 7,
   "id": "9cdd7e60",
   "metadata": {},
   "outputs": [
    {
     "name": "stdout",
     "output_type": "stream",
     "text": [
      "ham\n",
      "spam\n",
      "spam\n"
     ]
    }
   ],
   "source": [
    "# 7. Identify the three blocks in this code:\n",
    "spam = 0\n",
    "if spam == 10:\n",
    "    print('eggs')\n",
    "if spam > 5:\n",
    "    print('bacon')\n",
    "else:\n",
    "    print('ham')\n",
    "    print('spam')\n",
    "    print('spam')"
   ]
  },
  {
   "cell_type": "markdown",
   "id": "0f48d3dc",
   "metadata": {},
   "source": [
    "# 8. Write code that prints Hello if 1 is stored in spam, prints Howdy if 2 is stored in spam, and prints Greetings! if anything else is stored in spam."
   ]
  },
  {
   "cell_type": "code",
   "execution_count": 8,
   "id": "c5b20537",
   "metadata": {},
   "outputs": [
    {
     "name": "stdout",
     "output_type": "stream",
     "text": [
      "Enter Spam Value1\n",
      "Value of spam is 1\n",
      "Hello\n"
     ]
    }
   ],
   "source": [
    "spam = int(input(\"Enter Spam Value\"))\n",
    "\n",
    "print(f\"Value of spam is {spam}\")\n",
    "\n",
    "if spam==1:\n",
    "    print(\"Hello\")\n",
    "elif spam==2:\n",
    "    print(\"Howdy\")\n",
    "else:\n",
    "    print(\"Greetings!\")"
   ]
  },
  {
   "cell_type": "markdown",
   "id": "f5bd4d1e",
   "metadata": {},
   "source": [
    "# 9.If your programme is stuck in an endless loop, what keys you’ll press?\n",
    "Ans ctrl c"
   ]
  },
  {
   "cell_type": "markdown",
   "id": "28eda0f7",
   "metadata": {},
   "source": [
    "# 10. How can you tell the difference between break and continue?"
   ]
  },
  {
   "cell_type": "code",
   "execution_count": 21,
   "id": "9706bce0",
   "metadata": {},
   "outputs": [
    {
     "name": "stdout",
     "output_type": "stream",
     "text": [
      "ineuron\n",
      "ineuron\n",
      "ineuron\n"
     ]
    }
   ],
   "source": [
    "# Ans 1.The break statement is used to terminate the loop or statement in which it is present.\n",
    "a='ineuron'\n",
    "for i in a: \n",
    "    print(a)\n",
    "    if i == 'e':\n",
    "        break\n",
    " # e is 3rd letter  so it prints 3 times      \n",
    "        "
   ]
  },
  {
   "cell_type": "code",
   "execution_count": 23,
   "id": "7ba75d8a",
   "metadata": {},
   "outputs": [
    {
     "name": "stdout",
     "output_type": "stream",
     "text": [
      "s\n",
      "k\n",
      "y\n",
      " \n",
      "s\n",
      " \n",
      "l\n",
      "m\n",
      "t\n"
     ]
    }
   ],
   "source": [
    "# Ans 2. the continue statement forces to execute the next iteration of the loop.\n",
    "string='sky is limit'\n",
    "for i in string:\n",
    "    if i=='a' or i=='e' or i=='i' or i=='o' or i=='u':\n",
    "        continue\n",
    "    print(i) "
   ]
  },
  {
   "cell_type": "markdown",
   "id": "c570c960",
   "metadata": {},
   "source": [
    "# 11. In a for loop, what is the difference between range(10), range(0, 10), and range(0, 10, 1)?\n",
    "Ans range format is (start,stop,step), or (stop), or (start or stop)\n",
    "here 10 is out of range so it takes upto 10-1=9. by default it starts from 0 and step value is 1. \n",
    "step is diffence between consecutive numbers in the range. "
   ]
  },
  {
   "cell_type": "code",
   "execution_count": 32,
   "id": "01d764ab",
   "metadata": {},
   "outputs": [
    {
     "name": "stdout",
     "output_type": "stream",
     "text": [
      "0 is below Ten\n",
      "1 is below Ten\n",
      "2 is below Ten\n",
      "3 is below Ten\n",
      "4 is below Ten\n",
      "5 is below Ten\n",
      "6 is below Ten\n",
      "7 is below Ten\n",
      "8 is below Ten\n",
      "9 is below Ten\n"
     ]
    }
   ],
   "source": [
    "for i in range (10): \n",
    "        print(f'{i} is below Ten')"
   ]
  },
  {
   "cell_type": "code",
   "execution_count": 33,
   "id": "2f47ba1b",
   "metadata": {},
   "outputs": [
    {
     "name": "stdout",
     "output_type": "stream",
     "text": [
      "0 is below Ten\n",
      "1 is below Ten\n",
      "2 is below Ten\n",
      "3 is below Ten\n",
      "4 is below Ten\n",
      "5 is below Ten\n",
      "6 is below Ten\n",
      "7 is below Ten\n",
      "8 is below Ten\n",
      "9 is below Ten\n"
     ]
    }
   ],
   "source": [
    "for i in range (0,10):\n",
    "        print(f'{i} is below Ten')"
   ]
  },
  {
   "cell_type": "code",
   "execution_count": 34,
   "id": "fe5f9315",
   "metadata": {},
   "outputs": [
    {
     "name": "stdout",
     "output_type": "stream",
     "text": [
      "0 is below Ten\n",
      "1 is below Ten\n",
      "2 is below Ten\n",
      "3 is below Ten\n",
      "4 is below Ten\n",
      "5 is below Ten\n",
      "6 is below Ten\n",
      "7 is below Ten\n",
      "8 is below Ten\n",
      "9 is below Ten\n"
     ]
    }
   ],
   "source": [
    "for i in range (0,10,1):\n",
    "        print(f'{i} is below Ten')"
   ]
  },
  {
   "cell_type": "markdown",
   "id": "2a79c0c0",
   "metadata": {},
   "source": [
    "# # 12. Write a short program that prints the numbers 1 to 10 using a for loop. Then write an equivalent program that prints the numbers 1 to 10 using a while loop."
   ]
  },
  {
   "cell_type": "code",
   "execution_count": 35,
   "id": "67650da5",
   "metadata": {},
   "outputs": [
    {
     "name": "stdout",
     "output_type": "stream",
     "text": [
      "1\n",
      "2\n",
      "3\n",
      "4\n",
      "5\n",
      "6\n",
      "7\n",
      "8\n",
      "9\n",
      "10\n"
     ]
    }
   ],
   "source": [
    "for i in range(1,11):\n",
    "    print(i)"
   ]
  },
  {
   "cell_type": "code",
   "execution_count": 45,
   "id": "f0e5676c",
   "metadata": {},
   "outputs": [
    {
     "name": "stdout",
     "output_type": "stream",
     "text": [
      "printed numbers from 1 to 10 using while loop\n",
      "12345678910"
     ]
    }
   ],
   "source": [
    "print('printed numbers from 1 to 10 using while loop' )\n",
    "n=1\n",
    "while n <11:\n",
    "    print(n,end=\"\")\n",
    "    n=n+1"
   ]
  },
  {
   "cell_type": "markdown",
   "id": "eb3aa717",
   "metadata": {},
   "source": [
    "# 13. If you had a function named bacon() inside a module named spam, how would you call it after importing spam?\n"
   ]
  },
  {
   "cell_type": "code",
   "execution_count": 2,
   "id": "bc9b1d0e",
   "metadata": {},
   "outputs": [
    {
     "data": {
      "text/plain": [
       "'from spam import bacon \\nbacon()\\n'"
      ]
     },
     "execution_count": 2,
     "metadata": {},
     "output_type": "execute_result"
    }
   ],
   "source": [
    "\"\"\"\n",
    "from spam import bacon \n",
    "bacon()\n",
    "\"\"\" "
   ]
  },
  {
   "cell_type": "code",
   "execution_count": null,
   "id": "40f6742a",
   "metadata": {},
   "outputs": [],
   "source": []
  }
 ],
 "metadata": {
  "kernelspec": {
   "display_name": "Python 3 (ipykernel)",
   "language": "python",
   "name": "python3"
  },
  "language_info": {
   "codemirror_mode": {
    "name": "ipython",
    "version": 3
   },
   "file_extension": ".py",
   "mimetype": "text/x-python",
   "name": "python",
   "nbconvert_exporter": "python",
   "pygments_lexer": "ipython3",
   "version": "3.9.13"
  }
 },
 "nbformat": 4,
 "nbformat_minor": 5
}
