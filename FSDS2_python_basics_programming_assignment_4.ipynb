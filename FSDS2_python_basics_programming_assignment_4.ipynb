{
 "cells": [
  {
   "cell_type": "markdown",
   "id": "4ef3a516",
   "metadata": {},
   "source": [
    "# 1.Write a Python Program to Find the Factorial of a Number?"
   ]
  },
  {
   "cell_type": "code",
   "execution_count": 4,
   "id": "b60d382d",
   "metadata": {},
   "outputs": [
    {
     "name": "stdout",
     "output_type": "stream",
     "text": [
      "Enter a number to find factorial: 6\n",
      "factorial of the given number is:720 \n"
     ]
    }
   ],
   "source": [
    "x=int(input(\"Enter a number to find factorial: \"))\n",
    "factorial=1\n",
    "if x<0:\n",
    "    print(\"Factorial is not defined for negative number\");\n",
    "elif(x==0):\n",
    "    print(\"The factorial of 0 is 1\");\n",
    "else:\n",
    "    while(x>0):\n",
    "        factorial=factorial*x\n",
    "        \n",
    "        x=x-1\n",
    "        \n",
    "    print(f\"factorial of the given number is:{factorial} \")\n"
   ]
  },
  {
   "cell_type": "markdown",
   "id": "d946f3ac",
   "metadata": {},
   "source": [
    "# 2.Write a Python Program to Display the multiplication Table?"
   ]
  },
  {
   "cell_type": "code",
   "execution_count": 6,
   "id": "35088af6",
   "metadata": {},
   "outputs": [
    {
     "name": "stdout",
     "output_type": "stream",
     "text": [
      "enter base value:3\n",
      "3X1=3\n",
      "3X2=6\n",
      "3X3=9\n",
      "3X4=12\n",
      "3X5=15\n",
      "3X6=18\n",
      "3X7=21\n",
      "3X8=24\n",
      "3X9=27\n",
      "3X10=30\n"
     ]
    }
   ],
   "source": [
    "def math_table(base,multiples):\n",
    "    for i in range(1,multiples+1):\n",
    "        print(f'{base}X{i}={base*i}')\n",
    "base=int(input('enter base value:'))\n",
    "multiples=10\n",
    "math_table(base,multiples)"
   ]
  },
  {
   "cell_type": "markdown",
   "id": "3dd34e75",
   "metadata": {},
   "source": [
    "# 3.Write a Python Program to Print the Fibonacci sequence?"
   ]
  },
  {
   "cell_type": "code",
   "execution_count": 10,
   "id": "58bc6519",
   "metadata": {},
   "outputs": [
    {
     "name": "stdout",
     "output_type": "stream",
     "text": [
      "Enter the no of fibonacci sequences you want? 6\n",
      "The First 6 fibonacci series are: [0, 1, 1, 2, 3, 5]\n"
     ]
    }
   ],
   "source": [
    "Fs= int(input('Enter the no of fibonacci sequences you want? '))\n",
    "initial_list = [0,1]\n",
    "if Fs < 0:\n",
    "    print('Fibonacci Numbers are not available for Negative Numbers')\n",
    "elif Fs <= 2 and Fs >= 0:\n",
    "    print(initial_list)\n",
    "else:\n",
    "    for i in range(Fs):\n",
    "        if i >= 2:\n",
    "            initial_list.append(initial_list[i-1]+initial_list[i-2])\n",
    "    print(f'The First {Fs} fibonacci series are:',initial_list)"
   ]
  },
  {
   "cell_type": "markdown",
   "id": "0a11bee8",
   "metadata": {},
   "source": [
    "# 4.Write a Python Program to Check Armstrong Number?"
   ]
  },
  {
   "cell_type": "code",
   "execution_count": null,
   "id": "26366e6b",
   "metadata": {},
   "outputs": [
    {
     "name": "stdout",
     "output_type": "stream",
     "text": [
      "Enter a number: 153\n",
      "153 is a Armstrong Number\n"
     ]
    }
   ],
   "source": [
    "def checkArmstrongNumber():\n",
    "    in_num = input('Enter a number: ')\n",
    "    sum = 0\n",
    "    for i in range(len(in_num)):\n",
    "        sum = sum + pow(int(in_num[i]),len(in_num))\n",
    "    if sum == int(in_num):\n",
    "        print(f'{in_num} is a Armstrong Number')\n",
    "    else:\n",
    "        print(f'{in_num} is a Not Armstrong Number')\n",
    "\n",
    "for x in range(2):\n",
    "    checkArmstrongNumber()"
   ]
  },
  {
   "cell_type": "markdown",
   "id": "15185ed9",
   "metadata": {},
   "source": [
    "# 5.Write a Python Program to Find Armstrong Number in an Interval?"
   ]
  },
  {
   "cell_type": "code",
   "execution_count": 6,
   "id": "b467e445",
   "metadata": {},
   "outputs": [
    {
     "name": "stdout",
     "output_type": "stream",
     "text": [
      "153\n",
      "370\n",
      "371\n",
      "407\n",
      "1634\n",
      "8208\n",
      "9474\n"
     ]
    }
   ],
   "source": [
    "lower = 100\n",
    "upper = 10000\n",
    "\n",
    "for num in range(lower, upper + 1):\n",
    "    \n",
    "    order = len(str(num))\n",
    "\n",
    "    sum = 0\n",
    "\n",
    "    temp = num\n",
    "\n",
    "    while temp > 0:\n",
    "        digit = temp % 10\n",
    "        sum += digit ** order\n",
    "        temp //= 10\n",
    "\n",
    "    if num == sum:\n",
    "        print(num)\n"
   ]
  },
  {
   "cell_type": "markdown",
   "id": "350e11c6",
   "metadata": {},
   "source": [
    "# 6.Write a Python Program to Find the Sum of Natural Numbers?"
   ]
  },
  {
   "cell_type": "code",
   "execution_count": 8,
   "id": "adf65a9a",
   "metadata": {},
   "outputs": [
    {
     "name": "stdout",
     "output_type": "stream",
     "text": [
      "10\n",
      "sum of 10 natural numbers = 55.0\n"
     ]
    }
   ],
   "source": [
    "def sum_n(n):\n",
    "    if n>0:\n",
    "        print(f'sum of {n} natural numbers = {n*(n+1)/2}')\n",
    "    else: print('not a natural number')\n",
    "n=int(input())\n",
    "sum_n(n)"
   ]
  },
  {
   "cell_type": "code",
   "execution_count": null,
   "id": "5be0b213",
   "metadata": {},
   "outputs": [],
   "source": []
  }
 ],
 "metadata": {
  "kernelspec": {
   "display_name": "Python 3 (ipykernel)",
   "language": "python",
   "name": "python3"
  },
  "language_info": {
   "codemirror_mode": {
    "name": "ipython",
    "version": 3
   },
   "file_extension": ".py",
   "mimetype": "text/x-python",
   "name": "python",
   "nbconvert_exporter": "python",
   "pygments_lexer": "ipython3",
   "version": "3.9.13"
  }
 },
 "nbformat": 4,
 "nbformat_minor": 5
}
