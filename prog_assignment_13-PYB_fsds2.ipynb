{
 "cells": [
  {
   "cell_type": "markdown",
   "id": "dc1b7e18",
   "metadata": {},
   "source": [
    "# Question 1: Write a program that calculates and prints the value according to the given formula:\n",
    "\n",
    "Q = Square root of [(2 * C * D)/H]\n",
    "\n",
    "Following are the fixed values of C and H:\n",
    "\n",
    "C is 50. H is 30.\n",
    "\n",
    "D is the variable whose values should be input to your program in a comma-separated sequence.\n",
    "\n",
    "Example\n",
    "\n",
    "Let us assume the following comma separated input sequence is given to the program:\n",
    "\n",
    "100,150,180\n",
    "\n",
    "The output of the program should be:\n",
    "\n",
    "18,22,24"
   ]
  },
  {
   "cell_type": "code",
   "execution_count": 12,
   "id": "3bff3453",
   "metadata": {},
   "outputs": [
    {
     "name": "stdout",
     "output_type": "stream",
     "text": [
      "enter the value separated by comma: 100,150,180\n",
      "input given (100, 150, 180)\n",
      "output ['18', '22', '24']\n"
     ]
    }
   ],
   "source": [
    "from math import sqrt\n",
    "def getform():\n",
    "    C=50\n",
    "    H=30\n",
    "    output=[]\n",
    "    D=eval(input('enter the value separated by comma: '))\n",
    "    for i in D:\n",
    "        Q=str(int(sqrt ((2 * C * i)/H)))\n",
    "        output.append(Q)\n",
    "    print(f\"input given {D}\")\n",
    "    print(f\"output {output}\")\n",
    "getform()"
   ]
  },
  {
   "cell_type": "markdown",
   "id": "a415a1b0",
   "metadata": {},
   "source": [
    "# Question 2: Write a program which takes 2 digits, X,Y as input and generates a 2-dimensional array. The element value in the i-th row and j-th column of the array should be i*j.\n",
    "\n",
    "Note: i=0,1.., X-1; j=0,1,¡\u001fY-1.\n",
    "\n",
    "Example\n",
    "\n",
    "Suppose the following inputs are given to the program:\n",
    "\n",
    "3,5\n",
    "\n",
    "Then, the output of the program should be:\n",
    "\n",
    "[[0, 0, 0, 0, 0], [0, 1, 2, 3, 4], [0, 2, 4, 6, 8]] \n"
   ]
  },
  {
   "cell_type": "code",
   "execution_count": 15,
   "id": "3652d8e8",
   "metadata": {},
   "outputs": [
    {
     "name": "stdout",
     "output_type": "stream",
     "text": [
      "enter a digit: 3\n",
      "enter a digit: 5\n",
      "[[0, 0, 0, 0, 0], [0, 1, 2, 3, 4], [0, 2, 4, 6, 8]]\n"
     ]
    }
   ],
   "source": [
    "import array \n",
    "def make2array():\n",
    "    X=int(input(\"enter a digit: \"))\n",
    "    Y=int(input(\"enter a digit: \"))\n",
    "    rrr=[]\n",
    "    for i in range(X):\n",
    "        rrr.insert(X,[])\n",
    "        for j in range(Y):\n",
    "            rrr[i].append(i*j)\n",
    "    print(rrr)\n",
    "    \n",
    "make2array()"
   ]
  },
  {
   "cell_type": "markdown",
   "id": "8e1a2fbe",
   "metadata": {},
   "source": [
    "# Question 3: Write a program that accepts a comma separated sequence of words as input and prints the words in a comma-separated sequence after sorting them alphabetically.\n",
    "\n",
    "Suppose the following input is supplied to the program:\n",
    "\n",
    "without,hello,bag,world\n",
    "\n",
    "Then, the output should be:\n",
    "\n",
    "bag,hello,without,world\n"
   ]
  },
  {
   "cell_type": "code",
   "execution_count": 27,
   "id": "b6629db2",
   "metadata": {},
   "outputs": [
    {
     "name": "stdout",
     "output_type": "stream",
     "text": [
      "enter the words separated by comma: without,hello,bag,world\n",
      "bag,hello,without,world\n"
     ]
    }
   ],
   "source": [
    "def sortalph():\n",
    "    data=input(\"enter the words separated by comma: \")\n",
    "    x=\",\".join(sorted(data.split(\",\")))\n",
    "    print(x)\n",
    "    \n",
    "sortalph()    "
   ]
  },
  {
   "cell_type": "markdown",
   "id": "35c1a560",
   "metadata": {},
   "source": [
    "# Question 4: Write a program that accepts a sequence of whitespace separated words as input and prints the words after removing all duplicate words and sorting them alphanumerically.\n",
    "\n",
    "Suppose the following input is supplied to the program:\n",
    "\n",
    "hello world and practice makes perfect and hello world again\n",
    "\n",
    "Then, the output should be:\n",
    "\n",
    "again and hello makes perfect practice world"
   ]
  },
  {
   "cell_type": "code",
   "execution_count": 34,
   "id": "d1b6e521",
   "metadata": {},
   "outputs": [
    {
     "name": "stdout",
     "output_type": "stream",
     "text": [
      "enter the words separated by space: hello world and practice makes perfect and hello world again\n",
      "again and hello makes perfect practice world\n"
     ]
    }
   ],
   "source": [
    "def sortalphn():\n",
    "    data=input(\"enter the words separated by space: \")\n",
    "    x=\" \".join(sorted(list(set(data.split(\" \")))))\n",
    "    print(x)\n",
    "    \n",
    "sortalphn()  "
   ]
  },
  {
   "cell_type": "markdown",
   "id": "a6f08606",
   "metadata": {},
   "source": [
    "# Question 5: Write a program that accepts a sentence and calculate the number of letters and digits.\n",
    "\n",
    "Suppose the following input is supplied to the program:\n",
    "\n",
    "hello world! 123\n",
    "\n",
    "Then, the output should be:\n",
    "\n",
    "LETTERS 10\n",
    "\n",
    "DIGITS 3"
   ]
  },
  {
   "cell_type": "code",
   "execution_count": 39,
   "id": "cb902291",
   "metadata": {},
   "outputs": [
    {
     "name": "stdout",
     "output_type": "stream",
     "text": [
      "enter the sentence: hello world! 123\n",
      " LETTERS 10\n",
      " DIGITS 3\n"
     ]
    }
   ],
   "source": [
    "def sentodig():\n",
    "    data=str(input(\"enter the sentence: \"))\n",
    "    smalllet='abcdefghijklmnopqrstuvwxyz'\n",
    "    caplet=\"ABCDEFGHIJKLMNOPQRSTUVWXYZ\"\n",
    "    num='1234567890'\n",
    "    LETTERS=0\n",
    "    DIGITS=0\n",
    "    for i in data:\n",
    "        if i in smalllet:\n",
    "            LETTERS+=1\n",
    "        elif i in caplet:\n",
    "            LETTERS+=1\n",
    "        elif i in num:\n",
    "            DIGITS+=1\n",
    "    print(f\" LETTERS {LETTERS}\")\n",
    "    print(f\" DIGITS {DIGITS}\")\n",
    "    \n",
    "sentodig()  "
   ]
  },
  {
   "cell_type": "markdown",
   "id": "ff0003c5",
   "metadata": {},
   "source": [
    "# Question 6: A website requires the users to input username and password to register. Write a program to check the validity of password input by users.\n",
    "\n",
    "Following are the criteria for checking the password:\n",
    "\n",
    "1. At least 1 letter between [a-z]\n",
    "\n",
    "2. At least 1 number between [0-9]\n",
    "\n",
    "1. At least 1 letter between [A-Z]\n",
    "\n",
    "3. At least 1 character from [$#@]\n",
    "\n",
    "4. Minimum length of transaction password: 6\n",
    "\n",
    "5. Maximum length of transaction password: 12\n",
    "\n",
    "Your program should accept a sequence of comma separated passwords and will check them according to the above criteria. Passwords that match the criteria are to be printed, each separated by a comma.\n",
    "\n",
    "Example\n",
    "\n",
    "If the following passwords are given as input to the program:\n",
    "\n",
    "ABd1234@1,a F1#,2w3E*,2We3345\n",
    "\n",
    "Then, the output of the program should be:\n",
    "\n",
    "ABd1234@1"
   ]
  },
  {
   "cell_type": "code",
   "execution_count": 40,
   "id": "e384f8ba",
   "metadata": {},
   "outputs": [
    {
     "name": "stdout",
     "output_type": "stream",
     "text": [
      "enter the password: ABd1234@1,a F1#,2w3E*,2We3345\n",
      "ABd1234@1\n"
     ]
    }
   ],
   "source": [
    "def checkpass():\n",
    "    p=str(input(\"enter the password: \"))\n",
    "    special_list = \"$#@\"\n",
    "    for ele in p.split(\",\"):\n",
    "        if len(ele) <= 12 and len(ele) >=6 :\n",
    "            if any(i.isupper() for i in ele):\n",
    "                if any(i.islower() for i in ele):\n",
    "                    if any(i for i in ele if i in special_list):\n",
    "                        print(ele)\n",
    "    \n",
    "checkpass()  "
   ]
  },
  {
   "cell_type": "code",
   "execution_count": null,
   "id": "3fed197e",
   "metadata": {},
   "outputs": [],
   "source": []
  }
 ],
 "metadata": {
  "kernelspec": {
   "display_name": "Python 3 (ipykernel)",
   "language": "python",
   "name": "python3"
  },
  "language_info": {
   "codemirror_mode": {
    "name": "ipython",
    "version": 3
   },
   "file_extension": ".py",
   "mimetype": "text/x-python",
   "name": "python",
   "nbconvert_exporter": "python",
   "pygments_lexer": "ipython3",
   "version": "3.9.13"
  }
 },
 "nbformat": 4,
 "nbformat_minor": 5
}
