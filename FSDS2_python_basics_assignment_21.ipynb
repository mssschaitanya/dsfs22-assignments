{
 "cells": [
  {
   "cell_type": "markdown",
   "id": "e96fef8d",
   "metadata": {},
   "source": [
    "# 1. Add the current date to the text file today.txt as a string."
   ]
  },
  {
   "cell_type": "code",
   "execution_count": 1,
   "id": "9f240c2d",
   "metadata": {},
   "outputs": [
    {
     "name": "stdout",
     "output_type": "stream",
     "text": [
      "16-02-2023\n"
     ]
    }
   ],
   "source": [
    "import datetime\n",
    "\n",
    "file = open('today.txt','w')\n",
    "file.write(datetime.datetime.now().strftime(\"%d-%m-%Y\"))\n",
    "file.close()\n",
    "\n",
    "file = open('today.txt','r')\n",
    "print(file.read())\n",
    "file.close()"
   ]
  },
  {
   "cell_type": "markdown",
   "id": "3488fe22",
   "metadata": {},
   "source": [
    "# 2. Read the text file today.txt into the string today_string"
   ]
  },
  {
   "cell_type": "code",
   "execution_count": 2,
   "id": "daf3ae6b",
   "metadata": {},
   "outputs": [
    {
     "name": "stdout",
     "output_type": "stream",
     "text": [
      "16-02-2023\n"
     ]
    }
   ],
   "source": [
    "file = open('today.txt','r')\n",
    "today_string = file.read()\n",
    "print(today_string)"
   ]
  },
  {
   "cell_type": "markdown",
   "id": "4c3de198",
   "metadata": {},
   "source": [
    "# 3. Parse the date from today_string."
   ]
  },
  {
   "cell_type": "code",
   "execution_count": 4,
   "id": "12b2dec5",
   "metadata": {},
   "outputs": [
    {
     "name": "stdout",
     "output_type": "stream",
     "text": [
      "2023-02-16 00:00:00\n"
     ]
    }
   ],
   "source": [
    "from datetime import datetime\n",
    "parsed_data = datetime.strptime(today_string, '%d-%m-%Y')\n",
    "print(parsed_data)           "
   ]
  },
  {
   "cell_type": "markdown",
   "id": "afd9c263",
   "metadata": {},
   "source": [
    "# 4. List the files in your current directory"
   ]
  },
  {
   "cell_type": "code",
   "execution_count": null,
   "id": "dbeea294",
   "metadata": {},
   "outputs": [],
   "source": [
    "import os\n",
    "for folders, subfolders, files in os.walk(os.getcwd()):\n",
    "    for file in files:\n",
    "        print(file)"
   ]
  },
  {
   "cell_type": "code",
   "execution_count": null,
   "id": "ba6f67ac",
   "metadata": {},
   "outputs": [],
   "source": [
    "# copied from output of 4th question bcz it increases the memory size of file, don't know the reason.\n",
    "Assignment_No_1.ipynb\n",
    "books.csv\n",
    "books.db\n",
    "dec17 class notes.ipynb\n",
    "demo_002.ipynb\n",
    "demo_003.ipynb\n",
    "demo_004.ipynb\n",
    "demo_005.ipynb\n",
    "demo_006.ipynb\n",
    "FSDS2_python_basics_assignment_1 .ipynb\n",
    "FSDS2_python_basics_assignment_10.ipynb\n",
    "FSDS2_python_basics_assignment_11.ipynb\n",
    "FSDS2_python_basics_assignment_12.ipynb\n",
    "FSDS2_python_basics_assignment_13.ipynb\n",
    "FSDS2_python_basics_assignment_14.ipynb\n",
    "FSDS2_python_basics_assignment_15.ipynb\n",
    "FSDS2_python_basics_assignment_16.ipynb\n",
    "FSDS2_python_basics_assignment_17.ipynb\n",
    "FSDS2_python_basics_assignment_18.ipynb\n",
    "FSDS2_python_basics_assignment_19.ipynb\n",
    "FSDS2_python_basics_assignment_2.ipynb\n",
    "FSDS2_python_basics_assignment_20.ipynb\n",
    "FSDS2_python_basics_assignment_21.ipynb\n",
    "FSDS2_python_basics_assignment_3.ipynb\n",
    "FSDS2_python_basics_assignment_4.ipynb\n",
    "FSDS2_python_basics_assignment_5.ipynb\n",
    "FSDS2_python_basics_assignment_6.ipynb\n",
    "FSDS2_python_basics_assignment_7 .ipynb\n",
    "FSDS2_python_basics_assignment_8.ipynb\n",
    "FSDS2_python_basics_assignment_9.ipynb\n",
    "FSDS2_python_basics_programming_assignment_1 .ipynb\n",
    "FSDS2_python_basics_programming_assignment_2.ipynb\n",
    "FSDS2_python_basics_programming_assignment_3.ipynb\n",
    "FSDS2_python_basics_programming_assignment_4.ipynb\n",
    "FSDS2_python_basics_programming_assignment_5.ipynb\n",
    "FSDS2_python_basics_programming_assignment_6.ipynb\n",
    "FSDS2_python_basics_programming_assignment_7.ipynb\n",
    "Function.ipynb"
   ]
  },
  {
   "cell_type": "markdown",
   "id": "de9ffe20",
   "metadata": {},
   "source": [
    "# 5. Create a list of all of the files in your parent directory (minimum five files should be available)."
   ]
  },
  {
   "cell_type": "code",
   "execution_count": 6,
   "id": "6e9ee576",
   "metadata": {},
   "outputs": [
    {
     "data": {
      "text/plain": [
       "['.conda',\n",
       " '.condarc',\n",
       " '.continuum',\n",
       " '.dbus-keyrings',\n",
       " '.git-for-windows-updater',\n",
       " '.ipynb_checkpoints',\n",
       " '.ipython',\n",
       " '.jupyter',\n",
       " '19 nov questions.ipynb',\n",
       " '3D Objects',\n",
       " 'anaconda3',\n",
       " 'ansel',\n",
       " 'AppData',\n",
       " 'Application Data',\n",
       " 'Assignment_No_1.ipynb',\n",
       " 'books.csv',\n",
       " 'books.db',\n",
       " 'Calibre Library',\n",
       " 'Contacts',\n",
       " 'Cookies',\n",
       " 'dec17 class notes.ipynb',\n",
       " 'demo_002.ipynb',\n",
       " 'demo_003.ipynb',\n",
       " 'demo_004.ipynb',\n",
       " 'demo_005.ipynb',\n",
       " 'demo_006.ipynb',\n",
       " 'Desktop',\n",
       " 'Documents',\n",
       " 'Downloads',\n",
       " 'Favorites',\n",
       " 'FSDS2_python_basics_assignment_1 .ipynb',\n",
       " 'FSDS2_python_basics_assignment_10.ipynb',\n",
       " 'FSDS2_python_basics_assignment_11.ipynb',\n",
       " 'FSDS2_python_basics_assignment_12.ipynb',\n",
       " 'FSDS2_python_basics_assignment_13.ipynb',\n",
       " 'FSDS2_python_basics_assignment_14.ipynb',\n",
       " 'FSDS2_python_basics_assignment_15.ipynb',\n",
       " 'FSDS2_python_basics_assignment_16.ipynb',\n",
       " 'FSDS2_python_basics_assignment_17.ipynb',\n",
       " 'FSDS2_python_basics_assignment_18.ipynb',\n",
       " 'FSDS2_python_basics_assignment_19.ipynb',\n",
       " 'FSDS2_python_basics_assignment_2.ipynb',\n",
       " 'FSDS2_python_basics_assignment_20.ipynb',\n",
       " 'FSDS2_python_basics_assignment_21.ipynb',\n",
       " 'FSDS2_python_basics_assignment_3.ipynb',\n",
       " 'FSDS2_python_basics_assignment_4.ipynb',\n",
       " 'FSDS2_python_basics_assignment_5.ipynb',\n",
       " 'FSDS2_python_basics_assignment_6.ipynb',\n",
       " 'FSDS2_python_basics_assignment_7 .ipynb',\n",
       " 'FSDS2_python_basics_assignment_8.ipynb',\n",
       " 'FSDS2_python_basics_assignment_9.ipynb',\n",
       " 'FSDS2_python_basics_programming_assignment_1 .ipynb',\n",
       " 'FSDS2_python_basics_programming_assignment_2.ipynb',\n",
       " 'FSDS2_python_basics_programming_assignment_3.ipynb',\n",
       " 'FSDS2_python_basics_programming_assignment_4.ipynb',\n",
       " 'FSDS2_python_basics_programming_assignment_5.ipynb',\n",
       " 'FSDS2_python_basics_programming_assignment_6.ipynb',\n",
       " 'FSDS2_python_basics_programming_assignment_7.ipynb',\n",
       " 'Function.ipynb',\n",
       " 'function_30th_oct_practice_FSDS_2_0.ipynb',\n",
       " 'function_continued_(2).ipynb',\n",
       " 'hellothere.docx',\n",
       " 'IntelGraphicsProfiles',\n",
       " 'Links',\n",
       " 'Local Settings',\n",
       " 'maths for machine learning.pdf',\n",
       " 'MicrosoftEdgeBackups',\n",
       " 'mongodb practice jan8 class.ipynb',\n",
       " 'Music',\n",
       " 'My Documents',\n",
       " 'my notes and assignment 1 msss.ipynb',\n",
       " 'NetHood',\n",
       " 'New document 1.2022_03_21_10_51_10.0.svg',\n",
       " 'New document 1.2022_03_21_18_29_24.0.svg',\n",
       " 'New document 1.2022_03_21_18_55_02.0.svg',\n",
       " 'New document 1.2022_04_02_12_15_44.0.svg',\n",
       " 'NTUSER.DAT',\n",
       " 'ntuser.dat.LOG1',\n",
       " 'ntuser.dat.LOG2',\n",
       " 'NTUSER.DAT{53b39e88-18c4-11ea-a811-000d3aa4692b}.TM.blf',\n",
       " 'NTUSER.DAT{53b39e88-18c4-11ea-a811-000d3aa4692b}.TMContainer00000000000000000001.regtrans-ms',\n",
       " 'NTUSER.DAT{53b39e88-18c4-11ea-a811-000d3aa4692b}.TMContainer00000000000000000002.regtrans-ms',\n",
       " 'ntuser.ini',\n",
       " 'OneDrive',\n",
       " 'part 1 solutions.ipynb',\n",
       " 'Pictures',\n",
       " 'PrintHood',\n",
       " 'prog_assignment_10-PYB_fsds2.ipynb',\n",
       " 'prog_assignment_11-PYB_fsds2.ipynb',\n",
       " 'prog_assignment_12-PYB_fsds2.ipynb',\n",
       " 'prog_assignment_8 -PYB_fsds2.ipynb',\n",
       " 'prog_assignment_9 -PYB_fsds2.ipynb',\n",
       " 'Python-task-01 Nov-main.zip',\n",
       " 'Recent',\n",
       " 'rough.ipynb',\n",
       " 'Saved Games',\n",
       " 'Searches',\n",
       " 'SendTo',\n",
       " 'Start Menu',\n",
       " 't1.jpg',\n",
       " 'Templates',\n",
       " 'test.txt',\n",
       " 'text.txt',\n",
       " 'tnew.jpg',\n",
       " 'today.txt',\n",
       " 'Tracing',\n",
       " 'university_records.csv',\n",
       " 'Untitled.ipynb',\n",
       " 'Untitled1.ipynb',\n",
       " 'Videos',\n",
       " 'zoo.py',\n",
       " '__pycache__']"
      ]
     },
     "execution_count": 6,
     "metadata": {},
     "output_type": "execute_result"
    }
   ],
   "source": [
    "import os \n",
    "os.listdir()"
   ]
  },
  {
   "cell_type": "markdown",
   "id": "2b448d70",
   "metadata": {},
   "source": [
    "# 6. Use multiprocessing to create three separate processes. Make each one wait a random number of seconds between one and five, print the current time, and then exit."
   ]
  },
  {
   "cell_type": "code",
   "execution_count": 14,
   "id": "091a57c0",
   "metadata": {},
   "outputs": [],
   "source": [
    "import multiprocessing\n",
    "import time \n",
    "import random\n",
    "import datetime\n",
    "import zoo\n",
    "\n",
    "def procOne():\n",
    "    print(f'Proc_one_Starttime -> {datetime.datetime.now()}')\n",
    "    time.sleep(random.randint(1,5))\n",
    "    print(f'Proc_one_Endtime -> {datetime.datetime.now()}')\n",
    "    \n",
    "def procTwo():\n",
    "    print(f'Proc_two_Starttime -> {datetime.datetime.now()}')\n",
    "    time.sleep(random.randint(1,5))\n",
    "    print(f'Proc_two_Endtime -> {datetime.datetime.now()}')\n",
    "\n",
    "def procThree():\n",
    "    print(f'Proc_two_Starttime -> {datetime.datetime.now()}')\n",
    "    time.sleep(random.randint(1,5))\n",
    "    print(f'Proc_two_Endtime -> {datetime.datetime.now()}')\n",
    "    \n",
    "if __name__ == \"__main__\":    \n",
    "    p1 = multiprocessing.Process(target=procOne)\n",
    "    p2 = multiprocessing.Process(target=procTwo)\n",
    "    p3 = multiprocessing.Process(target=procThree)\n",
    "\n",
    "    p1.start()\n",
    "    p2.start()\n",
    "    p3.start()\n",
    "\n",
    "    p1.join()\n",
    "    p2.join()\n",
    "    p3.join()\n"
   ]
  },
  {
   "cell_type": "code",
   "execution_count": null,
   "id": "a3641cdb",
   "metadata": {},
   "outputs": [],
   "source": [
    "# output collected from ineuron lab and pasted in local jupiter notebook\n",
    "Proc_one_Starttime -> 2023-02-16 12:37:26.452580\n",
    "Proc_two_Starttime -> 2023-02-16 12:37:26.456641\n",
    "Proc_two_Starttime -> 2023-02-16 12:37:26.462192\n",
    "Proc_one_Endtime -> 2023-02-16 12:37:27.458337\n",
    "Proc_two_Endtime -> 2023-02-16 12:37:29.461755\n",
    "Proc_two_Endtime -> 2023-02-16 12:37:29.468789"
   ]
  },
  {
   "cell_type": "markdown",
   "id": "11b283a5",
   "metadata": {},
   "source": [
    "# 7. Create a date object of your day of birth."
   ]
  },
  {
   "cell_type": "code",
   "execution_count": 8,
   "id": "336748a2",
   "metadata": {},
   "outputs": [
    {
     "name": "stdout",
     "output_type": "stream",
     "text": [
      "1994-01-18 00:00:00 <class 'datetime.datetime'>\n"
     ]
    }
   ],
   "source": [
    "from datetime import datetime\n",
    "my_dob = datetime.strptime('18/01/1994','%d/%m/%Y')\n",
    "print(my_dob, type(my_dob))"
   ]
  },
  {
   "cell_type": "markdown",
   "id": "a8c48981",
   "metadata": {},
   "source": [
    "# 8. What day of the week was your day of birth?"
   ]
  },
  {
   "cell_type": "code",
   "execution_count": 9,
   "id": "b7097998",
   "metadata": {},
   "outputs": [
    {
     "data": {
      "text/plain": [
       "'Tuesday'"
      ]
     },
     "execution_count": 9,
     "metadata": {},
     "output_type": "execute_result"
    }
   ],
   "source": [
    "from datetime import datetime\n",
    "my_dob = datetime(1994,1,18)\n",
    "my_dob.strftime(\"%A\")"
   ]
  },
  {
   "cell_type": "markdown",
   "id": "8ba13ba4",
   "metadata": {},
   "source": [
    "# 9. When will you be (or when were you) 10,000 days old?"
   ]
  },
  {
   "cell_type": "code",
   "execution_count": 11,
   "id": "ef245b9f",
   "metadata": {},
   "outputs": [
    {
     "data": {
      "text/plain": [
       "datetime.datetime(2021, 6, 5, 0, 0)"
      ]
     },
     "execution_count": 11,
     "metadata": {},
     "output_type": "execute_result"
    }
   ],
   "source": [
    "from datetime import datetime, timedelta\n",
    "my_dob = datetime.strptime(\"18/01/1994\",'%d/%m/%Y')\n",
    "future_date = my_dob+timedelta(10000)\n",
    "future_date"
   ]
  },
  {
   "cell_type": "code",
   "execution_count": null,
   "id": "cb7caeee",
   "metadata": {},
   "outputs": [],
   "source": []
  }
 ],
 "metadata": {
  "kernelspec": {
   "display_name": "Python 3 (ipykernel)",
   "language": "python",
   "name": "python3"
  },
  "language_info": {
   "codemirror_mode": {
    "name": "ipython",
    "version": 3
   },
   "file_extension": ".py",
   "mimetype": "text/x-python",
   "name": "python",
   "nbconvert_exporter": "python",
   "pygments_lexer": "ipython3",
   "version": "3.9.13"
  }
 },
 "nbformat": 4,
 "nbformat_minor": 5
}
