{
 "cells": [
  {
   "cell_type": "markdown",
   "id": "56fbddaa",
   "metadata": {},
   "source": [
    "# 1.Write a Python Program to find sum of array?"
   ]
  },
  {
   "cell_type": "code",
   "execution_count": 2,
   "id": "03ec59aa",
   "metadata": {},
   "outputs": [
    {
     "name": "stdout",
     "output_type": "stream",
     "text": [
      "Enter the elements separated by space 1 2 3 4 \n",
      "10\n"
     ]
    }
   ],
   "source": [
    "array = list(map(int,input(\"Enter the elements separated by space \").split()))\n",
    "print(sum(array))"
   ]
  },
  {
   "cell_type": "markdown",
   "id": "918d2b91",
   "metadata": {},
   "source": [
    "# 2.Write a Python Program to find largest element in an array?"
   ]
  },
  {
   "cell_type": "code",
   "execution_count": 3,
   "id": "c8d0487d",
   "metadata": {},
   "outputs": [
    {
     "name": "stdout",
     "output_type": "stream",
     "text": [
      "Enter the elements separated by space 23 32 44\n",
      "44\n"
     ]
    }
   ],
   "source": [
    "array = list(map(int,input(\"Enter the elements separated by space \").split()))\n",
    "print(max(array))"
   ]
  },
  {
   "cell_type": "markdown",
   "id": "0d4c59b4",
   "metadata": {},
   "source": [
    "# 3.Write a Python Program for array rotation?"
   ]
  },
  {
   "cell_type": "code",
   "execution_count": 4,
   "id": "7d0f132d",
   "metadata": {},
   "outputs": [
    {
     "name": "stdout",
     "output_type": "stream",
     "text": [
      "Enter the elements separated by space1 2 3 4\n",
      "Enter the number of rotations 2\n",
      "[3, 4, 1, 2]\n"
     ]
    }
   ],
   "source": [
    "lst = list(map(int,input(\"Enter the elements separated by space\").split()))\n",
    "n = int(input(\"Enter the number of rotations \"))\n",
    "print(lst[len(lst)-n:]+lst[:len(lst)-n])\n"
   ]
  },
  {
   "cell_type": "markdown",
   "id": "1e910bd8",
   "metadata": {},
   "source": [
    "# 4.Write a Python Program to Split the array and add the first part to the end?"
   ]
  },
  {
   "cell_type": "code",
   "execution_count": 7,
   "id": "cbaa9c9e",
   "metadata": {},
   "outputs": [
    {
     "name": "stdout",
     "output_type": "stream",
     "text": [
      "Enter the elements separated by space1 2 3 4 5\n",
      "[4, 5, 1, 2, 3]\n"
     ]
    }
   ],
   "source": [
    "lst = list(map(int,input(\"Enter the elements separated by space\").split()))\n",
    "if len(lst)%2==0:\n",
    "    mid = len(lst)//2\n",
    "else:\n",
    "    mid = len(lst)//2+1\n",
    "print(lst[mid:]+lst[:mid]) # making 2 parts using slicing then places swapped"
   ]
  },
  {
   "cell_type": "markdown",
   "id": "55c339f7",
   "metadata": {},
   "source": [
    "# 5.Write a Python Program to check if given array is Monotonic?"
   ]
  },
  {
   "cell_type": "code",
   "execution_count": 21,
   "id": "e6b3b6ec",
   "metadata": {},
   "outputs": [
    {
     "name": "stdout",
     "output_type": "stream",
     "text": [
      "True\n"
     ]
    }
   ],
   "source": [
    "# monotonic is a math function which means varying in such a way that it either never decreases or never increases.\n",
    "# First copy the given array into two different arrays using extend()\n",
    "# Sort the first array in ascending order using sort()\n",
    "# Sort the second array in descending order using sort(reverse=True)\n",
    "# If the given array is equal to any of the two arrays then the array is monotonic\n",
    "\n",
    "def ismonotonic(l):\n",
    "    x, y = [], []\n",
    "    x.extend(l)\n",
    "    y.extend(l)\n",
    "    x.sort()              # ascending\n",
    "    y.sort(reverse=True)  # descending\n",
    "    if(x == l or y == l): # either asc or desc order returns true\n",
    "        return True\n",
    "    return False\n",
    "l=[4,3,2,1] \n",
    "print(ismonotonic(l))"
   ]
  },
  {
   "cell_type": "code",
   "execution_count": null,
   "id": "3ed4f209",
   "metadata": {},
   "outputs": [],
   "source": []
  }
 ],
 "metadata": {
  "kernelspec": {
   "display_name": "Python 3 (ipykernel)",
   "language": "python",
   "name": "python3"
  },
  "language_info": {
   "codemirror_mode": {
    "name": "ipython",
    "version": 3
   },
   "file_extension": ".py",
   "mimetype": "text/x-python",
   "name": "python",
   "nbconvert_exporter": "python",
   "pygments_lexer": "ipython3",
   "version": "3.9.13"
  }
 },
 "nbformat": 4,
 "nbformat_minor": 5
}
