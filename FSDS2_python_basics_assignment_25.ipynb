{
 "cells": [
  {
   "cell_type": "markdown",
   "id": "755d8ddf",
   "metadata": {},
   "source": [
    "# 1) . What is the difference between enclosing a list comprehension in square brackets and parentheses?"
   ]
  },
  {
   "cell_type": "code",
   "execution_count": 6,
   "id": "7df0b6c2",
   "metadata": {},
   "outputs": [
    {
     "name": "stdout",
     "output_type": "stream",
     "text": [
      "l is [1, 2, 3] &  type <class 'list'>\n",
      "g is <generator object <genexpr> at 0x000001A01D49BB30> &  type <class 'generator'>\n"
     ]
    }
   ],
   "source": [
    "# Enclosing a list comprehension in square brackets returns a list.but where as enclosing a list comprehension in \n",
    "# parentheses returns a generator object\n",
    "l = [1,2,3]\n",
    "print(f'l is {l} &  type {type(l)}')\n",
    "g = (ele for ele in range(3))\n",
    "print(f'g is {g} &  type {type(g)}')"
   ]
  },
  {
   "cell_type": "markdown",
   "id": "d3ed7948",
   "metadata": {},
   "source": [
    "# 2) What is the relationship between generators and iterators?\n",
    "Python objects that iterate through iterable objects are called Iterators. It is used to iterate over objects by returning one value at a time. Iterators are created by using the iter() function. The function next() is used to get the subsequent value from the iterator.\n",
    "\n",
    "A generator is a type of function that returns a generator object, which can return a sequence of values instead of a single result. The def keyword is commonly used to define generators. At least one yield statement is required in a generator.\n",
    "\n",
    "Iterators are created using classes whereas generators are created using functions.Iterators don’t use any variables to iterate whereas generators use local variables and store the state of those variables whenever the loop is paused by the yield statement. In Python, all generators are iterators. This can be proved by the fact that generators are a subclass of iterators."
   ]
  },
  {
   "cell_type": "code",
   "execution_count": 7,
   "id": "0edd24ad",
   "metadata": {},
   "outputs": [
    {
     "name": "stdout",
     "output_type": "stream",
     "text": [
      "1\n",
      "2\n",
      "3\n"
     ]
    }
   ],
   "source": [
    "iter_list = iter(['1', '2', '3'])\n",
    "print(next(iter_list))\n",
    "print(next(iter_list))\n",
    "print(next(iter_list))\n"
   ]
  },
  {
   "cell_type": "code",
   "execution_count": 12,
   "id": "bb6d1df3",
   "metadata": {},
   "outputs": [
    {
     "name": "stdout",
     "output_type": "stream",
     "text": [
      "0\n",
      "1\n",
      "4\n"
     ]
    }
   ],
   "source": [
    "def square(num):\n",
    "    for ele in range(num+1):\n",
    "        yield ele*ele\n",
    "\n",
    "num = square(4)\n",
    "print(next(num))\n",
    "print(next(num))\n",
    "print(next(num))\n"
   ]
  },
  {
   "cell_type": "markdown",
   "id": "a7d8514f",
   "metadata": {},
   "source": [
    "# 3) What are the signs that a function is a generator function?\n",
    "A generator function uses a yield statement instead of a return statement. A generator function will always return a iterable object called generator. where as a normal function can return a string/list/tuple/dict/NoneType ... etc"
   ]
  },
  {
   "cell_type": "markdown",
   "id": "3f56a4f5",
   "metadata": {},
   "source": [
    "# 4) What is the purpose of a yield statement?\n",
    "the yield keyword will turn any expression that is given with it into a generator object and return it to the caller. Therefore, you must iterate over the generator object if you wish to obtain the values stored there.Using yield keyword is highly memory efficient, since the execution happens only when the caller iterates over the object.As the variables states are saved, we can pause and resume from the same point, thus saving time."
   ]
  },
  {
   "cell_type": "markdown",
   "id": "87384775",
   "metadata": {},
   "source": [
    "# 5) What is the relationship between map calls and list comprehensions? Make a comparison and contrast between the two.\n",
    "if we have a function and we want to compute this function for different values in a single line of code . This is where map() function plays its role ! map() function returns a map object(which is an iterator) of the results after applying the given function to each item of a given iterable (list, tuple etc.)\n"
   ]
  },
  {
   "cell_type": "code",
   "execution_count": 13,
   "id": "3471927b",
   "metadata": {},
   "outputs": [
    {
     "name": "stdout",
     "output_type": "stream",
     "text": [
      "<map object at 0x000001A01D548730>\n",
      "[2, 4, 6, 8]\n"
     ]
    }
   ],
   "source": [
    "def num (n) :\n",
    "    return n * 2\n",
    "lst = [1,2,3,4]\n",
    "\n",
    "x = map(num, lst)\n",
    "print(x)\n",
    "\n",
    "print(list(x))\n"
   ]
  },
  {
   "cell_type": "code",
   "execution_count": null,
   "id": "5d77a843",
   "metadata": {},
   "outputs": [],
   "source": []
  }
 ],
 "metadata": {
  "kernelspec": {
   "display_name": "Python 3 (ipykernel)",
   "language": "python",
   "name": "python3"
  },
  "language_info": {
   "codemirror_mode": {
    "name": "ipython",
    "version": 3
   },
   "file_extension": ".py",
   "mimetype": "text/x-python",
   "name": "python",
   "nbconvert_exporter": "python",
   "pygments_lexer": "ipython3",
   "version": "3.9.13"
  }
 },
 "nbformat": 4,
 "nbformat_minor": 5
}
