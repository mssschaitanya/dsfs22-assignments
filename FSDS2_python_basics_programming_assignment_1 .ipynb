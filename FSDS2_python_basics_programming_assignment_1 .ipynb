{
 "cells": [
  {
   "cell_type": "markdown",
   "id": "4f8ce7e8",
   "metadata": {},
   "source": [
    "# 1.Write a Python program to print \"Hello Python\"?"
   ]
  },
  {
   "cell_type": "code",
   "execution_count": 2,
   "id": "ad6d9968",
   "metadata": {},
   "outputs": [
    {
     "name": "stdout",
     "output_type": "stream",
     "text": [
      "\"Hello python\"\n"
     ]
    }
   ],
   "source": [
    "print('\"Hello python\"')"
   ]
  },
  {
   "cell_type": "markdown",
   "id": "bb02f128",
   "metadata": {},
   "source": [
    "# 2.Write a Python program to do arithmetical operations addition and division.?"
   ]
  },
  {
   "cell_type": "code",
   "execution_count": 16,
   "id": "c46090a9",
   "metadata": {},
   "outputs": [
    {
     "name": "stdout",
     "output_type": "stream",
     "text": [
      "value of x:6\n",
      "value of y:3\n",
      "choose an ooperator + or /:/\n",
      "value of x/y=2.0\n"
     ]
    }
   ],
   "source": [
    "x=int(input('value of x:'))\n",
    "y=int(input('value of y:'))\n",
    "z=input('choose an ooperator + or /:')\n",
    "if z=='+':\n",
    "    print(f'sum of x,y={x+y}')\n",
    "elif z=='/':\n",
    "    print(f'value of x/y={x/y}')\n",
    "else:print('plz check your eyes and try again')"
   ]
  },
  {
   "cell_type": "markdown",
   "id": "87526a06",
   "metadata": {},
   "source": [
    "# 3.Write a Python program to find the area of a triangle?"
   ]
  },
  {
   "cell_type": "code",
   "execution_count": 17,
   "id": "b1274a29",
   "metadata": {},
   "outputs": [
    {
     "name": "stdout",
     "output_type": "stream",
     "text": [
      "enter the value of traingle height:5\n",
      "enter the value of traingle base:4\n",
      "area of traingle=10.0\n"
     ]
    }
   ],
   "source": [
    "height=float(input('enter the value of traingle height:'))\n",
    "base=float(input('enter the value of traingle base:'))\n",
    "if height>=base: \n",
    "    print(f'area of traingle={0.5*height*base}')\n",
    "else:print(\"invalid values\")   "
   ]
  },
  {
   "cell_type": "markdown",
   "id": "26bb50d0",
   "metadata": {},
   "source": [
    "# 4.Write a Python program to swap two variables?"
   ]
  },
  {
   "cell_type": "code",
   "execution_count": 22,
   "id": "5ee41920",
   "metadata": {},
   "outputs": [
    {
     "name": "stdout",
     "output_type": "stream",
     "text": [
      "first variable value:2\n",
      "second variable value:hi\n",
      "variables before swapping 2,hi\n",
      "variables after swaping hi,2\n"
     ]
    }
   ],
   "source": [
    "x=input('first variable value:')\n",
    "y=input('second variable value:')\n",
    "print(f'variables before swapping {x},{y}')\n",
    "x,y=y,x\n",
    "print(f'variables after swaping {x},{y}')"
   ]
  },
  {
   "cell_type": "markdown",
   "id": "de45500e",
   "metadata": {},
   "source": [
    "# 5.Write a Python program to generate a random number?"
   ]
  },
  {
   "cell_type": "code",
   "execution_count": 31,
   "id": "02f0d257",
   "metadata": {},
   "outputs": [
    {
     "name": "stdout",
     "output_type": "stream",
     "text": [
      "Random number =  5\n"
     ]
    }
   ],
   "source": [
    "from random import randint  # randint random integer\n",
    "\n",
    "def generateRandomNumber(start=1, end=6):\n",
    "    print('Random number = ',randint(start,end))\n",
    "\n",
    "    \n",
    "generateRandomNumber(1,6)"
   ]
  },
  {
   "cell_type": "code",
   "execution_count": null,
   "id": "4d74bc49",
   "metadata": {},
   "outputs": [],
   "source": []
  },
  {
   "cell_type": "code",
   "execution_count": null,
   "id": "7c2db81a",
   "metadata": {},
   "outputs": [],
   "source": []
  }
 ],
 "metadata": {
  "kernelspec": {
   "display_name": "Python 3 (ipykernel)",
   "language": "python",
   "name": "python3"
  },
  "language_info": {
   "codemirror_mode": {
    "name": "ipython",
    "version": 3
   },
   "file_extension": ".py",
   "mimetype": "text/x-python",
   "name": "python",
   "nbconvert_exporter": "python",
   "pygments_lexer": "ipython3",
   "version": "3.9.13"
  }
 },
 "nbformat": 4,
 "nbformat_minor": 5
}
