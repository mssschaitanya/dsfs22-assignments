{
 "cells": [
  {
   "cell_type": "markdown",
   "id": "b5e97641",
   "metadata": {},
   "source": [
    "# 1.What exactly is [ ]?\n",
    "ANS: The empty list is represent by [] means list contain no items."
   ]
  },
  {
   "cell_type": "markdown",
   "id": "e4d2880c",
   "metadata": {},
   "source": [
    "# 2. In a list of values stored in a variable called spam, how would you assign the value 'hello' as the third value? (Assume [2, 4, 6, 8, 10] are in spam.)"
   ]
  },
  {
   "cell_type": "code",
   "execution_count": 2,
   "id": "0137a33f",
   "metadata": {},
   "outputs": [
    {
     "name": "stdout",
     "output_type": "stream",
     "text": [
      "[2, 4, 'hello', 8, 10]\n"
     ]
    }
   ],
   "source": [
    "spam=[2,4,6,8,10]\n",
    "spam[2]='hello'   #3rd value index is 2\n",
    "print(spam)"
   ]
  },
  {
   "cell_type": "markdown",
   "id": "bc55ab7f",
   "metadata": {},
   "source": [
    "# Let's pretend the spam includes the list ['a', 'b', 'c', 'd'] for the next three queries."
   ]
  },
  {
   "cell_type": "markdown",
   "id": "c41f61bb",
   "metadata": {},
   "source": [
    "# 3. What is the value of spam[int(int('3' * 2) / 11)]?"
   ]
  },
  {
   "cell_type": "code",
   "execution_count": 3,
   "id": "446ffe21",
   "metadata": {},
   "outputs": [
    {
     "data": {
      "text/plain": [
       "'d'"
      ]
     },
     "execution_count": 3,
     "metadata": {},
     "output_type": "execute_result"
    }
   ],
   "source": [
    "spam=['a','b','c','d'] # given\n",
    "spam[int(int('3' * 2) / 11)] # it gives value d because '3' is string so ('3' * 2) becomes 33/11=3 so 3rd index is d"
   ]
  },
  {
   "cell_type": "markdown",
   "id": "b8f95735",
   "metadata": {},
   "source": [
    "# 4. What is the value of spam[-1]?"
   ]
  },
  {
   "cell_type": "code",
   "execution_count": 4,
   "id": "14adf964",
   "metadata": {},
   "outputs": [
    {
     "data": {
      "text/plain": [
       "'d'"
      ]
     },
     "execution_count": 4,
     "metadata": {},
     "output_type": "execute_result"
    }
   ],
   "source": [
    "spam[-1]"
   ]
  },
  {
   "cell_type": "markdown",
   "id": "dea7d512",
   "metadata": {},
   "source": [
    "# 5. What is the value of spam[:2]?"
   ]
  },
  {
   "cell_type": "code",
   "execution_count": 5,
   "id": "39771bff",
   "metadata": {},
   "outputs": [
    {
     "data": {
      "text/plain": [
       "['a', 'b']"
      ]
     },
     "execution_count": 5,
     "metadata": {},
     "output_type": "execute_result"
    }
   ],
   "source": [
    "spam[:2]  # [:n] print from 0 to n-1 index values"
   ]
  },
  {
   "cell_type": "markdown",
   "id": "5ae954f1",
   "metadata": {},
   "source": [
    "# Let's pretend bacon has the list [3.14, 'cat,' 11, 'cat,' True] for the next three questions."
   ]
  },
  {
   "cell_type": "markdown",
   "id": "873688ab",
   "metadata": {},
   "source": [
    "# 6. What is the value of bacon.index('cat')?"
   ]
  },
  {
   "cell_type": "code",
   "execution_count": 7,
   "id": "002226ee",
   "metadata": {},
   "outputs": [
    {
     "data": {
      "text/plain": [
       "1"
      ]
     },
     "execution_count": 7,
     "metadata": {},
     "output_type": "execute_result"
    }
   ],
   "source": [
    "bacon=[3.14, 'cat', 11, 'cat', True]\n",
    "bacon.index('cat')    # this inbuilt function used to know the index of an element. if there are duplicates then gives first occurance."
   ]
  },
  {
   "cell_type": "markdown",
   "id": "cbfdb071",
   "metadata": {},
   "source": [
    "# 7. How does bacon.append(99) change the look of the list value in bacon?"
   ]
  },
  {
   "cell_type": "code",
   "execution_count": 17,
   "id": "e81f9bfa",
   "metadata": {},
   "outputs": [
    {
     "data": {
      "text/plain": [
       "[3.14, 'cat', 11, 'cat', True, 99]"
      ]
     },
     "execution_count": 17,
     "metadata": {},
     "output_type": "execute_result"
    }
   ],
   "source": [
    "bacon=[3.14, 'cat', 11, 'cat', True]\n",
    "bacon.append(99) # append function used to add element at end of the list. it is permanent\n",
    "bacon"
   ]
  },
  {
   "cell_type": "markdown",
   "id": "719dbeda",
   "metadata": {},
   "source": [
    "# 8. How does bacon.remove('cat') change the look of the list in bacon?"
   ]
  },
  {
   "cell_type": "code",
   "execution_count": 19,
   "id": "5dfae3c3",
   "metadata": {},
   "outputs": [
    {
     "data": {
      "text/plain": [
       "[3.14, 11, 'cat', True]"
      ]
     },
     "execution_count": 19,
     "metadata": {},
     "output_type": "execute_result"
    }
   ],
   "source": [
    "bacon=[3.14, 'cat', 11, 'cat', True]\n",
    "bacon.remove('cat') # x.remove(y) function used to remove element y from list x (first occurance). \n",
    "bacon"
   ]
  },
  {
   "cell_type": "markdown",
   "id": "43d287a8",
   "metadata": {},
   "source": [
    "# 9. What are the list concatenation and list replication operators?"
   ]
  },
  {
   "cell_type": "code",
   "execution_count": 20,
   "id": "ecd31ab1",
   "metadata": {},
   "outputs": [
    {
     "data": {
      "text/plain": [
       "'\\n1) In Python, the + operator can be used to concatenate two lists, which means that it combines the elements of the two lists \\ninto a single list.\\n2) The * operator can be used to replicate a list a certain number of times.\\n'"
      ]
     },
     "execution_count": 20,
     "metadata": {},
     "output_type": "execute_result"
    }
   ],
   "source": [
    "\"\"\"\n",
    "1) In Python, the + operator can be used to concatenate two lists, which means that it combines the elements of the two lists \n",
    "into a single list.\n",
    "2) The * operator can be used to replicate a list a certain number of times.\n",
    "\"\"\""
   ]
  },
  {
   "cell_type": "code",
   "execution_count": 23,
   "id": "ce24269a",
   "metadata": {},
   "outputs": [
    {
     "data": {
      "text/plain": [
       "[2, 0, 2, 3]"
      ]
     },
     "execution_count": 23,
     "metadata": {},
     "output_type": "execute_result"
    }
   ],
   "source": [
    "# example for list concatenation \n",
    "x=[2,0]\n",
    "y=[2,3]\n",
    "z=x+y\n",
    "z"
   ]
  },
  {
   "cell_type": "code",
   "execution_count": 24,
   "id": "5816e1e2",
   "metadata": {},
   "outputs": [
    {
     "data": {
      "text/plain": [
       "[2, 0, 2, 0]"
      ]
     },
     "execution_count": 24,
     "metadata": {},
     "output_type": "execute_result"
    }
   ],
   "source": [
    "# example for list replication \n",
    "2*x"
   ]
  },
  {
   "cell_type": "markdown",
   "id": "3598be28",
   "metadata": {},
   "source": [
    "# 10. What is difference between the list methods append() and insert()?"
   ]
  },
  {
   "cell_type": "code",
   "execution_count": 26,
   "id": "a8575a2c",
   "metadata": {},
   "outputs": [
    {
     "data": {
      "text/plain": [
       "[1, 2, 3, 4, 5]"
      ]
     },
     "execution_count": 26,
     "metadata": {},
     "output_type": "execute_result"
    }
   ],
   "source": [
    "# append function used to add element at end of the list. it is permanent.\n",
    "# example for append \n",
    "x=[1,2,3,4]\n",
    "x.append(5)\n",
    "x"
   ]
  },
  {
   "cell_type": "code",
   "execution_count": 28,
   "id": "3bfac00b",
   "metadata": {},
   "outputs": [
    {
     "data": {
      "text/plain": [
       "[1, 5, 2, 3, 4]"
      ]
     },
     "execution_count": 28,
     "metadata": {},
     "output_type": "execute_result"
    }
   ],
   "source": [
    "# insert function used to add an element at specific position.\n",
    "# example for insert\n",
    "x=[1,2,3,4]\n",
    "x.insert(1,5) # here 5 is added at index 1\n",
    "x"
   ]
  },
  {
   "cell_type": "markdown",
   "id": "d20acc38",
   "metadata": {},
   "source": [
    "# 11. What are the two methods for removing items from a list?"
   ]
  },
  {
   "cell_type": "code",
   "execution_count": 29,
   "id": "84f09993",
   "metadata": {},
   "outputs": [
    {
     "data": {
      "text/plain": [
       "[1, 2, 3]"
      ]
     },
     "execution_count": 29,
     "metadata": {},
     "output_type": "execute_result"
    }
   ],
   "source": [
    "# removing items from list \n",
    "# method 1 example\n",
    "x=[1,2,3,4]\n",
    "x.pop() # removes last element by default\n",
    "x"
   ]
  },
  {
   "cell_type": "code",
   "execution_count": 32,
   "id": "31c589ce",
   "metadata": {},
   "outputs": [
    {
     "data": {
      "text/plain": [
       "[2, 3, 4]"
      ]
     },
     "execution_count": 32,
     "metadata": {},
     "output_type": "execute_result"
    }
   ],
   "source": [
    "x=[1,2,3,4]\n",
    "x.pop(0)  # removes 0 index element\n",
    "x"
   ]
  },
  {
   "cell_type": "code",
   "execution_count": 33,
   "id": "70219052",
   "metadata": {},
   "outputs": [
    {
     "data": {
      "text/plain": [
       "[1, 2, 4]"
      ]
     },
     "execution_count": 33,
     "metadata": {},
     "output_type": "execute_result"
    }
   ],
   "source": [
    "# removing items from list \n",
    "# method 2 example\n",
    "x=[1,2,3,4]\n",
    "x.remove(3) # removes first occurance of specified element (not index)\n",
    "x"
   ]
  },
  {
   "cell_type": "markdown",
   "id": "fd83cf91",
   "metadata": {},
   "source": [
    "# 12. Describe how list values and string values are identical"
   ]
  },
  {
   "cell_type": "code",
   "execution_count": 34,
   "id": "bd6713f1",
   "metadata": {},
   "outputs": [
    {
     "data": {
      "text/plain": [
       "'In Python, both lists and strings are sequence types, which means that they are collections of values \\nthat can be iterated over. Both lists and strings can contain elements of any data type, and both can be indexed, \\nsliced, and modified using a variety of built-in methods.\\n\\nOne key difference between lists and strings is that lists are mutable, which means that their values can be changed after\\nthey are created. Strings, on the other hand, are immutable, which means that their values cannot be changed once they are \\ncreated.'"
      ]
     },
     "execution_count": 34,
     "metadata": {},
     "output_type": "execute_result"
    }
   ],
   "source": [
    "\"\"\"In Python, both lists and strings are sequence types, which means that they are collections of values \n",
    "that can be iterated over. Both lists and strings can contain elements of any data type, and both can be indexed, \n",
    "sliced, and modified using a variety of built-in methods.\n",
    "\n",
    "One key difference between lists and strings is that lists are mutable, which means that their values can be changed after\n",
    "they are created. Strings, on the other hand, are immutable, which means that their values cannot be changed once they are \n",
    "created.\"\"\""
   ]
  },
  {
   "cell_type": "markdown",
   "id": "4c085706",
   "metadata": {},
   "source": [
    "# 13. What's the difference between tuples and lists?\n",
    " Lists are Mutable, Indexable and Slicable. they can have values added, removed, or changed. Tuples are Immutable but Indexable and Slicable. the tuple values cannot be changed at all. Also, tuples are represented using parentheses, (), while lists use the square brackets, []."
   ]
  },
  {
   "cell_type": "markdown",
   "id": "84da04a7",
   "metadata": {},
   "source": [
    "# 14. How do you type a tuple value that only contains the integer 42?"
   ]
  },
  {
   "cell_type": "code",
   "execution_count": 38,
   "id": "3734d819",
   "metadata": {},
   "outputs": [
    {
     "name": "stdout",
     "output_type": "stream",
     "text": [
      "w is <class 'tuple'>\n",
      "x is <class 'int'>\n",
      "y is <class 'int'>\n",
      "z is <class 'tuple'>\n"
     ]
    }
   ],
   "source": [
    "w=(42,)\n",
    "print(f'w is {type(w)}')\n",
    "x=(42)\n",
    "print(f'x is {type(x)}')\n",
    "y=42\n",
    "print(f'y is {type(y)}')\n",
    "z=42,\n",
    "print(f'z is {type(z)}')\n"
   ]
  },
  {
   "cell_type": "markdown",
   "id": "db4e3556",
   "metadata": {},
   "source": [
    " # 15. How do you get a list value's tuple form? How do you get a tuple value's list form? \n",
    " Ans. The tuple() and list() functions, are used respectively to convert a list to tuple and tuple to list\n"
   ]
  },
  {
   "cell_type": "code",
   "execution_count": 40,
   "id": "95665dc5",
   "metadata": {},
   "outputs": [
    {
     "name": "stdout",
     "output_type": "stream",
     "text": [
      "<class 'tuple'> now changed to list [1, 2, 3]\n",
      "<class 'list'> now changed to tuple (1, 2, 3)\n"
     ]
    }
   ],
   "source": [
    "x=(1,2,3)\n",
    "print(f'{type(x)} now changed to list {list(x)}')\n",
    "y=[4,5,6]\n",
    "print(f'{type(y)} now changed to tuple {tuple(x)}')"
   ]
  },
  {
   "cell_type": "markdown",
   "id": "c7e74cf3",
   "metadata": {},
   "source": [
    "# 16. Variables that \"contain\" list values are not necessarily lists themselves. Instead, what do they contain?\n",
    "Ans. In Python, when we assign a list to a variable, the variable does not actually contain the list itself. Instead, it contains a reference to the list object in memory."
   ]
  },
  {
   "cell_type": "markdown",
   "id": "7da2495c",
   "metadata": {},
   "source": [
    "# 17. How do you distinguish between copy.copy() and copy.deepcopy()?\n",
    "Ans. copy.copy() and copy.deepcopy() are functions that are used to create copies of objects in Python. \n",
    "\n",
    "copy.copy() creates a shallow copy of an object. This means that it creates a new object with a new reference, but the contents of the object (e.g. the elements of a list or the attributes of a dictionary) are still references to the same objects as in the original.\n",
    "\n",
    "copy.deepcopy() creates a deep copy of an object. This means that it creates a new object with a new reference, and it also recursively creates new copies of all the objects that are referenced within the original object.\n"
   ]
  },
  {
   "cell_type": "code",
   "execution_count": 50,
   "id": "9211a84e",
   "metadata": {},
   "outputs": [
    {
     "name": "stdout",
     "output_type": "stream",
     "text": [
      "my_list original [1, 2, 3, 4]\n",
      "my_list after modification [5, 2, 3, 4]\n",
      "shallow_copy after modification of 0 index [1, 2, 3, 4]\n",
      "my_list after new modification [6, 2, 3, 4]\n",
      "deep_copy after modification [5, 2, 3, 4]\n"
     ]
    }
   ],
   "source": [
    "import copy\n",
    "\n",
    "my_list = [1, 2, 3, 4]\n",
    "print(f'my_list original {my_list}')\n",
    "\n",
    "# Create a shallow copy of `my_list` using `copy.copy()`\n",
    "shallow_copy = copy.copy(my_list)\n",
    "\n",
    "# Modify the original list\n",
    "my_list[0] = 5\n",
    "\n",
    "print(f'my_list after modification {my_list}')\n",
    "\n",
    "# The shallow copy reflects the changes made to the original list,\n",
    "# because it contains references to the same objects as the original list\n",
    "print(f'shallow_copy after modification of 0 index {shallow_copy}')\n",
    "\n",
    "# Create a deep copy of `my_list` using `copy.deepcopy()`\n",
    "deep_copy = copy.deepcopy(my_list)\n",
    "\n",
    "\n",
    "# Modify the original list again\n",
    "my_list[0] = 6\n",
    "\n",
    "print(f'my_list after new modification {my_list}')\n",
    "\n",
    "# The deep copy does not reflect the changes made to the original list,\n",
    "# because it contains new copies of all the objects in the original list\n",
    "print(f'deep_copy after modification {deep_copy}')  "
   ]
  },
  {
   "cell_type": "code",
   "execution_count": null,
   "id": "8cc4c327",
   "metadata": {},
   "outputs": [],
   "source": []
  }
 ],
 "metadata": {
  "kernelspec": {
   "display_name": "Python 3 (ipykernel)",
   "language": "python",
   "name": "python3"
  },
  "language_info": {
   "codemirror_mode": {
    "name": "ipython",
    "version": 3
   },
   "file_extension": ".py",
   "mimetype": "text/x-python",
   "name": "python",
   "nbconvert_exporter": "python",
   "pygments_lexer": "ipython3",
   "version": "3.9.13"
  }
 },
 "nbformat": 4,
 "nbformat_minor": 5
}
