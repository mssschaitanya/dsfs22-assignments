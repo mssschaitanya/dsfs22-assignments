{
 "cells": [
  {
   "cell_type": "markdown",
   "id": "851a7361",
   "metadata": {},
   "source": [
    "# 1. What advantages do Excel spreadsheets have over CSV spreadsheets?\n",
    "Excel advantages over CSV\n",
    "1. It is a binary file that holds information about all the worksheets in a workbook\n",
    "2. An Excel not only stores data but can also do operations on the data\n",
    "3. Files saved in excel cannot be opened or edited by text editors\n",
    "4. large files user is much easier in Excel for the end user. Also, \n",
    "    you can have additional functions like selecting individual cells for import, \n",
    "    convert dates and time automatically, reading formulas and their results, filters, sorting, etc\n",
    "5. Apart from text, data can also be stored in form of charts and graphs\n",
    "6. Excel can connect to external data sources to fetch data. You can use custom add-in in Excel to increase its functionality. \n",
    "7. Excel allows for Review of Data with detailed tracking and commenting feature\n",
    "8. In Excel, spreadsheets can have values of data types other than strings; cells can have different fonts, sizes, \n",
    "   or color settings; cells can have varying widths and heights; adjacent cells can be merged"
   ]
  },
  {
   "cell_type": "markdown",
   "id": "5c475c55",
   "metadata": {},
   "source": [
    "# 2.What do you pass to csv.reader() and csv.writer() to create reader and writer objects?\n",
    "we pass a File object, obtained from a call to open()."
   ]
  },
  {
   "cell_type": "markdown",
   "id": "fbdeb9f1",
   "metadata": {},
   "source": [
    "# 3. What modes do File objects for reader and writer objects need to be opened in?\n",
    "File objects need to be opened in read-binary ('rb') for Reader objects and write-binary ('wb') for Writer objects"
   ]
  },
  {
   "cell_type": "code",
   "execution_count": null,
   "id": "20c23ddd",
   "metadata": {},
   "outputs": [],
   "source": [
    "import csv\n",
    "File = open('example.csv')\n",
    "Freader = csv.Freader(File)\n",
    "Data = list(reader)\n",
    "Data"
   ]
  },
  {
   "cell_type": "markdown",
   "id": "bd6e7856",
   "metadata": {},
   "source": [
    "# 4.What method takes a list argument and writes it to a CSV file?\n",
    "csv.writer class provides two methods for writing to CSV. They are writerow() and writerows(). writerow() method writes a single row at a time. Whereas writerows() method is used to write multiple rows at a time."
   ]
  },
  {
   "cell_type": "code",
   "execution_count": 3,
   "id": "c4e47a33",
   "metadata": {},
   "outputs": [],
   "source": [
    "import csv      \n",
    "fields = ['Name', 'Branch', 'Year', 'CGPA'] #column names \n",
    "rows = [ \n",
    "            ['Nikhil', 'COE', '2', '9.0'],  # data rows of csv file \n",
    "            ['Sanchit', 'COE', '2', '9.1'], \n",
    "            ['Ravi', 'IT', '2', '9.3']\n",
    "       ] \n",
    "with open(\"university_records.csv\", 'w') as csvfile: \n",
    "    csvwriter = csv.writer(csvfile) # creating a csv writer object \n",
    "    csvwriter.writerow(fields) # writing the fields \n",
    "    csvwriter.writerows(rows) # writing the data rows "
   ]
  },
  {
   "cell_type": "markdown",
   "id": "d26646ba",
   "metadata": {},
   "source": [
    "# 5.What do the keyword arguments delimiter and line terminator do?\n",
    "The delimiter argument changes the string used to separate cells in a row. \n",
    "The lineterminator argument changes the string used to separate rows."
   ]
  },
  {
   "cell_type": "markdown",
   "id": "a2df6a60",
   "metadata": {},
   "source": [
    "# 6. What function takes a string of JSON data and returns a Python data structure?\n",
    "loads() method takes a string of JSON data and returns a Python data structure"
   ]
  },
  {
   "cell_type": "code",
   "execution_count": 5,
   "id": "98c613a3",
   "metadata": {},
   "outputs": [
    {
     "name": "stdout",
     "output_type": "stream",
     "text": [
      "{'name': 'sai', 'age': 33, 'city': 'Vijayawada'}\n"
     ]
    }
   ],
   "source": [
    "import json\n",
    "json_data = '{\"name\": \"sai\", \"age\": 33, \"city\": \"Vijayawada\"}'  # like dictionary\n",
    "data = json.loads(json_data)                                   # storing into variable\n",
    "print(data)  "
   ]
  },
  {
   "cell_type": "markdown",
   "id": "faed29ab",
   "metadata": {},
   "source": [
    "# 7.What function takes a Python data structure and returns a string of JSON data?\n",
    "dumps() method takes a python data structure and returns a string of JSON data"
   ]
  },
  {
   "cell_type": "code",
   "execution_count": 6,
   "id": "1897f5ae",
   "metadata": {},
   "outputs": [
    {
     "name": "stdout",
     "output_type": "stream",
     "text": [
      "\"{\\\"name\\\": \\\"sai\\\", \\\"age\\\": 33, \\\"city\\\": \\\"Vijayawada\\\"}\"\n"
     ]
    }
   ],
   "source": [
    "json_data = '{\"name\": \"sai\", \"age\": 33, \"city\": \"Vijayawada\"}'  # like dictionary\n",
    "data = json.dumps(json_data)                                   # storing into variable\n",
    "print(data)"
   ]
  },
  {
   "cell_type": "code",
   "execution_count": null,
   "id": "aa093d33",
   "metadata": {},
   "outputs": [],
   "source": []
  }
 ],
 "metadata": {
  "kernelspec": {
   "display_name": "Python 3 (ipykernel)",
   "language": "python",
   "name": "python3"
  },
  "language_info": {
   "codemirror_mode": {
    "name": "ipython",
    "version": 3
   },
   "file_extension": ".py",
   "mimetype": "text/x-python",
   "name": "python",
   "nbconvert_exporter": "python",
   "pygments_lexer": "ipython3",
   "version": "3.9.13"
  }
 },
 "nbformat": 4,
 "nbformat_minor": 5
}
