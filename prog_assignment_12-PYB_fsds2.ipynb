{
 "cells": [
  {
   "cell_type": "markdown",
   "id": "509d4824",
   "metadata": {},
   "source": [
    "# 1.Write a Python program to Extract Unique values dictionary values?"
   ]
  },
  {
   "cell_type": "code",
   "execution_count": 3,
   "id": "99107c7a",
   "metadata": {},
   "outputs": [
    {
     "name": "stdout",
     "output_type": "stream",
     "text": [
      "dicitonary unique values = ['iraq', 'israel', 'india', 'iran']\n"
     ]
    }
   ],
   "source": [
    "dictionary={1:\"india\",2:\"israel\",3:\"iraq\",4:\"iran\",5:\"india\",6:\"israel\"}\n",
    "print(f\"dicitonary unique values = {list(set(dictionary.values()))}\")"
   ]
  },
  {
   "cell_type": "markdown",
   "id": "4b9cce23",
   "metadata": {},
   "source": [
    "# 2.Write a Python program to find the sum of all items in a dictionary?"
   ]
  },
  {
   "cell_type": "code",
   "execution_count": 9,
   "id": "84491013",
   "metadata": {},
   "outputs": [
    {
     "name": "stdout",
     "output_type": "stream",
     "text": [
      "45\n"
     ]
    }
   ],
   "source": [
    "d={15:\"apple\", 30:\"mangoes\"}\n",
    "print(sum(i for i in d.keys()))"
   ]
  },
  {
   "cell_type": "markdown",
   "id": "12b2d2a2",
   "metadata": {},
   "source": [
    "# 3.Write a Python program to Merging two Dictionaries?"
   ]
  },
  {
   "cell_type": "code",
   "execution_count": 12,
   "id": "cf30ec21",
   "metadata": {},
   "outputs": [
    {
     "name": "stdout",
     "output_type": "stream",
     "text": [
      "{'country_name': 'India', 'kabaddi': ['Kumar', 'Maik']}\n"
     ]
    }
   ],
   "source": [
    "gold = {'country_name':'India'}\n",
    "players = {'kabaddi':['Kumar','Maik']}\n",
    "gold.update(players)\n",
    "print(gold)"
   ]
  },
  {
   "cell_type": "markdown",
   "id": "105586a0",
   "metadata": {},
   "source": [
    "# 4.Write a Python program to convert key-values list to flat dictionary?"
   ]
  },
  {
   "cell_type": "code",
   "execution_count": 11,
   "id": "890e2d2d",
   "metadata": {},
   "outputs": [
    {
     "name": "stdout",
     "output_type": "stream",
     "text": [
      "Flattened dictionary :  {1: 'Jan', 2: 'Feb', 3: 'March'}\n"
     ]
    }
   ],
   "source": [
    "test_dict = {'month' : [1, 2, 3],\n",
    "            'name' : ['Jan', 'Feb', 'March']}\n",
    "\n",
    "x=list(test_dict.values())\n",
    "a=x[0]\n",
    "b=x[1]\n",
    "d=dict()\n",
    "for i in range(0,len(a)):\n",
    "    d[a[i]]=b[i]\n",
    "\n",
    "print(\"Flattened dictionary : \",d)"
   ]
  },
  {
   "cell_type": "markdown",
   "id": "b9b6d629",
   "metadata": {},
   "source": [
    "# 5.Write a Python program to insertion at the beginning in OrderedDict?"
   ]
  },
  {
   "cell_type": "code",
   "execution_count": 2,
   "id": "e81dff36",
   "metadata": {},
   "outputs": [
    {
     "name": "stdout",
     "output_type": "stream",
     "text": [
      "dict_one OrderedDict([('Apple', 'Iphone'), ('Microsoft', 'Windows')])\n",
      "dict_one OrderedDict([('Google', 'chrome'), ('Apple', 'Iphone'), ('Microsoft', 'Windows')])\n"
     ]
    }
   ],
   "source": [
    "from collections import OrderedDict\n",
    "d1 = OrderedDict({'Apple':'Iphone','Microsoft':'Windows'})\n",
    "print('dict_one',d1)\n",
    "d2={'Google':'chrome'}\n",
    "d1.update(d2)\n",
    "d1.move_to_end('Google',last=False)\n",
    "print('dict_one',d1)"
   ]
  },
  {
   "cell_type": "markdown",
   "id": "97012a83",
   "metadata": {},
   "source": [
    "# 6. Write a Python program to check order of character in string using OrderedDict()?"
   ]
  },
  {
   "cell_type": "code",
   "execution_count": 5,
   "id": "627b6858",
   "metadata": {},
   "outputs": [
    {
     "name": "stdout",
     "output_type": "stream",
     "text": [
      "{'a': 1, 'f': 2, 'd': 3, 'c': 4, 'b': 5, 'e': 6}\n",
      "OrderedDict([('a', 1), ('b', 5), ('c', 4), ('d', 3), ('e', 6), ('f', 2)])\n"
     ]
    }
   ],
   "source": [
    "from collections import OrderedDict\n",
    "\n",
    "l1 = {'a': 1,'f': 2,'d': 3,'c': 4,'b': 5,'e': 6}\n",
    "print(l1)\n",
    "\n",
    "l2 = OrderedDict(dict(sorted(l1.items())))  # sorts based on keys\n",
    "print(l2)"
   ]
  },
  {
   "cell_type": "markdown",
   "id": "a9fb7366",
   "metadata": {},
   "source": [
    "# 7.Write a Python program to sort Python Dictionaries by Key or Value?"
   ]
  },
  {
   "cell_type": "code",
   "execution_count": 11,
   "id": "378c224d",
   "metadata": {},
   "outputs": [
    {
     "name": "stdout",
     "output_type": "stream",
     "text": [
      "OrderedDict([('aeroplane', 40), ('jet', 60), ('train', 80)])\n"
     ]
    }
   ],
   "source": [
    "from collections import OrderedDict\n",
    "d = {'jet':60,'aeroplane':40,'train':80}\n",
    "\n",
    "d1=OrderedDict(sorted(d.items()))\n",
    "print(d1)"
   ]
  },
  {
   "cell_type": "code",
   "execution_count": null,
   "id": "b3489b44",
   "metadata": {},
   "outputs": [],
   "source": []
  }
 ],
 "metadata": {
  "kernelspec": {
   "display_name": "Python 3 (ipykernel)",
   "language": "python",
   "name": "python3"
  },
  "language_info": {
   "codemirror_mode": {
    "name": "ipython",
    "version": 3
   },
   "file_extension": ".py",
   "mimetype": "text/x-python",
   "name": "python",
   "nbconvert_exporter": "python",
   "pygments_lexer": "ipython3",
   "version": "3.9.13"
  }
 },
 "nbformat": 4,
 "nbformat_minor": 5
}
