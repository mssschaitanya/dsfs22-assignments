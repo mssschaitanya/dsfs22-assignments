{
 "cells": [
  {
   "cell_type": "code",
   "execution_count": 3,
   "id": "daf1c0e1",
   "metadata": {},
   "outputs": [],
   "source": [
    "# 1. What is the result of the code, and why?\n",
    "# >>> def func(a, b=6, c=8):\n",
    "# print(a, b, c)\n",
    "# >>> func(1, 2)\n",
    "# Ans. it prints 1 2 8 bcz it takes default falue from c and given values of a,b"
   ]
  },
  {
   "cell_type": "code",
   "execution_count": 2,
   "id": "390162a4",
   "metadata": {},
   "outputs": [
    {
     "name": "stdout",
     "output_type": "stream",
     "text": [
      "1 2 8\n"
     ]
    }
   ],
   "source": [
    "def func(a, b=6, c=8):\n",
    "    print(a,b,c) \n",
    "func(1, 2)"
   ]
  },
  {
   "cell_type": "code",
   "execution_count": 6,
   "id": "6dc54742",
   "metadata": {},
   "outputs": [],
   "source": [
    "# 2. What is the result of this code, and why?\n",
    "# >>> def func(a, b, c=5):\n",
    "# print(a, b, c)\n",
    "# >>> func(1, c=3, b=2)\n",
    "# it prints 1 2 3 it doesn't take default values when we provided arguments"
   ]
  },
  {
   "cell_type": "code",
   "execution_count": 5,
   "id": "ba8fb2f3",
   "metadata": {},
   "outputs": [
    {
     "name": "stdout",
     "output_type": "stream",
     "text": [
      "1 2 3\n"
     ]
    }
   ],
   "source": [
    "def func(a, b, c=5):\n",
    "    print(a, b, c)\n",
    "func(1, c=3, b=2)"
   ]
  },
  {
   "cell_type": "code",
   "execution_count": 7,
   "id": "b826b71b",
   "metadata": {},
   "outputs": [],
   "source": [
    "# 3. How about this code: what is its result, and why?\n",
    "# >>> def func(a, *pargs):\n",
    "# print(a, pargs)\n",
    "# >>> func(1, 2, 3)"
   ]
  },
  {
   "cell_type": "code",
   "execution_count": 8,
   "id": "1d52cf18",
   "metadata": {},
   "outputs": [
    {
     "name": "stdout",
     "output_type": "stream",
     "text": [
      "1 (2, 3)\n"
     ]
    }
   ],
   "source": [
    "def func(a, *pargs):\n",
    "    print(a, pargs)\n",
    "func(1, 2, 3)\n",
    "# The result of the code is 1 (2,3). *pargs stands for variable length arguments. \n",
    "# this format is used when the no of arguments vary. \n",
    "# all the values under this argument will be stored in a tuple."
   ]
  },
  {
   "cell_type": "code",
   "execution_count": 9,
   "id": "882c07d6",
   "metadata": {},
   "outputs": [],
   "source": [
    "# 4. What does this code print, and why?\n",
    "# >>> def func(a, **kargs):\n",
    "# print(a, kargs)\n",
    "# >>> func(a=1, c=3, b=2)"
   ]
  },
  {
   "cell_type": "code",
   "execution_count": 11,
   "id": "936e4d2b",
   "metadata": {},
   "outputs": [
    {
     "name": "stdout",
     "output_type": "stream",
     "text": [
      "1 {'c': 3, 'b': 2}\n"
     ]
    }
   ],
   "source": [
    "def func(a, **kargs):\n",
    "    print(a, kargs)\n",
    "func(a=1, c=3, b=2)\n",
    "# The result of the code is 1 {'c': 3, 'b': 2}. *kargs stands for varaible length keyword arguments. \n",
    "# all the values under this argument will be stored in a dictionary."
   ]
  },
  {
   "cell_type": "code",
   "execution_count": 12,
   "id": "dff4d985",
   "metadata": {},
   "outputs": [],
   "source": [
    "# 5. What gets printed by this, and explain?\n",
    "# >>> def func(a, b, c=8, d=5): print(a, b, c, d)\n",
    "# >>> func(1, *(5, 6))"
   ]
  },
  {
   "cell_type": "code",
   "execution_count": 14,
   "id": "d5186c6e",
   "metadata": {},
   "outputs": [
    {
     "name": "stdout",
     "output_type": "stream",
     "text": [
      "1 5 6 5\n"
     ]
    }
   ],
   "source": [
    "def func(a, b, c=8, d=5): print(a, b, c, d)\n",
    "func(1, *(5, 6))\n",
    "# it prints 1 5 6 5. it takes first given 3 values in order and d value from default."
   ]
  },
  {
   "cell_type": "code",
   "execution_count": 15,
   "id": "d4602b3e",
   "metadata": {},
   "outputs": [],
   "source": [
    "# 6. what is the result of this, and explain?\n",
    "# >>> def func(a, b, c): a = 2; b[0] = 'x'; c['a'] = 'y'\n",
    "# >>> l=1; m=[1]; n={'a':0}\n",
    "# >>> func(l, m, n)\n",
    "# >>> l, m, n"
   ]
  },
  {
   "cell_type": "code",
   "execution_count": 17,
   "id": "6abafcd8",
   "metadata": {},
   "outputs": [
    {
     "data": {
      "text/plain": [
       "(1, ['x'], {'a': 'y'})"
      ]
     },
     "execution_count": 17,
     "metadata": {},
     "output_type": "execute_result"
    }
   ],
   "source": [
    "def func(a, b, c): a = 2; b[0] = 'x'; c['a'] = 'y'\n",
    "l=1; m=[1]; n={'a':0}\n",
    "func(l, m, n)\n",
    "l, m, n\n",
    "# it prints (1, ['x'], {'a': 'y'}) here index of  a = 2 is 0, b[0] = 'x' is 1 and c['a'] = 'y' is 2.\n",
    "# it took default value for l which was given in 2nd line, for m it took b[0] value bcz it's index 1\n",
    "# for n it took value of a=2 (c is 2 index) "
   ]
  },
  {
   "cell_type": "code",
   "execution_count": null,
   "id": "630b3240",
   "metadata": {},
   "outputs": [],
   "source": []
  }
 ],
 "metadata": {
  "kernelspec": {
   "display_name": "Python 3 (ipykernel)",
   "language": "python",
   "name": "python3"
  },
  "language_info": {
   "codemirror_mode": {
    "name": "ipython",
    "version": 3
   },
   "file_extension": ".py",
   "mimetype": "text/x-python",
   "name": "python",
   "nbconvert_exporter": "python",
   "pygments_lexer": "ipython3",
   "version": "3.9.13"
  }
 },
 "nbformat": 4,
 "nbformat_minor": 5
}
