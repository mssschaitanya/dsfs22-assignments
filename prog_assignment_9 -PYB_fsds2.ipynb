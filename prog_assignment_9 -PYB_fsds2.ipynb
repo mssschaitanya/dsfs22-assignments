{
 "cells": [
  {
   "cell_type": "markdown",
   "id": "581ba427",
   "metadata": {},
   "source": [
    "# 1.Write a Python program to check if the given number is a Disarium Number?"
   ]
  },
  {
   "cell_type": "code",
   "execution_count": 7,
   "id": "65817e69",
   "metadata": {},
   "outputs": [
    {
     "name": "stdout",
     "output_type": "stream",
     "text": [
      "enter a number: 175\n",
      "175 is disarium number\n"
     ]
    }
   ],
   "source": [
    "# A disarium number is a number in which the sum of the digits to the power of their respective position is equal to \n",
    "# the number itself (position is counted from left to right starting from 1). \n",
    "# Example of a Disarium number is 175, 1¹ + 7² + 5³ = 1 + 49 + 125= 175 \n",
    "\n",
    "def check_dn():\n",
    "    n=input(\"enter a number: \")\n",
    "    x=0\n",
    "    for i in range(len(n)):\n",
    "        x=x+int(n[i])**(i+1)\n",
    "    if x==int(n):\n",
    "        print(f\"{n} is disarium number\")\n",
    "    else: print(f\"{n} is not a disarium number\")\n",
    "check_dn()"
   ]
  },
  {
   "cell_type": "markdown",
   "id": "d0c6c3a6",
   "metadata": {},
   "source": [
    "# 2.Write a Python program to print all disarium numbers between 1 to 100?"
   ]
  },
  {
   "cell_type": "code",
   "execution_count": 23,
   "id": "d40fd718",
   "metadata": {},
   "outputs": [
    {
     "data": {
      "text/plain": [
       "[0, 1, 2, 3, 4, 5, 6, 7, 8, 9, 89]"
      ]
     },
     "execution_count": 23,
     "metadata": {},
     "output_type": "execute_result"
    }
   ],
   "source": [
    "def print_dn(start,end):\n",
    "    x=[]\n",
    "    \n",
    "    for i in range(start,end+1):\n",
    "        sum=0\n",
    "        for j in range(len(str(i))):\n",
    "            sum=sum + int(str(i)[j])**(j+1)\n",
    "        if sum==i:\n",
    "            x.append(i)\n",
    "    return x\n",
    "print_dn(0,100)"
   ]
  },
  {
   "cell_type": "markdown",
   "id": "67cae8bb",
   "metadata": {},
   "source": [
    "# 3. Write a Python program to check if the given number is Happy Number?"
   ]
  },
  {
   "cell_type": "code",
   "execution_count": 25,
   "id": "87de478b",
   "metadata": {},
   "outputs": [
    {
     "name": "stdout",
     "output_type": "stream",
     "text": [
      "28 is a happy number\n"
     ]
    }
   ],
   "source": [
    "def isHappyNumber(num):  \n",
    "    rem = sum = 0  \n",
    "      \n",
    "    #Calculates the sum of squares of digits  \n",
    "    while(num > 0):  \n",
    "        rem = num%10      # remainder gives unit digit\n",
    "        sum = sum + (rem*rem) \n",
    "        num = num//10     # // quotient gives remaing number after removing unit digit\n",
    "    return sum  \n",
    "      \n",
    "num = 28 \n",
    "result = num  \n",
    "   \n",
    "while(result != 1 and result != 4):  \n",
    "    result = isHappyNumber(result) \n",
    "     \n",
    "if(result == 1):  \n",
    "    print(str(num) + \" is a happy number\")  \n",
    "elif(result == 4):  \n",
    "    print(str(num) + \" is not a happy number\")   "
   ]
  },
  {
   "cell_type": "markdown",
   "id": "60f8fbb4",
   "metadata": {},
   "source": [
    "# 4.Write a Python program to print all happy numbers between 1 and 100?"
   ]
  },
  {
   "cell_type": "code",
   "execution_count": 31,
   "id": "f385ec0f",
   "metadata": {},
   "outputs": [
    {
     "name": "stdout",
     "output_type": "stream",
     "text": [
      "1\n",
      "7\n",
      "10\n",
      "13\n",
      "19\n",
      "23\n",
      "28\n",
      "31\n",
      "32\n",
      "44\n",
      "49\n",
      "68\n",
      "70\n",
      "79\n",
      "82\n",
      "86\n",
      "91\n",
      "94\n",
      "97\n",
      "100\n"
     ]
    }
   ],
   "source": [
    "for i in range(1, 101):\n",
    "    number = i\n",
    "    appeared = set()\n",
    "\n",
    "    while number not in appeared:\n",
    "        appeared.add(number)\n",
    "        number = sum([int(x) ** 2 for x in str(number)])\n",
    "\n",
    "    if number == 1:\n",
    "        print(i)"
   ]
  },
  {
   "cell_type": "markdown",
   "id": "ab185c3c",
   "metadata": {},
   "source": [
    "# 5.Write a Python program to determine whether the given number is a Harshad Number?"
   ]
  },
  {
   "cell_type": "code",
   "execution_count": 33,
   "id": "b073f715",
   "metadata": {},
   "outputs": [
    {
     "name": "stdout",
     "output_type": "stream",
     "text": [
      "Enter a Number: 81\n",
      "81 is a Harshad Number\n"
     ]
    }
   ],
   "source": [
    "def checkHarshadNumber():\n",
    "    num = input('Enter a Number: ')\n",
    "    sum = 0\n",
    "    for i in range(len(num)):\n",
    "        sum = sum + int(num[i])\n",
    "    if int(num)%sum == 0:\n",
    "        print(f'{num} is a Harshad Number')\n",
    "    else:\n",
    "        print(f'{num} is a Not Harshad Number')\n",
    "        \n",
    "checkHarshadNumber()"
   ]
  },
  {
   "cell_type": "markdown",
   "id": "6d376e07",
   "metadata": {},
   "source": [
    "# 6.Write a Python program to print all pronic numbers between 1 and 100?"
   ]
  },
  {
   "cell_type": "code",
   "execution_count": 34,
   "id": "0ec4f4ae",
   "metadata": {},
   "outputs": [
    {
     "name": "stdout",
     "output_type": "stream",
     "text": [
      "0\n",
      "2\n",
      "6\n",
      "12\n",
      "20\n",
      "30\n",
      "42\n",
      "56\n",
      "72\n",
      "90\n"
     ]
    }
   ],
   "source": [
    "# pronic numbers are product of 2 consecutive integers\n",
    "\n",
    "for i in range(101):\n",
    "    j = 0\n",
    "    while j<int(i**0.5)+1:\n",
    "        if j*(j+1)==i:         # product of consecutivenumbers\n",
    "            print(i)\n",
    "        j += 1"
   ]
  },
  {
   "cell_type": "code",
   "execution_count": null,
   "id": "0dda9b3a",
   "metadata": {},
   "outputs": [],
   "source": []
  }
 ],
 "metadata": {
  "kernelspec": {
   "display_name": "Python 3 (ipykernel)",
   "language": "python",
   "name": "python3"
  },
  "language_info": {
   "codemirror_mode": {
    "name": "ipython",
    "version": 3
   },
   "file_extension": ".py",
   "mimetype": "text/x-python",
   "name": "python",
   "nbconvert_exporter": "python",
   "pygments_lexer": "ipython3",
   "version": "3.9.13"
  }
 },
 "nbformat": 4,
 "nbformat_minor": 5
}
