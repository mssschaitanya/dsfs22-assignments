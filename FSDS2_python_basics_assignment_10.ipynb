{
 "cells": [
  {
   "cell_type": "markdown",
   "id": "849a3a2c",
   "metadata": {},
   "source": [
    "# 1. How do you distinguish between shutil.copy() and shutil.copytree()?\n",
    "Ans: shutil.copy() method is used to copy the contents of a file from one file to another file/folder, it primary takes two arguments src,dest, src represents the file to be copied where as destination refers to the file/folder to where the src data should be copied, if dest is a folder name the src with exact name will be copied to the dest folder, if its a file then the contents of src will be copied to dest where dest retains it name.\n",
    "\n",
    "shutil.copytree() function is used to copy the entire contents of a folder to other folder. it also takes two arguments src & dest, it copies all the content recursively and stores it in dest. the important catch here is dest must not exist prior to this and it will be created during the copy operation. Permissions and times of directories are copied with shutil.copystat() and individual files are copied using shutil.copy2() by default which can be modified using copy_function attribute.\n",
    "\n",
    "# 2. What function is used to rename files??\n",
    "Ans: os.rename() function is used to rename files or directories using a python program, this function takes two arguments src and dest, src represents the name file/directory which we want to rename, whereas dest represents the new name of the file/directory.\n",
    "\n",
    "# 3. What is the difference between the delete functions in the send2trash and shutil modules?\n",
    "Ans: Shutil module provides a funciton called as shutil.rmtree() which deletes a directory and all its contents. The other functions with similar functionality are os.remove() -> removes a file, os.rmdir() removes a empty directory. The problem with these functions is once a file is deleted. it will be lost permanently, if a file is deleted accidentally using these methods there is no way we can recover the deleted file\n",
    "\n",
    "Where as send2trash module provides a function called send2trash.send2trash() to delete a file/directory. these methods moves the files/directories to trash folder instead of permanently deleting them. hence if a file/folder is deleted accidentally it can be still recovered from trash folder, if is deleted using the send2trash.send2trash() function. send2trash is not included with python standard libary like os & shutil modules. it needs to be installed explicitly using the command !pip install send2trash\n",
    "\n",
    "# 4.ZipFile objects have a close() method just like File objects’ close() method. What ZipFile method is equivalent to File objects’ open() method?\n",
    "Ans: ZipFile Module provides a method called as zipfile.ZipFile() to read and write to zipFiles. it takes arugments lile filename and mode etc zipfile.ZipFile('filename', mode = 'r')\n",
    "\n",
    "# 5.Create a programme that searches a folder tree for files with a certain file extension (such as .pdf or .jpg). Copy these files from whatever location they are in to a new folder.\n"
   ]
  },
  {
   "cell_type": "code",
   "execution_count": 4,
   "id": "8e2e2aa8",
   "metadata": {},
   "outputs": [
    {
     "name": "stdout",
     "output_type": "stream",
     "text": [
      "Looking in C:\\Users\\NEW\\Desktop\\DS\\source for files with extensions of .txt, .pdf, .png\n",
      "Coping C:\\Users\\NEW\\Desktop\\DS\\source\\350interview.txt to C:\\Users\\NEW\\Desktop\\DS\\destination\n",
      "Coping C:\\Users\\NEW\\Desktop\\DS\\source\\maths for machine learning.pdf to C:\\Users\\NEW\\Desktop\\DS\\destination\n",
      "Coping C:\\Users\\NEW\\Desktop\\DS\\source\\python keywords 25.png to C:\\Users\\NEW\\Desktop\\DS\\destination\n"
     ]
    }
   ],
   "source": [
    "# hear i am coping one txt file(350 interview), one pdf(math for ml) and one png image(python keywords) from source folder \n",
    "# to destination named folder.\n",
    "\n",
    "\n",
    "import os, shutil\n",
    "\n",
    "def selectiveCopy(source, extensions, destFolder):\n",
    "    folder = os.path.abspath(source)\n",
    "    destFolder = os.path.abspath(destFolder)\n",
    "    print('Looking in', source, 'for files with extensions of', ', '.join(extensions))\n",
    "    for foldername, subfolders, filenames in os.walk(source):\n",
    "        for filename in filenames:\n",
    "            name, extension = os.path.splitext(filename)\n",
    "            if extension in extensions:\n",
    "                fileAbsPath = foldername + os.path.sep + filename  # os.path.sep is file location \n",
    "                print('Coping', fileAbsPath, 'to', destFolder)\n",
    "                shutil.copy(fileAbsPath, destFolder)\n",
    "\n",
    "extensions = ['.txt', '.pdf','.png']\n",
    "source = \"C:\\\\Users\\\\NEW\\Desktop\\\\DS\\\\source\"         # use \\\\ otherwise single \\ is considered as constant.\n",
    "destFolder =\"C:\\\\Users\\\\NEW\\Desktop\\\\DS\\\\destination\" \n",
    "selectiveCopy(source, extensions, destFolder)"
   ]
  },
  {
   "cell_type": "code",
   "execution_count": null,
   "id": "30d75bed",
   "metadata": {},
   "outputs": [],
   "source": []
  }
 ],
 "metadata": {
  "kernelspec": {
   "display_name": "Python 3 (ipykernel)",
   "language": "python",
   "name": "python3"
  },
  "language_info": {
   "codemirror_mode": {
    "name": "ipython",
    "version": 3
   },
   "file_extension": ".py",
   "mimetype": "text/x-python",
   "name": "python",
   "nbconvert_exporter": "python",
   "pygments_lexer": "ipython3",
   "version": "3.9.13"
  }
 },
 "nbformat": 4,
 "nbformat_minor": 5
}
