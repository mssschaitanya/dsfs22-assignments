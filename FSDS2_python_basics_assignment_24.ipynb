{
 "cells": [
  {
   "cell_type": "markdown",
   "id": "66be3c80",
   "metadata": {},
   "source": [
    "# 1. What is the relationship between def statements and lambda expressions ?\n",
    "Ans. Def can hold multiple expressions while lambda is a uni-expression function. Def generates a function and designates a name to call it later. Lambda forms a function object and returns it. Def can have a return statement. Lambda can’t have return statements. Lambda supports to get used inside a list and dictionary.\n"
   ]
  },
  {
   "cell_type": "markdown",
   "id": "4732a5e3",
   "metadata": {},
   "source": [
    "# 2. What is the benefit of lambda?\n",
    "Ans. lambda can be used to create Nameless/Anonymous functions inside some complex functions if we are planning to use it only once. Moderate to small functions can be created in a single line. Fuctions created using lambda expressions can be assigned to a variable and can be used by simply calling the variable"
   ]
  },
  {
   "cell_type": "markdown",
   "id": "2c2c5940",
   "metadata": {},
   "source": [
    "# 3. Compare and contrast map, filter, and reduce."
   ]
  },
  {
   "cell_type": "code",
   "execution_count": 5,
   "id": "5307c7a5",
   "metadata": {},
   "outputs": [
    {
     "name": "stdout",
     "output_type": "stream",
     "text": [
      "[1, 4, 9, 16]\n"
     ]
    }
   ],
   "source": [
    "# Ans. The map() function is a type of higher-order. map function takes another function as a parameter along with \n",
    "# a sequence of iterables and returns an output after applying the function to each iterable present in the sequence.\n",
    "def newfunc(a):\n",
    "    return a*a\n",
    "x = map(newfunc, (1,2,3,4))  #x is the map object\n",
    "print(list(x))"
   ]
  },
  {
   "cell_type": "code",
   "execution_count": 6,
   "id": "a6471d3c",
   "metadata": {},
   "outputs": [
    {
     "name": "stdout",
     "output_type": "stream",
     "text": [
      "[3, 4]\n"
     ]
    }
   ],
   "source": [
    "# The filter() function is used to create an output list consisting of values for which the function returns true.\n",
    "def func(x):\n",
    "    if x>=3:\n",
    "        return x\n",
    "y = filter(func, (1,2,3,4))  \n",
    "print(list(y))"
   ]
  },
  {
   "cell_type": "code",
   "execution_count": 7,
   "id": "124dc65c",
   "metadata": {},
   "outputs": [
    {
     "name": "stdout",
     "output_type": "stream",
     "text": [
      "[3, 4]\n"
     ]
    }
   ],
   "source": [
    "# combination of lambda and filter\n",
    "y = filter(lambda x: (x>=3), (1,2,3,4))\n",
    "print(list(y))"
   ]
  },
  {
   "cell_type": "code",
   "execution_count": 8,
   "id": "1664a15e",
   "metadata": {},
   "outputs": [
    {
     "data": {
      "text/plain": [
       "10"
      ]
     },
     "execution_count": 8,
     "metadata": {},
     "output_type": "execute_result"
    }
   ],
   "source": [
    "# The reduce() function, as the name describes, applies a given function to the iterables and returns a single value.\n",
    "from functools import reduce\n",
    "reduce(lambda a,b: a+b,[1,2,3,4])"
   ]
  },
  {
   "cell_type": "code",
   "execution_count": 10,
   "id": "4c623bf6",
   "metadata": {},
   "outputs": [
    {
     "name": "stdout",
     "output_type": "stream",
     "text": [
      "14\n"
     ]
    }
   ],
   "source": [
    "# using lambda, filter, reduce, map\n",
    "d = reduce(lambda x,y: x+y,map(lambda x:x+x,filter(lambda x: (x>=3), (1,2,3,4)))) \n",
    "print(d)"
   ]
  },
  {
   "cell_type": "markdown",
   "id": "7484d59d",
   "metadata": {},
   "source": [
    "# 4. What are function annotations, and how are they used?\n",
    "Ans: Function annotations provide a way of associating various parts of a function with arbitrary python expressions at compile time. Annotations of simple parameters def func(x: expression, y: expression = 20):\n",
    "Whereas the annotations for excess parameters are as − def func (**args: expression, **kwargs: expression):"
   ]
  },
  {
   "cell_type": "markdown",
   "id": "c300d686",
   "metadata": {},
   "source": [
    "# 5. What are recursive functions, and how are they used?\n",
    "Ans. a recursive function can be defined as a routine that calls itself directly or indirectly."
   ]
  },
  {
   "cell_type": "markdown",
   "id": "2cab1a8a",
   "metadata": {},
   "source": [
    "# 6. What are some general design guidelines for coding functions?\n",
    "Ans. Always use a docstring to explain the functionality of the function\n",
    "\n",
    "avoid using or limited use of global variables.\n",
    "\n",
    "Proper Identation to increase the code readability.\n",
    "\n",
    "try to follow a naming convention for function names (pascalCase or camelCase) and stick with the same convention throughout the application.\n",
    "\n",
    "Avoid using digits while choosing a variable name.\n",
    "\n",
    "try to use a name for the function which conveys the purpose of the function\n",
    "\n",
    "Local variables should be named using camelCase format (ex: localVariable) whereas Global variables names should be using PascalCase (ex:GlobalVariable).\n",
    "\n",
    "Constant should be represented in allcaps (ex:CONSTANT)."
   ]
  },
  {
   "cell_type": "markdown",
   "id": "dbdf3c35",
   "metadata": {},
   "source": [
    "# 7. Name three or more ways that functions can communicate results to a caller.\n",
    "Some of the ways in which a function can communicate with the calling function is:\n",
    "\n",
    "print\n",
    "\n",
    "return\n",
    "\n",
    "yield"
   ]
  },
  {
   "cell_type": "code",
   "execution_count": null,
   "id": "6b671161",
   "metadata": {},
   "outputs": [],
   "source": []
  }
 ],
 "metadata": {
  "kernelspec": {
   "display_name": "Python 3 (ipykernel)",
   "language": "python",
   "name": "python3"
  },
  "language_info": {
   "codemirror_mode": {
    "name": "ipython",
    "version": 3
   },
   "file_extension": ".py",
   "mimetype": "text/x-python",
   "name": "python",
   "nbconvert_exporter": "python",
   "pygments_lexer": "ipython3",
   "version": "3.9.13"
  }
 },
 "nbformat": 4,
 "nbformat_minor": 5
}
