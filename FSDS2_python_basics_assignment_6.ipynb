{
 "cells": [
  {
   "cell_type": "markdown",
   "id": "bb767fa9",
   "metadata": {},
   "source": [
    "# 1. What are escape characters, and how do you use them?\n",
    "# 3. What is the way to include backslash characters in a string?\n",
    "Ans. To insert characters that are illegal in a string, use an escape character."
   ]
  },
  {
   "cell_type": "code",
   "execution_count": 7,
   "id": "7dc8290c",
   "metadata": {},
   "outputs": [
    {
     "name": "stdout",
     "output_type": "stream",
     "text": [
      "We are the \"ineuron\" from banglore.\n"
     ]
    }
   ],
   "source": [
    "a= \"We are the \\\"ineuron\\\" from banglore.\" # if we don't use \\ it will throw an error. first \\ should be outside the quote.\n",
    "print(a)"
   ]
  },
  {
   "cell_type": "code",
   "execution_count": 5,
   "id": "98f82d03",
   "metadata": {},
   "outputs": [
    {
     "ename": "SyntaxError",
     "evalue": "unexpected character after line continuation character (353343902.py, line 1)",
     "output_type": "error",
     "traceback": [
      "\u001b[1;36m  File \u001b[1;32m\"C:\\Users\\NEW\\AppData\\Local\\Temp\\ipykernel_4232\\353343902.py\"\u001b[1;36m, line \u001b[1;32m1\u001b[0m\n\u001b[1;33m    a= \"We are the \"\\ineuron\"\\ from banglore.\"\u001b[0m\n\u001b[1;37m                     ^\u001b[0m\n\u001b[1;31mSyntaxError\u001b[0m\u001b[1;31m:\u001b[0m unexpected character after line continuation character\n"
     ]
    }
   ],
   "source": [
    "a= \"We are the \"\\ineuron\"\\ from banglore.\""
   ]
  },
  {
   "cell_type": "code",
   "execution_count": 8,
   "id": "1f504481",
   "metadata": {},
   "outputs": [
    {
     "name": "stdout",
     "output_type": "stream",
     "text": [
      "We are the 'ineuron' from banglore.\n"
     ]
    }
   ],
   "source": [
    "a= \"We are the 'ineuron' from banglore.\" # we can use different quotes \n",
    "print(a)"
   ]
  },
  {
   "cell_type": "markdown",
   "id": "39c217b5",
   "metadata": {},
   "source": [
    "# 2. What do the escape characters n and t stand for?\n",
    "Ans. \\n: This represents a newline character. When a string contains this character, it is printed on a new line.\n",
    "\n",
    "\\t: This represents a tab character. When a string contains this character, it is printed with an indentation(4spaces)"
   ]
  },
  {
   "cell_type": "code",
   "execution_count": 11,
   "id": "549bc120",
   "metadata": {},
   "outputs": [
    {
     "name": "stdout",
     "output_type": "stream",
     "text": [
      "hi\n",
      "hellow\n"
     ]
    }
   ],
   "source": [
    "print(\"hi\\nhellow\")"
   ]
  },
  {
   "cell_type": "code",
   "execution_count": 12,
   "id": "75faa4bc",
   "metadata": {},
   "outputs": [
    {
     "name": "stdout",
     "output_type": "stream",
     "text": [
      "hi\thellow\n"
     ]
    }
   ],
   "source": [
    "print(\"hi\\thellow\")"
   ]
  },
  {
   "cell_type": "markdown",
   "id": "426c56e6",
   "metadata": {},
   "source": [
    "# 4. The string \"Howl's Moving Castle\" is a correct value. Why isn't the single quote character in the word Howl's not escaped a problem?\n",
    "Ans. \"Howl's Moving Castle\" is correct value because it is wrapped in double quotes. if we use same quotes ('') then it will throw an error."
   ]
  },
  {
   "cell_type": "markdown",
   "id": "f09648ea",
   "metadata": {},
   "source": [
    "# 5. How do you write a string of newlines if you don't want to use the n character?\n",
    "Ans. with the help of \"\"\"\"\"\" triple quotes we can write multiple lines."
   ]
  },
  {
   "cell_type": "markdown",
   "id": "7173082e",
   "metadata": {},
   "source": [
    "# 6. What are the values of the given expressions?\n",
    "'Hello, world!'[1]\n",
    "'Hello, world!'[0:5]\n",
    "'Hello, world!'[:5]\n",
    "'Hello, world!'[3:]"
   ]
  },
  {
   "cell_type": "code",
   "execution_count": 14,
   "id": "2953ed87",
   "metadata": {},
   "outputs": [
    {
     "name": "stdout",
     "output_type": "stream",
     "text": [
      "e\n",
      "Hello\n",
      "Hello\n",
      "lo, world!\n"
     ]
    }
   ],
   "source": [
    "print('Hello, world!'[1])  # prints index 1, index starts from 0\n",
    "print( 'Hello, world!'[0:5]) # prints from 0 to 4\n",
    "print('Hello, world!'[:5])   # if value is not given then it starts from 0\n",
    "print('Hello, world!'[3:])   # # if value is not given then it prints upto end"
   ]
  },
  {
   "cell_type": "markdown",
   "id": "92a51109",
   "metadata": {},
   "source": [
    "# 7. What are the values of the following expressions?\n",
    "'Hello'.upper()\n",
    "'Hello'.upper().isupper()\n",
    "'Hello'.upper().lower()"
   ]
  },
  {
   "cell_type": "code",
   "execution_count": 15,
   "id": "2e1e068c",
   "metadata": {},
   "outputs": [
    {
     "name": "stdout",
     "output_type": "stream",
     "text": [
      "HELLO\n",
      "True\n",
      "hello\n"
     ]
    }
   ],
   "source": [
    "print('Hello'.upper())\n",
    "print('Hello'.upper().isupper())\n",
    "print('Hello'.upper().lower())"
   ]
  },
  {
   "cell_type": "markdown",
   "id": "ce8f31eb",
   "metadata": {},
   "source": [
    "# 8. What are the values of the following expressions?\n",
    "'Remember, remember, the fifth of July.'.split()\n",
    "\n",
    "'-'.join('There can only one.'.split())"
   ]
  },
  {
   "cell_type": "code",
   "execution_count": 16,
   "id": "c92df42d",
   "metadata": {},
   "outputs": [
    {
     "data": {
      "text/plain": [
       "['Remember,', 'remember,', 'the', 'fifth', 'of', 'July.']"
      ]
     },
     "execution_count": 16,
     "metadata": {},
     "output_type": "execute_result"
    }
   ],
   "source": [
    "'Remember, remember, the fifth of July.'.split() # it separates the words and forms a list"
   ]
  },
  {
   "cell_type": "code",
   "execution_count": 17,
   "id": "8d5c1c21",
   "metadata": {},
   "outputs": [
    {
     "data": {
      "text/plain": [
       "'There-can-only-one.'"
      ]
     },
     "execution_count": 17,
     "metadata": {},
     "output_type": "execute_result"
    }
   ],
   "source": [
    "'-'.join('There can only one.'.split()) # join adds the charracter where the sentence splits."
   ]
  },
  {
   "cell_type": "markdown",
   "id": "098a4739",
   "metadata": {},
   "source": [
    "# 9. What are the methods for right-justifying, left-justifying, and centering a string?\n",
    "Ans. with the help of variable_name.just() we can justify the value. "
   ]
  },
  {
   "cell_type": "code",
   "execution_count": 20,
   "id": "eb82fb23",
   "metadata": {},
   "outputs": [
    {
     "name": "stdout",
     "output_type": "stream",
     "text": [
      "rajini\n",
      "****rajini\n",
      "rajini****\n",
      "**rajini**\n"
     ]
    }
   ],
   "source": [
    "x=\"rajini\"\n",
    "print(x)\n",
    "print(x.rjust(10,'*'))\n",
    "print(x.ljust(10,'*'))\n",
    "print(x.center(10,'*'))"
   ]
  },
  {
   "cell_type": "markdown",
   "id": "e773b409",
   "metadata": {},
   "source": [
    "# 10. What is the best way to remove whitespace characters from the start or end?\n",
    "Ans. with the help of variable_name.strip() we can remove whitespace characters"
   ]
  },
  {
   "cell_type": "code",
   "execution_count": 25,
   "id": "4f6954df",
   "metadata": {},
   "outputs": [
    {
     "name": "stdout",
     "output_type": "stream",
     "text": [
      "x  chaiitanya  x\n",
      "  x  chaiitanya  x\n",
      "x  chaiitanya  x  \n"
     ]
    }
   ],
   "source": [
    "y='  x  chaiitanya  x  '\n",
    "print(y.strip())   # it removes space both ends\n",
    "print(y.rstrip())  # it removes space right end\n",
    "print(y.lstrip())  # it removes space left end"
   ]
  },
  {
   "cell_type": "code",
   "execution_count": null,
   "id": "0984f39c",
   "metadata": {},
   "outputs": [],
   "source": []
  }
 ],
 "metadata": {
  "kernelspec": {
   "display_name": "Python 3 (ipykernel)",
   "language": "python",
   "name": "python3"
  },
  "language_info": {
   "codemirror_mode": {
    "name": "ipython",
    "version": 3
   },
   "file_extension": ".py",
   "mimetype": "text/x-python",
   "name": "python",
   "nbconvert_exporter": "python",
   "pygments_lexer": "ipython3",
   "version": "3.9.13"
  }
 },
 "nbformat": 4,
 "nbformat_minor": 5
}
