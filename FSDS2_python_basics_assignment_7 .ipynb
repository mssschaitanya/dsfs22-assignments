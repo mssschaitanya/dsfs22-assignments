{
 "cells": [
  {
   "cell_type": "markdown",
   "id": "04824cc1",
   "metadata": {},
   "source": [
    "# 1. What is the name of the feature responsible for generating Regex objects?"
   ]
  },
  {
   "cell_type": "code",
   "execution_count": 2,
   "id": "d89b86a3",
   "metadata": {},
   "outputs": [
    {
     "name": "stdout",
     "output_type": "stream",
     "text": [
      "re.compile('hi')\n"
     ]
    }
   ],
   "source": [
    "import re\n",
    "x = re.compile(\"hi\")  # Ans.re.compile() is the feature responsible for generation of Regex objects\n",
    "print(x)"
   ]
  },
  {
   "cell_type": "markdown",
   "id": "2288b440",
   "metadata": {},
   "source": [
    "# 2. Why do raw strings often appear in Regex objects?\n",
    "Ans: the backslash character is used to indicate Metacharacters or to allow special characters. Raw strings are used (e.g. r\"\\n\") so that backslashes do not have to be escaped."
   ]
  },
  {
   "cell_type": "markdown",
   "id": "22fdfffd",
   "metadata": {},
   "source": [
    "# 3.What is the return value of the search() method?\n",
    "The search() method searches a string for a specified value, and returns the position of the match.\n",
    "The search value can be string or a regular expression.\n",
    "This method returns -1 if no match is found"
   ]
  },
  {
   "cell_type": "markdown",
   "id": "f61256a1",
   "metadata": {},
   "source": [
    "# 4. From a Match item, how do you get the actual strings that match the pattern?\n",
    "Ans. The group() method returns strings of the matched text."
   ]
  },
  {
   "cell_type": "code",
   "execution_count": 6,
   "id": "6bce3f74",
   "metadata": {},
   "outputs": [
    {
     "name": "stdout",
     "output_type": "stream",
     "text": [
      "username@sss.org\n",
      "org\n",
      "('username', 'sss', 'org')\n"
     ]
    }
   ],
   "source": [
    "import re\n",
    "\n",
    "\"\"\"We create a re.MatchObject and store it in match_object variable the '()' parenthesis are used to define a\n",
    "specific group\"\"\"\n",
    "\n",
    "match_object = re.match(r'(\\w+)@(\\w+)\\.(\\w+)', 'username@sss.org')\n",
    "\n",
    "\"\"\" w in above pattern stands for alphabetical character + is used to match a consecutive set of characters\n",
    "satisfying a given condition so w+ will match a consecutive set of alphabetical characters\"\"\"\n",
    "\n",
    "# for entire match\n",
    "print(match_object.group())\n",
    "# also print(match_object.group(0)) can be used\n",
    "\n",
    "# for the third parenthesized subgroup\n",
    "print(match_object.group(3))\n",
    "\n",
    "# for a tuple of all matched subgroups\n",
    "print(match_object.group(1, 2, 3))\n"
   ]
  },
  {
   "cell_type": "markdown",
   "id": "54a696ec",
   "metadata": {},
   "source": [
    "# 5. In the regex which created from the r'(\\d\\d\\d)-(\\d\\d\\d-\\d\\d\\d\\d)', what does group zero cover? Group 2? Group 1?\n",
    "Group 0 covers the entire match, group 1 covers the first set of parentheses, and group 2 covers the second set of parentheses."
   ]
  },
  {
   "cell_type": "code",
   "execution_count": 17,
   "id": "70bdb3f5",
   "metadata": {},
   "outputs": [
    {
     "name": "stdout",
     "output_type": "stream",
     "text": [
      "group 1 covers 444\n",
      "group 0 covers 444-555-6666\n",
      "group 2 covers 555-6666\n"
     ]
    }
   ],
   "source": [
    "x = re.compile(r'(\\d\\d\\d)-(\\d\\d\\d-\\d\\d\\d\\d)')\n",
    "mo = x.search(' 444-555-6666')\n",
    "print(f\"group 1 covers {mo.group(1)}\")\n",
    "print(f\"group 0 covers {mo.group(0)}\")\n",
    "print(f\"group 2 covers {mo.group(2)}\")"
   ]
  },
  {
   "cell_type": "markdown",
   "id": "63ea11b8",
   "metadata": {},
   "source": [
    "# 6. In standard expression syntax, parentheses and intervals have distinct meanings. How can you tell a regex that you want it to fit real parentheses and periods?\n",
    "Ans.Periods and parentheses can be escaped with a backslash: \\., \\(, and \\)."
   ]
  },
  {
   "cell_type": "markdown",
   "id": "1b877fb9",
   "metadata": {},
   "source": [
    "# 7. The findall() method returns a string list or a list of string tuples. What causes it to return one of the two options?\n",
    "Ans.If the regex has no groups, a list of strings is returned. If the regex has groups, a list of tuples of strings is returned"
   ]
  },
  {
   "cell_type": "markdown",
   "id": "0864cfeb",
   "metadata": {},
   "source": [
    "# 8. In standard expressions, what does the | character mean?\n",
    "The | character signifies means OR (Matches with any of the characters separated by it."
   ]
  },
  {
   "cell_type": "code",
   "execution_count": 21,
   "id": "49cca86e",
   "metadata": {},
   "outputs": [
    {
     "data": {
      "text/plain": [
       "5"
      ]
     },
     "execution_count": 21,
     "metadata": {},
     "output_type": "execute_result"
    }
   ],
   "source": [
    "a=4\n",
    "b=5\n",
    "b|a"
   ]
  },
  {
   "cell_type": "code",
   "execution_count": 22,
   "id": "d8c8624d",
   "metadata": {},
   "outputs": [
    {
     "data": {
      "text/plain": [
       "5"
      ]
     },
     "execution_count": 22,
     "metadata": {},
     "output_type": "execute_result"
    }
   ],
   "source": [
    "a|b"
   ]
  },
  {
   "cell_type": "markdown",
   "id": "26551b3d",
   "metadata": {},
   "source": [
    "# 9. In regular expressions, what does the ? character stand for?\n",
    "Ans: In regular Expressions, ? characters represents zero or one occurence of the preceeding group."
   ]
  },
  {
   "cell_type": "markdown",
   "id": "9575700c",
   "metadata": {},
   "source": [
    "# 10.In regular expressions, what is the difference between the + and * characters?\n",
    "Ans. + means One or more occurrences. * indicates any number of occurrences (including 0 occurrences)"
   ]
  },
  {
   "cell_type": "markdown",
   "id": "81613dd0",
   "metadata": {},
   "source": [
    "# 11. What is the difference between {4} and {4,5} in regular expression?\n",
    "Ans. The {4} matches exactly four instances of the preceding group. The {4,5} matches between four and five instances."
   ]
  },
  {
   "cell_type": "markdown",
   "id": "92f1a237",
   "metadata": {},
   "source": [
    "# 12. What do you mean by the \\d, \\w, and \\s shorthand character classes signify in regular expressions?\n",
    "Ans.\\d, \\w and \\s are special sequences in regular expresssions in python:\n",
    "\n",
    "\\w – Matches a word character equivalent to [a-zA-Z0-9_] \n",
    "\n",
    "\\d – Matches digit character equivalent to [0-9] \n",
    "\n",
    "\\s – Matches whitespace character (space, tab, newline, etc.)"
   ]
  },
  {
   "cell_type": "markdown",
   "id": "88ebd54e",
   "metadata": {},
   "source": [
    "# 13. What do means by \\D, \\W, and \\S shorthand character classes signify in regular expressions?\n",
    "\\D - > Any character that is not a numeric digit from 0 to 9.\n",
    "\n",
    "\\W - > Any character that is not a letter, numeric digit, or the underscore character.\n",
    "\n",
    "\\S - > Any character that is not a space, tab, or newline."
   ]
  },
  {
   "cell_type": "markdown",
   "id": "740324f7",
   "metadata": {},
   "source": [
    "# 14. What is the difference between .*? and .*?\n",
    "The .* performs a greedy match, and the .*? performs a nongreedy match."
   ]
  },
  {
   "cell_type": "code",
   "execution_count": 25,
   "id": "f68d7f42",
   "metadata": {},
   "outputs": [
    {
     "name": "stdout",
     "output_type": "stream",
     "text": [
      "\"submit\"\n",
      "\"btn\"\n"
     ]
    }
   ],
   "source": [
    "import re\n",
    "\n",
    "s = '<button type=\"submit\" class=\"btn\">Send</button>'\n",
    "\n",
    "pattern = '\".+?\"'     # if we remove ? in this line it becomes greedy & output is \"submit\" class=\"btn\"\n",
    "matches = re.finditer(pattern, s)\n",
    "\n",
    "for match in matches:\n",
    "    print(match.group())\n",
    "# Non-greedy quantifiers match their preceding elements as little as possible to return the smallest possible match.\n",
    "# Add a question mark (?) to a quantifier to turn it into a non-greedy quantifier."
   ]
  },
  {
   "cell_type": "markdown",
   "id": "5653c3b4",
   "metadata": {},
   "source": [
    "# 15. What is the syntax for matching both numbers and lowercase letters with a character class?\n",
    "Ans.Ans: The Synatax is Either [a-z0-9] or [0-9a-z]"
   ]
  },
  {
   "cell_type": "markdown",
   "id": "167d20f3",
   "metadata": {},
   "source": [
    "# 16. What is the procedure for making a normal expression in regax case insensitive?\n",
    "Ans. Passing re.I or re.IGNORECASE as the second argument to re.compile() will make the matching case insensitive"
   ]
  },
  {
   "cell_type": "code",
   "execution_count": 27,
   "id": "9ff0adc7",
   "metadata": {},
   "outputs": [
    {
     "data": {
      "text/plain": [
       "'design'"
      ]
     },
     "execution_count": 27,
     "metadata": {},
     "output_type": "execute_result"
    }
   ],
   "source": [
    "casesen = re.compile(r'design', re.I)\n",
    "casesen.search('Machine design').group()"
   ]
  },
  {
   "cell_type": "code",
   "execution_count": 30,
   "id": "8d058a4a",
   "metadata": {},
   "outputs": [
    {
     "data": {
      "text/plain": [
       "'DESIGN'"
      ]
     },
     "execution_count": 30,
     "metadata": {},
     "output_type": "execute_result"
    }
   ],
   "source": [
    "casesen.search('DESIGN DAY').group()"
   ]
  },
  {
   "cell_type": "markdown",
   "id": "62b420f9",
   "metadata": {},
   "source": [
    "# 17. What does the . character normally match? What does it match if re.DOTALL is passed as 2nd argument in re.compile()?\n",
    "The . character normally matches any character except the newline character. \n",
    "\n",
    "If re.DOTALL is passed as the second argument to re.compile(), then the dot will also match newline characters."
   ]
  },
  {
   "cell_type": "markdown",
   "id": "5ea8e8c9",
   "metadata": {},
   "source": [
    "# 18. If numRegex = re.compile(r'\\d+'), what will numRegex.sub('X', '11 drummers, 10 pipers, five rings, 4 hen') return?\n"
   ]
  },
  {
   "cell_type": "code",
   "execution_count": 33,
   "id": "fdefcf7e",
   "metadata": {},
   "outputs": [
    {
     "data": {
      "text/plain": [
       "'X drummers, X pipers, five rings, X hen'"
      ]
     },
     "execution_count": 33,
     "metadata": {},
     "output_type": "execute_result"
    }
   ],
   "source": [
    "numRegex = re.compile(r'\\d+') \n",
    "numRegex.sub('X', '11 drummers, 10 pipers, five rings, 4 hen') "
   ]
  },
  {
   "cell_type": "markdown",
   "id": "c8bee17e",
   "metadata": {},
   "source": [
    "# 19. What does passing re.VERBOSE as the 2nd argument to re.compile() allow to do?\n",
    "Ans.The re.VERBOSE argument allows you to add whitespace and comments to the string passed to re.compile()"
   ]
  },
  {
   "cell_type": "markdown",
   "id": "0e7a8a41",
   "metadata": {},
   "source": [
    "# 20. How would you write a regex that match a number with comma for every three digits? It must match the given following:\n",
    "'42',\n",
    "\n",
    "'1,234',\n",
    "\n",
    "'6,368,745',\n",
    "\n",
    "but not the following:\n",
    "'12,34,567' (which has only two digits between the commas),\n",
    "\n",
    "'1234' (which lacks commas)"
   ]
  },
  {
   "cell_type": "code",
   "execution_count": 34,
   "id": "a1811c63",
   "metadata": {},
   "outputs": [
    {
     "data": {
      "text/plain": [
       "'42'"
      ]
     },
     "execution_count": 34,
     "metadata": {},
     "output_type": "execute_result"
    }
   ],
   "source": [
    "reg1 = re.compile(r'^\\d{1,3}(,\\d{3})*$')  \n",
    "# ^ Matches the beginning, $ Matches the end, \\ Used to drop the special meaning of character following it\n",
    "# * indicates Any number of occurrences (including 0 occurrences)\n",
    "# {} Indicate the number of occurrences of a preceding regex to match.\n",
    "# () Enclose a group of Regex\n",
    "mo1 = reg1.search('42')\n",
    "mo1.group()"
   ]
  },
  {
   "cell_type": "code",
   "execution_count": 35,
   "id": "90f32cb7",
   "metadata": {},
   "outputs": [
    {
     "data": {
      "text/plain": [
       "'1,234'"
      ]
     },
     "execution_count": 35,
     "metadata": {},
     "output_type": "execute_result"
    }
   ],
   "source": [
    "reg1 = re.compile(r'^\\d{1,3}(,\\d{3})*$')\n",
    "mo1 = reg1.search('1,234')\n",
    "mo1.group()"
   ]
  },
  {
   "cell_type": "code",
   "execution_count": 36,
   "id": "2d549314",
   "metadata": {},
   "outputs": [
    {
     "data": {
      "text/plain": [
       "'6,368,745'"
      ]
     },
     "execution_count": 36,
     "metadata": {},
     "output_type": "execute_result"
    }
   ],
   "source": [
    "reg1 = re.compile(r'^\\d{1,3}(,\\d{3})*$')\n",
    "mo1 = reg1.search('6,368,745')\n",
    "mo1.group()"
   ]
  },
  {
   "cell_type": "markdown",
   "id": "d73c6873",
   "metadata": {},
   "source": [
    "# 21. How would you write a regex that matches the full name of someone whose last name is Watanabe? You can assume that the first name that comes before it will always be one word that begins with a capital letter. The regex must match the following:\n",
    "'Haruto Watanabe'\n",
    "\n",
    "'Alice Watanabe'\n",
    "\n",
    "'RoboCop Watanabe'\n",
    "\n",
    "but not the following:\n",
    "\n",
    "'haruto Watanabe' (where the first name is not capitalized)\n",
    "\n",
    "'Mr. Watanabe' (where the preceding word has a nonletter character)\n",
    "\n",
    "'Watanabe' (which has no first name)\n",
    "\n",
    "'Haruto watanabe' (where Watanabe is not capitalized)"
   ]
  },
  {
   "cell_type": "code",
   "execution_count": 54,
   "id": "801d8662",
   "metadata": {},
   "outputs": [
    {
     "data": {
      "text/plain": [
       "'Haruto Watanabe'"
      ]
     },
     "execution_count": 54,
     "metadata": {},
     "output_type": "execute_result"
    }
   ],
   "source": [
    "name = re.compile(r'[A-Z][a-z]*\\sWatanabe')  # first letter of words must be capitel,no special cases\n",
    "reg1 = re.compile(r'^\\d{1,3}(,\\d{Haruto Watanabe3})*$')\n",
    "mo1 = name.search('Haruto Watanabe')  # if we use first letter h(small case) it will throw error.\n",
    "mo1.group()"
   ]
  },
  {
   "cell_type": "code",
   "execution_count": 51,
   "id": "68ef5bdf",
   "metadata": {},
   "outputs": [
    {
     "data": {
      "text/plain": [
       "'Alice Watanabe'"
      ]
     },
     "execution_count": 51,
     "metadata": {},
     "output_type": "execute_result"
    }
   ],
   "source": [
    "name = re.compile(r'[A-Z][a-z]*\\sWatanabe')\n",
    "reg1 = re.compile(r'^\\d{1,3}(,\\d{Alice Watanabe3})*$')\n",
    "mo1 = name.search('Alice Watanabe') # if we use . in btw it will throw error.\n",
    "mo1.group()"
   ]
  },
  {
   "cell_type": "code",
   "execution_count": 53,
   "id": "5b5c999b",
   "metadata": {},
   "outputs": [
    {
     "data": {
      "text/plain": [
       "'Robocop Watanabe'"
      ]
     },
     "execution_count": 53,
     "metadata": {},
     "output_type": "execute_result"
    }
   ],
   "source": [
    "name = re.compile(r'[A-Z][a-z]*\\sWatanabe')\n",
    "reg1 = re.compile(r'^\\d{1,3}(,\\d{Robocop Watanabe3})*$')\n",
    "mo1 = name.search('Robocop Watanabe')\n",
    "mo1.group()"
   ]
  },
  {
   "cell_type": "markdown",
   "id": "e774ddca",
   "metadata": {},
   "source": [
    "# 22. How would you write a regex that matches a sentence where the first word is either Alice, Bob, or Carol; the second word is either eats, pets, or throws; the third word is apples, cats, or baseballs; and the sentence ends with a period? This regex should be case-insensitive. It must match the following:\n",
    "'Alice eats apples.'\n",
    "\n",
    "'Bob pets cats.'\n",
    "\n",
    "'Carol throws baseballs.'\n",
    "\n",
    "'Alice throws Apples.'\n",
    "\n",
    "'BOB EATS CATS.'\n",
    "\n",
    "but not the following:\n",
    "'RoboCop eats apples.'\n",
    "\n",
    "'ALICE THROWS FOOTBALLS.'\n",
    "\n",
    "'Carol eats 7 cats.'"
   ]
  },
  {
   "cell_type": "code",
   "execution_count": 58,
   "id": "77fa8743",
   "metadata": {},
   "outputs": [
    {
     "name": "stdout",
     "output_type": "stream",
     "text": [
      "Alice eats apples.\n",
      "Bob pets cats.\n",
      "Carol throws baseballs.\n",
      "Alice throws Apples.\n"
     ]
    }
   ],
   "source": [
    "name = re.compile(r'(Alice|Bob|Carol)\\s(eats|pets|throws)\\s(apples|cats|baseballs|Apples)\\.', re.IGNORECASE)\n",
    "# | indicates or\n",
    "mo1 = name.search('Alice eats apples.')\n",
    "mo2 = name.search('Bob pets cats.')\n",
    "mo3 = name.search('Carol throws baseballs.')\n",
    "mo4 = name.search('Alice throws Apples.')\n",
    "print(mo1.group())\n",
    "print(mo2.group())\n",
    "print(mo3.group())\n",
    "print(mo4.group())"
   ]
  },
  {
   "cell_type": "code",
   "execution_count": null,
   "id": "5207dfaf",
   "metadata": {},
   "outputs": [],
   "source": []
  }
 ],
 "metadata": {
  "kernelspec": {
   "display_name": "Python 3 (ipykernel)",
   "language": "python",
   "name": "python3"
  },
  "language_info": {
   "codemirror_mode": {
    "name": "ipython",
    "version": 3
   },
   "file_extension": ".py",
   "mimetype": "text/x-python",
   "name": "python",
   "nbconvert_exporter": "python",
   "pygments_lexer": "ipython3",
   "version": "3.9.13"
  }
 },
 "nbformat": 4,
 "nbformat_minor": 5
}
