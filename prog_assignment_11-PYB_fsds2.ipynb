{
 "cells": [
  {
   "cell_type": "markdown",
   "id": "2c85cb45",
   "metadata": {},
   "source": [
    "# 1.Write a Python program to find words which are greater than given length k?"
   ]
  },
  {
   "cell_type": "code",
   "execution_count": 2,
   "id": "d3273044",
   "metadata": {},
   "outputs": [
    {
     "name": "stdout",
     "output_type": "stream",
     "text": [
      "enter the words with space: hi my name is bond\n",
      "enter the limit of string length: 3\n",
      "name,bond\n"
     ]
    }
   ],
   "source": [
    "def checklengthofstring():\n",
    "    data=str(input(\"enter the words with space: \"))\n",
    "    k=int(input(\"enter the limit of string length: \"))\n",
    "    output=[]\n",
    "    for i in data.split(\" \"):\n",
    "        if len(i)>k:\n",
    "            output.append(i)\n",
    "    print(\",\".join(output)) \n",
    "checklengthofstring()"
   ]
  },
  {
   "cell_type": "markdown",
   "id": "8319e3cf",
   "metadata": {},
   "source": [
    "# 2.Write a Python program for removing i-th character from a string?"
   ]
  },
  {
   "cell_type": "code",
   "execution_count": 4,
   "id": "7ec3055c",
   "metadata": {},
   "outputs": [
    {
     "name": "stdout",
     "output_type": "stream",
     "text": [
      "enter the word: startling\n",
      "enter the character number: 5\n",
      "starting\n"
     ]
    }
   ],
   "source": [
    "def removeiofstring():\n",
    "    data=str(input(\"enter the word: \"))\n",
    "    k=int(input(\"enter the character number: \"))\n",
    "    output=data[0:k]+data[k+1:] \n",
    "    print(output)\n",
    "removeiofstring()"
   ]
  },
  {
   "cell_type": "markdown",
   "id": "66987790",
   "metadata": {},
   "source": [
    "# 3.Write a Python program to split and join a string?"
   ]
  },
  {
   "cell_type": "code",
   "execution_count": 9,
   "id": "f44f64ce",
   "metadata": {},
   "outputs": [
    {
     "name": "stdout",
     "output_type": "stream",
     "text": [
      "enter the word: ladies and gentlemen\n",
      "split the data['ladies', 'and', 'gentlemen']\n",
      "join the data ladies-and-gentlemen\n"
     ]
    }
   ],
   "source": [
    "def splitandjoin():\n",
    "    data=str(input(\"enter the word: \"))\n",
    "    print(f'split the data{data.split()}')\n",
    "    print(f'join the data {\"-\".join(data.split())}')\n",
    "splitandjoin()"
   ]
  },
  {
   "cell_type": "markdown",
   "id": "cd6b777d",
   "metadata": {},
   "source": [
    "# 4.Write a Python to check if a given string is binary string or not?"
   ]
  },
  {
   "cell_type": "code",
   "execution_count": 5,
   "id": "e9432e0f",
   "metadata": {},
   "outputs": [
    {
     "name": "stdout",
     "output_type": "stream",
     "text": [
      "enter the data 102030\n",
      "102030 data is not binary\n",
      "enter the data 10010\n",
      "10010 data is binary\n"
     ]
    }
   ],
   "source": [
    "def checkbinary():\n",
    "    data=str(input(\"enter the data \"))\n",
    "    flag=0\n",
    "    for i in data:\n",
    "        if i in [\"0\",\"1\"]:\n",
    "            flag=1\n",
    "            continue\n",
    "        else:\n",
    "            flag=0\n",
    "            break\n",
    "    output=\"data is binary\" if flag==1 else \"data is not binary\"\n",
    "    print(f'{data} {output}')\n",
    "checkbinary()\n",
    "checkbinary()"
   ]
  },
  {
   "cell_type": "markdown",
   "id": "edae57c4",
   "metadata": {},
   "source": [
    "# 5.Write a Python program to find uncommon words from two Strings?"
   ]
  },
  {
   "cell_type": "code",
   "execution_count": 6,
   "id": "e5f1284b",
   "metadata": {},
   "outputs": [
    {
     "name": "stdout",
     "output_type": "stream",
     "text": [
      "Enter the String 1: vote for money\n",
      "Enter the String 2: society for money\n",
      "{'society', 'vote'}\n"
     ]
    }
   ],
   "source": [
    "def unCommonWords():\n",
    "    in_string_1 = set(input(\"Enter the String 1: \").split(' '))         # set does't take duplicates\n",
    "    in_string_2 = set(input(\"Enter the String 2: \").split(' '))\n",
    "    out_string = (in_string_1.union(in_string_2)).difference(in_string_1.intersection(in_string_2))\n",
    "    # union takes everything, intersection takes only common elements. difference removes common elements from first set.\n",
    "    print(out_string)\n",
    "\n",
    "unCommonWords()"
   ]
  },
  {
   "cell_type": "markdown",
   "id": "9ada55b4",
   "metadata": {},
   "source": [
    "# 6.Write a Python to find all duplicate characters in string?"
   ]
  },
  {
   "cell_type": "code",
   "execution_count": 9,
   "id": "c9643eee",
   "metadata": {},
   "outputs": [
    {
     "name": "stdout",
     "output_type": "stream",
     "text": [
      "enter the data: ineuron student\n",
      "deplicate characters are ['n', 'u', 'e', 'n', 't']\n"
     ]
    }
   ],
   "source": [
    "def findduplicates():\n",
    "    data=input(\"enter the data: \")\n",
    "    duplicates=[]\n",
    "    nonduplicates=[]\n",
    "    for i in data:\n",
    "        if i not in nonduplicates:\n",
    "            nonduplicates.append(i)\n",
    "        else:\n",
    "            duplicates.append(i)\n",
    "    print(f'deplicate characters are {duplicates}')\n",
    "findduplicates()"
   ]
  },
  {
   "cell_type": "markdown",
   "id": "7a5b83d4",
   "metadata": {},
   "source": [
    "# 7.Write a Python Program to check if a string contains any special character?"
   ]
  },
  {
   "cell_type": "code",
   "execution_count": 12,
   "id": "2c61be7f",
   "metadata": {},
   "outputs": [
    {
     "name": "stdout",
     "output_type": "stream",
     "text": [
      "enter the data: 5us$ is =how much % in our 'money\"\n",
      "found 4 special characters. those are ['$', '=', '%', '\"']\n"
     ]
    }
   ],
   "source": [
    "def findspecial():\n",
    "    data=input(\"enter the data: \")\n",
    "    special='!\"#$%&()*+,-./:;<=>?@[\\]^_`{|}~'\n",
    "    col_special=[]\n",
    "    count=0\n",
    "    for i in data:\n",
    "        if i in special:\n",
    "            count=count+1\n",
    "            col_special.append(i)\n",
    "    print(f'found {count} special characters. those are {col_special}')\n",
    "findspecial()"
   ]
  },
  {
   "cell_type": "code",
   "execution_count": null,
   "id": "653ae275",
   "metadata": {},
   "outputs": [],
   "source": []
  }
 ],
 "metadata": {
  "kernelspec": {
   "display_name": "Python 3 (ipykernel)",
   "language": "python",
   "name": "python3"
  },
  "language_info": {
   "codemirror_mode": {
    "name": "ipython",
    "version": 3
   },
   "file_extension": ".py",
   "mimetype": "text/x-python",
   "name": "python",
   "nbconvert_exporter": "python",
   "pygments_lexer": "ipython3",
   "version": "3.9.13"
  }
 },
 "nbformat": 4,
 "nbformat_minor": 5
}
