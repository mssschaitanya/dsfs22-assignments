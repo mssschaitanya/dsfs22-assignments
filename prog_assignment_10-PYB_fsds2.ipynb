{
 "cells": [
  {
   "cell_type": "markdown",
   "id": "dc234fc9",
   "metadata": {},
   "source": [
    "# 1.Write a Python program to find sum of elements in list?"
   ]
  },
  {
   "cell_type": "code",
   "execution_count": 1,
   "id": "68677897",
   "metadata": {},
   "outputs": [
    {
     "name": "stdout",
     "output_type": "stream",
     "text": [
      "Enter the elements separated by space 4 5 6\n",
      "15\n"
     ]
    }
   ],
   "source": [
    "lst = list(map(int, input(\"Enter the elements separated by space \").split()))\n",
    "print(sum(lst))"
   ]
  },
  {
   "cell_type": "markdown",
   "id": "aec62644",
   "metadata": {},
   "source": [
    "# 2.Write a Python program to  Multiply all numbers in the list?"
   ]
  },
  {
   "cell_type": "code",
   "execution_count": 2,
   "id": "924a20ec",
   "metadata": {},
   "outputs": [
    {
     "name": "stdout",
     "output_type": "stream",
     "text": [
      "Enter the elements separated by space 4 5 6\n",
      "120\n"
     ]
    }
   ],
   "source": [
    "lst = list(map(int, input(\"Enter the elements separated by space \").split()))\n",
    "mul=1\n",
    "for i in lst:\n",
    "    mul=mul*i\n",
    "print (mul)"
   ]
  },
  {
   "cell_type": "markdown",
   "id": "60b8d29a",
   "metadata": {},
   "source": [
    "# 3.Write a Python program to find smallest number in a list?"
   ]
  },
  {
   "cell_type": "code",
   "execution_count": 5,
   "id": "eeea1a4a",
   "metadata": {},
   "outputs": [
    {
     "name": "stdout",
     "output_type": "stream",
     "text": [
      "enter the elements separated by space 9 6 3 \n",
      "3\n"
     ]
    }
   ],
   "source": [
    "lst=list(map(int,input(\"enter the elements separated by space \").split()))\n",
    "lst.sort()\n",
    "print(lst[0])           # we can also use min()"
   ]
  },
  {
   "cell_type": "markdown",
   "id": "95a2db5b",
   "metadata": {},
   "source": [
    "# 4.Write a Python program to find largest number in a list?"
   ]
  },
  {
   "cell_type": "code",
   "execution_count": 6,
   "id": "d8b37677",
   "metadata": {},
   "outputs": [
    {
     "name": "stdout",
     "output_type": "stream",
     "text": [
      "enter the elements separated by space 9 6 3\n",
      "9\n"
     ]
    }
   ],
   "source": [
    "lst=list(map(int,input(\"enter the elements separated by space \").split()))\n",
    "lst.sort()\n",
    "print(lst[-1])           # we can also use max()"
   ]
  },
  {
   "cell_type": "markdown",
   "id": "c193ac9f",
   "metadata": {},
   "source": [
    "# 5.Write a Python program to find second largest number in a list?"
   ]
  },
  {
   "cell_type": "code",
   "execution_count": 9,
   "id": "dedd9327",
   "metadata": {},
   "outputs": [
    {
     "name": "stdout",
     "output_type": "stream",
     "text": [
      "enter the elements separated by space 1 2 3 \n",
      "['2']\n"
     ]
    }
   ],
   "source": [
    "lst=list(map(str,input(\"enter the elements separated by space \").split()))\n",
    "print(sorted(lst[-2]))           # we can also use max()"
   ]
  },
  {
   "cell_type": "markdown",
   "id": "cd4455d7",
   "metadata": {},
   "source": [
    "# 6.Write a Python program to find N largest elements from a list?"
   ]
  },
  {
   "cell_type": "code",
   "execution_count": 12,
   "id": "3c361e4b",
   "metadata": {},
   "outputs": [
    {
     "name": "stdout",
     "output_type": "stream",
     "text": [
      "enter elements sepaated by space6 54 63 72 81 15 60 48\n"
     ]
    },
    {
     "data": {
      "text/plain": [
       "63"
      ]
     },
     "execution_count": 12,
     "metadata": {},
     "output_type": "execute_result"
    }
   ],
   "source": [
    "def n_largest(n):\n",
    "    lst=list(map(str,input(\"enter elements sepaated by space\").split()))\n",
    "    lst.sort()\n",
    "    return int(lst[-n])\n",
    "n_largest(3)\n"
   ]
  },
  {
   "cell_type": "markdown",
   "id": "73365c60",
   "metadata": {},
   "source": [
    "# 7.Write a Python program to print even numbers in a list?"
   ]
  },
  {
   "cell_type": "code",
   "execution_count": 13,
   "id": "06e499e5",
   "metadata": {},
   "outputs": [
    {
     "name": "stdout",
     "output_type": "stream",
     "text": [
      "enter elements sepaated by space9 18 27 36 45 54 63 72 81 90\n",
      "[18, 36, 54, 72, 90]\n"
     ]
    }
   ],
   "source": [
    "def f_even():\n",
    "    lst=list(map(int,input(\"enter elements sepaated by space\").split()))\n",
    "    x=[]\n",
    "    for i in lst:\n",
    "        if i%2==0:\n",
    "            x.append(i)\n",
    "    print(x)\n",
    "            \n",
    "f_even()\n"
   ]
  },
  {
   "cell_type": "markdown",
   "id": "e5774983",
   "metadata": {},
   "source": [
    "# 8.Write a Python program to print odd numbers in a List?"
   ]
  },
  {
   "cell_type": "code",
   "execution_count": 15,
   "id": "d3303822",
   "metadata": {},
   "outputs": [
    {
     "name": "stdout",
     "output_type": "stream",
     "text": [
      "enter elements sepaated by space9 18 27 36 45 54 63 72 81 90\n",
      "[9, 27, 45, 63, 81]\n"
     ]
    }
   ],
   "source": [
    "def f_odd():\n",
    "    lst=list(map(int,input(\"enter elements sepaated by space\").split()))\n",
    "    x=[]\n",
    "    for i in lst:\n",
    "        if i%2!=0:\n",
    "            x.append(i)\n",
    "    print(x)\n",
    "            \n",
    "f_odd()"
   ]
  },
  {
   "cell_type": "markdown",
   "id": "43271a61",
   "metadata": {},
   "source": [
    "# 9.Write a Python program to Remove empty List from List?"
   ]
  },
  {
   "cell_type": "code",
   "execution_count": 18,
   "id": "bdf26850",
   "metadata": {},
   "outputs": [
    {
     "name": "stdout",
     "output_type": "stream",
     "text": [
      "[[1, 2, 3], [4, 5, 6], [7], 8, 9]\n"
     ]
    }
   ],
   "source": [
    "lst = [[1,2,3],[],[],[4,5,6],[7],8,9,[]]\n",
    "\n",
    "while [] in lst:\n",
    "    lst.remove([])\n",
    "print(lst)"
   ]
  },
  {
   "cell_type": "markdown",
   "id": "5eaa5814",
   "metadata": {},
   "source": [
    "# 10.Write a Python program to Cloning or Copying a list?"
   ]
  },
  {
   "cell_type": "code",
   "execution_count": 19,
   "id": "5f337e23",
   "metadata": {},
   "outputs": [
    {
     "name": "stdout",
     "output_type": "stream",
     "text": [
      "Enter the elements separated by space 1 2 3 4 5 \n",
      "lst2 =  [1, 2, 3, 4, 5]\n",
      "lst3 =  [1, 2, 3, 4, 5]\n",
      "original list:  2216033547392\n",
      "clone list:  2216071054464\n"
     ]
    }
   ],
   "source": [
    "import copy\n",
    "lst = list(map(int, input(\"Enter the elements separated by space \").split()))\n",
    "#First method\n",
    "lst2 = lst\n",
    "print(\"lst2 = \",lst2)\n",
    "#second method\n",
    "lst3 = copy.copy(lst)\n",
    "print(\"lst3 = \", lst3)\n",
    "print(\"original list: \",id(lst))\n",
    "\n",
    "print(\"clone list: \",id(lst3))"
   ]
  },
  {
   "cell_type": "markdown",
   "id": "c8a52d4f",
   "metadata": {},
   "source": [
    "# 11.Write a Python program to Count occurrences of an element in a list?"
   ]
  },
  {
   "cell_type": "code",
   "execution_count": 33,
   "id": "489dff8d",
   "metadata": {},
   "outputs": [
    {
     "name": "stdout",
     "output_type": "stream",
     "text": [
      "number 3 repeated 2 times\n"
     ]
    }
   ],
   "source": [
    "lst = [4,3,3,2,2,2,1,1,1,1]\n",
    "x=3\n",
    "print(f\"number {x} repeated {lst.count(x)} times\")"
   ]
  },
  {
   "cell_type": "code",
   "execution_count": null,
   "id": "5a435984",
   "metadata": {},
   "outputs": [],
   "source": []
  }
 ],
 "metadata": {
  "kernelspec": {
   "display_name": "Python 3 (ipykernel)",
   "language": "python",
   "name": "python3"
  },
  "language_info": {
   "codemirror_mode": {
    "name": "ipython",
    "version": 3
   },
   "file_extension": ".py",
   "mimetype": "text/x-python",
   "name": "python",
   "nbconvert_exporter": "python",
   "pygments_lexer": "ipython3",
   "version": "3.9.13"
  }
 },
 "nbformat": 4,
 "nbformat_minor": 5
}
