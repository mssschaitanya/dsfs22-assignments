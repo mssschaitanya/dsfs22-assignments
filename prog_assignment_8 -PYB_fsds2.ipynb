{
 "cells": [
  {
   "cell_type": "markdown",
   "id": "81a92b7b",
   "metadata": {},
   "source": [
    "# Write a Python Program to Add Two Matrices?"
   ]
  },
  {
   "cell_type": "code",
   "execution_count": 1,
   "id": "c0a82ec2",
   "metadata": {},
   "outputs": [
    {
     "name": "stdout",
     "output_type": "stream",
     "text": [
      "[[10 10 10]\n",
      " [10 10 10]\n",
      " [10 10 10]]\n"
     ]
    }
   ],
   "source": [
    "import numpy as np\n",
    "\n",
    "X = [[1,2,3],\n",
    "    [4 ,5,6],\n",
    "    [7 ,8,9]]\n",
    "\n",
    "Y = [[9,8,7],\n",
    "    [6,5,4],\n",
    "    [3,2,1]]\n",
    "# the two matrices have the same number of rows and columns.\n",
    "result = np.array(X) + np.array(Y)\n",
    "\n",
    "print(result)\n"
   ]
  },
  {
   "cell_type": "markdown",
   "id": "21a434eb",
   "metadata": {},
   "source": [
    "# 2.Write a Python Program to Multiply Two Matrices?"
   ]
  },
  {
   "cell_type": "code",
   "execution_count": 3,
   "id": "ab6217cf",
   "metadata": {},
   "outputs": [
    {
     "name": "stdout",
     "output_type": "stream",
     "text": [
      "[40 34 28 22]\n",
      "[112  97  82  67]\n",
      "[184 160 136 112]\n"
     ]
    }
   ],
   "source": [
    "# The product of two matrices A and B is defined if the number of columns of A is equal to the number of rows of B.\n",
    "import numpy as np\n",
    "\n",
    "A = [[1, 2, 3],            # A is 3*3 matrix\n",
    "    [4, 5, 6],\n",
    "    [7, 8, 9]]\n",
    "\n",
    "B = [[12, 11, 10, 9],          # B is 3*4 matrix\n",
    "    [8, 7, 6, 5],\n",
    "    [4, 3, 2, 1]]\n",
    "\n",
    "result = np.dot(A,B)        # result will be 3*4 matrix(3/3*3/4=3*4)\n",
    "\n",
    "for r in result:\n",
    "    print(r)\n"
   ]
  },
  {
   "cell_type": "markdown",
   "id": "d04a5b34",
   "metadata": {},
   "source": [
    "# 3.Write a Python Program to Transpose a Matrix?"
   ]
  },
  {
   "cell_type": "code",
   "execution_count": 18,
   "id": "55312888",
   "metadata": {},
   "outputs": [
    {
     "name": "stdout",
     "output_type": "stream",
     "text": [
      "Modified matrix is\n",
      "1  2  3  4  \n",
      "1  2  3  4  \n",
      "1  2  3  4  \n",
      "1  2  3  4  \n"
     ]
    }
   ],
   "source": [
    "# Transpose of a matrix is obtained by changing rows to columns and columns to rows.\n",
    "# below code is for 4*4 matrix\n",
    "N = 4\n",
    "\n",
    "def transpose(A):\n",
    "    for i in range(N):\n",
    "        for j in range(i+1, N):\n",
    "             A[i][j], A[j][i] = A[j][i], A[i][j]\n",
    "    print(\"Modified matrix is\")\n",
    "    for i in range(N):\n",
    "        for j in range(N):\n",
    "            print(A[i][j], \" \", end='')\n",
    "        print()\n",
    "\n",
    "A = [ [1, 1, 1, 1],\n",
    "    [2, 2, 2, 2],\n",
    "    [3, 3, 3, 3],\n",
    "    [4, 4, 4, 4]]\n",
    "transpose(A)"
   ]
  },
  {
   "cell_type": "code",
   "execution_count": 20,
   "id": "025a0284",
   "metadata": {},
   "outputs": [
    {
     "data": {
      "text/plain": [
       "array([[1, 2, 3, 4],\n",
       "       [1, 2, 3, 4],\n",
       "       [1, 2, 3, 4],\n",
       "       [1, 2, 3, 4]])"
      ]
     },
     "execution_count": 20,
     "metadata": {},
     "output_type": "execute_result"
    }
   ],
   "source": [
    "A=np.array([ [1, 1, 1, 1],\n",
    "    [2, 2, 2, 2],\n",
    "    [3, 3, 3, 3],\n",
    "    [4, 4, 4, 4]])\n",
    "np.transpose(A)"
   ]
  },
  {
   "cell_type": "markdown",
   "id": "997cb14d",
   "metadata": {},
   "source": [
    "# 4.Write a Python Program to Sort Words in Alphabetic Order?"
   ]
  },
  {
   "cell_type": "code",
   "execution_count": 30,
   "id": "2e0625c9",
   "metadata": {},
   "outputs": [
    {
     "name": "stdout",
     "output_type": "stream",
     "text": [
      " enter words separated by space: girl can do for a boy\n",
      "after sorting words a boy can do for girl\n"
     ]
    }
   ],
   "source": [
    "words=input(\" enter words separated by space: \").split()\n",
    "words.sort()\n",
    "y=\" \".join(words)\n",
    "print(f\"after sorting words {y}\")"
   ]
  },
  {
   "cell_type": "markdown",
   "id": "4bcc5292",
   "metadata": {},
   "source": [
    "# 5.Write a Python Program to Remove Punctuation From a String?"
   ]
  },
  {
   "cell_type": "code",
   "execution_count": 1,
   "id": "c8cbd363",
   "metadata": {},
   "outputs": [
    {
     "name": "stdout",
     "output_type": "stream",
     "text": [
      " enter string hi! 'how,\"dy.?\n",
      "hi! 'how,\"dy.?\n",
      "hi howdy\n"
     ]
    }
   ],
   "source": [
    "x=str(input(\" enter string \"))\n",
    "pun='''.,;:?'!_()\"[]/-''' \n",
    "result=\"\"\n",
    "for i in x:\n",
    "    if i not in pun:\n",
    "        result +=i     \n",
    "print(x)\n",
    "print(result)"
   ]
  },
  {
   "cell_type": "code",
   "execution_count": null,
   "id": "c70cf581",
   "metadata": {},
   "outputs": [],
   "source": []
  }
 ],
 "metadata": {
  "kernelspec": {
   "display_name": "Python 3 (ipykernel)",
   "language": "python",
   "name": "python3"
  },
  "language_info": {
   "codemirror_mode": {
    "name": "ipython",
    "version": 3
   },
   "file_extension": ".py",
   "mimetype": "text/x-python",
   "name": "python",
   "nbconvert_exporter": "python",
   "pygments_lexer": "ipython3",
   "version": "3.9.13"
  }
 },
 "nbformat": 4,
 "nbformat_minor": 5
}
