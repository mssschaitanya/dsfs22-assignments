{
 "cells": [
  {
   "cell_type": "markdown",
   "id": "5840d80c",
   "metadata": {},
   "source": [
    "## 1.Write a Python Program to Find LCM?"
   ]
  },
  {
   "cell_type": "code",
   "execution_count": 5,
   "id": "2a9432fc",
   "metadata": {},
   "outputs": [
    {
     "name": "stdout",
     "output_type": "stream",
     "text": [
      "enter the first integer:60\n",
      "enter the second integer:12\n",
      "60\n"
     ]
    }
   ],
   "source": [
    "# a x b = LCM(a, b) * GCD (a, b)\n",
    "a=int(input(\"enter the first integer:\"))\n",
    "b=int(input(\"enter the second integer:\"))\n",
    "low=min(a,b)\n",
    "for i in range (low,0,-1):\n",
    "    if a%i==0 and b%i==0:\n",
    "        GCD=i\n",
    "        break\n",
    "LCM=a*b//GCD\n",
    "print(LCM)\n",
    "\n"
   ]
  },
  {
   "cell_type": "markdown",
   "id": "3c6ec5b7",
   "metadata": {},
   "source": [
    "# 2.Write a Python Program to Find HCF?"
   ]
  },
  {
   "cell_type": "code",
   "execution_count": 8,
   "id": "efad4651",
   "metadata": {},
   "outputs": [
    {
     "name": "stdout",
     "output_type": "stream",
     "text": [
      "enter the first integer:24\n",
      "enter the second integer:72\n",
      "24\n"
     ]
    }
   ],
   "source": [
    "# a x b = LCM(a, b) * HCF (a, b)\n",
    "a=int(input(\"enter the first integer:\"))\n",
    "b=int(input(\"enter the second integer:\"))\n",
    "low=min(a,b)\n",
    "for i in range (low,0,-1):\n",
    "    if a%i==0 and b%i==0:\n",
    "        HCF=i\n",
    "        break\n",
    "print(HCF)"
   ]
  },
  {
   "cell_type": "markdown",
   "id": "c4af7bc2",
   "metadata": {},
   "source": [
    "# 3.Write a Python Program to Convert Decimal to Binary, Octal and Hexadecimal?"
   ]
  },
  {
   "cell_type": "code",
   "execution_count": 14,
   "id": "6e923613",
   "metadata": {},
   "outputs": [
    {
     "name": "stdout",
     "output_type": "stream",
     "text": [
      "Enter the decimal number 512\n",
      "Binary =  1000000000\n",
      "Octal =  1000\n",
      "Hexadecimal =  200\n"
     ]
    }
   ],
   "source": [
    "main_number = int(input(\"Enter the decimal number \"))\n",
    "\n",
    "number=main_number\n",
    "binary = \"\"\n",
    "while number > 0:\n",
    "    binary = str(number % 2) + binary\n",
    "    number //= 2\n",
    "print(\"Binary = \", binary)\n",
    "\n",
    "number=main_number\n",
    "octal = \"\"\n",
    "while number > 0:\n",
    "    octal = str(number % 8) + octal\n",
    "    number //= 8\n",
    "print(\"Octal = \", octal)\n",
    "\n",
    "number=main_number\n",
    "hexa = \"\"\n",
    "while number > 0:\n",
    "    hexa = str(number % 16) + hexa\n",
    "    number //= 16\n",
    "print(\"Hexadecimal = \", hexa)"
   ]
  },
  {
   "cell_type": "markdown",
   "id": "38ed905b",
   "metadata": {},
   "source": [
    "# 4.Write a Python Program To Find ASCII value of a character?"
   ]
  },
  {
   "cell_type": "code",
   "execution_count": 15,
   "id": "ff9b6dd0",
   "metadata": {},
   "outputs": [
    {
     "name": "stdout",
     "output_type": "stream",
     "text": [
      "Enter a character h\n",
      "104\n"
     ]
    }
   ],
   "source": [
    "val = input(\"Enter a character \")\n",
    "print(ord(val))"
   ]
  },
  {
   "cell_type": "markdown",
   "id": "810403d5",
   "metadata": {},
   "source": [
    "# 5.Write a Python Program to Make a Simple Calculator with 4 basic mathematical operations?"
   ]
  },
  {
   "cell_type": "code",
   "execution_count": null,
   "id": "e1537ba1",
   "metadata": {},
   "outputs": [
    {
     "name": "stdout",
     "output_type": "stream",
     "text": [
      "select operation by number. press 1 for Addition, press 2 for Subtraction \n",
      "                                         press 3 for Multiplication press 4 Division\n",
      "4\n",
      "Enter the numerator 90\n",
      "Enter the denominator 54\n",
      "Division 1.6666666666666667\n",
      "select operation by number. press 1 for Addition, press 2 for Subtraction \n",
      "                                         press 3 for Multiplication press 4 Division\n"
     ]
    }
   ],
   "source": [
    "while True:\n",
    "    print(\"\"\"select operation by number. press 1 for Addition, press 2 for Subtraction \n",
    "                                         press 3 for Multiplication press 4 Division\"\"\")\n",
    "    choice = int(input())\n",
    "\n",
    "    if choice == 1:\n",
    "        number1 = int(input(\"Enter the first number \"))\n",
    "        number2 = int(input(\"Enter the second number \"))\n",
    "        print(\"Addition=\",number1+number2)\n",
    "    elif choice == 2:\n",
    "        number1 = int(input(\"Enter the first number \"))\n",
    "        number2 = int(input(\"Enter the second number \"))\n",
    "        print(\"Subtraction=\",number1 - number2)\n",
    "    elif choice == 3:\n",
    "        number1 = int(input(\"Enter the first number \"))\n",
    "        number2 = int(input(\"Enter the second number \"))\n",
    "        print(\"Multiplication=\",number1 * number2)\n",
    "    elif choice == 4:\n",
    "        number1 = int(input(\"Enter the numerator \"))\n",
    "        number2 = int(input(\"Enter the denominator \"))\n",
    "        print(\"Division\",number1/number2)\n",
    "    else:\n",
    "        break"
   ]
  },
  {
   "cell_type": "code",
   "execution_count": null,
   "id": "83f5e93c",
   "metadata": {},
   "outputs": [],
   "source": []
  }
 ],
 "metadata": {
  "kernelspec": {
   "display_name": "Python 3 (ipykernel)",
   "language": "python",
   "name": "python3"
  },
  "language_info": {
   "codemirror_mode": {
    "name": "ipython",
    "version": 3
   },
   "file_extension": ".py",
   "mimetype": "text/x-python",
   "name": "python",
   "nbconvert_exporter": "python",
   "pygments_lexer": "ipython3",
   "version": "3.9.13"
  }
 },
 "nbformat": 4,
 "nbformat_minor": 5
}
