{
 "cells": [
  {
   "cell_type": "code",
   "execution_count": null,
   "id": "ef440fdd",
   "metadata": {},
   "outputs": [],
   "source": [
    "#1. Find out all the types of error that we have encountered in our lecture and why? Also include the examples.\n",
    "\n",
    "# ans: My observations during practice and class are mentioned below\n",
    "\n",
    "#\"print\" all letters are small in this word so, small letters are prefered in most cases as habit\n",
    "\n",
    "# parentheses is must to use function, one can print without using print function but needs ''or\"\" or \"\"\"\"\"\" (it prints single quote as default)\n",
    "\n",
    "# variable name is case sensitive, do not use 33 reserved words as variable names(it may lead to restart to run properly or del )\n",
    "# variable names must start with alphabets or_ not numbers, it should not have special symbols or space used in maths like ^ % $ ! @ # ^ & * ( )\n",
    "# _is hidden or dummy variable \n",
    "# click on run or shift+enter to execute, press enter for next line, ctrl z for undo\n",
    "\n",
    "#use \"\"\" \"\"\" for multilines,\n",
    "\n",
    "# use\"#\" for comments, comments do not run but helpful to get understood by others, comments do not have features like doc files\n",
    "\n",
    "# use different quote types to print quotes or use \\\\. ex;print(\"hi \\\"chaiitanya\\\"\") first \\ is outside quotes.\n",
    "\n",
    "# python works line by line, executes last line\n",
    "\n",
    "# don't know how many characters it can take in a line\n",
    "\n",
    "# * for multiplication , ** is power/exponential, % modulo remainder, // gives quotient,\n",
    "\n",
    "# print(\"1\"*\"2\") it doestnt work. print(\"2*3\") it prints as string. 1*2 works as int(doesnt need () for int & float)\n",
    "\n",
    "# Whenever we give user input variable, mention the datatype(it takes as string by default even it is empty) \n",
    "\n",
    "# do not give float values to int data type. use type() to find data type.\n",
    "\n",
    "#  we can't change empty string to any data type\n",
    "\n",
    "# dynamic typing ex. print(type()), strong typing ex. \"day\" + \"1\"\n",
    "\n",
    "# # f -> formatted string method very important\n",
    "language = \"JavaScript\"\n",
    "print(f\"Hi welcome to class of {language} language\") # current standard approach used in python \n",
    "# f means fill the blank \n",
    "\n",
    "num = \"first\"\n",
    "language = \"Python\"\n",
    "print(\"Today is the {} class of {} language\".format(num, language)) # old method still useful (remeber {} \" \" .format())\n",
    "\n",
    "num = \"first\"\n",
    "language = \"Python\"\n",
    "print(\"Today is the \"+num+\" class of \"+language+\" language\") # another formatted method  using + insted f {} or .format()\n",
    "\n",
    "# boolean True, False. remeber first letter capital and needs logical operations.\n",
    "\n",
    "# use print() function to avoid quotes\n"
   ]
  },
  {
   "cell_type": "code",
   "execution_count": 2,
   "id": "8ecfaaf8",
   "metadata": {},
   "outputs": [
    {
     "ename": "SyntaxError",
     "evalue": "invalid syntax (3102170466.py, line 1)",
     "output_type": "error",
     "traceback": [
      "\u001b[1;36m  File \u001b[1;32m\"C:\\Users\\NEW\\AppData\\Local\\Temp\\ipykernel_6480\\3102170466.py\"\u001b[1;36m, line \u001b[1;32m1\u001b[0m\n\u001b[1;33m    Print hi\u001b[0m\n\u001b[1;37m          ^\u001b[0m\n\u001b[1;31mSyntaxError\u001b[0m\u001b[1;31m:\u001b[0m invalid syntax\n"
     ]
    }
   ],
   "source": [
    "Print hi\n"
   ]
  },
  {
   "cell_type": "code",
   "execution_count": 3,
   "id": "4da3bcc2",
   "metadata": {},
   "outputs": [
    {
     "ename": "SyntaxError",
     "evalue": "Missing parentheses in call to 'print'. Did you mean print(hi)? (3844995691.py, line 1)",
     "output_type": "error",
     "traceback": [
      "\u001b[1;36m  File \u001b[1;32m\"C:\\Users\\NEW\\AppData\\Local\\Temp\\ipykernel_6480\\3844995691.py\"\u001b[1;36m, line \u001b[1;32m1\u001b[0m\n\u001b[1;33m    print hi\u001b[0m\n\u001b[1;37m          ^\u001b[0m\n\u001b[1;31mSyntaxError\u001b[0m\u001b[1;31m:\u001b[0m Missing parentheses in call to 'print'. Did you mean print(hi)?\n"
     ]
    }
   ],
   "source": [
    "print hi"
   ]
  },
  {
   "cell_type": "code",
   "execution_count": 4,
   "id": "d544d27b",
   "metadata": {},
   "outputs": [
    {
     "ename": "NameError",
     "evalue": "name 'Ten' is not defined",
     "output_type": "error",
     "traceback": [
      "\u001b[1;31m---------------------------------------------------------------------------\u001b[0m",
      "\u001b[1;31mNameError\u001b[0m                                 Traceback (most recent call last)",
      "\u001b[1;32m~\\AppData\\Local\\Temp\\ipykernel_6480\\4235632646.py\u001b[0m in \u001b[0;36m<module>\u001b[1;34m\u001b[0m\n\u001b[0;32m      1\u001b[0m \u001b[0mten\u001b[0m\u001b[1;33m=\u001b[0m\u001b[1;36m10\u001b[0m\u001b[1;33m\u001b[0m\u001b[1;33m\u001b[0m\u001b[0m\n\u001b[1;32m----> 2\u001b[1;33m \u001b[0mprint\u001b[0m\u001b[1;33m(\u001b[0m\u001b[0mTen\u001b[0m\u001b[1;33m)\u001b[0m\u001b[1;33m\u001b[0m\u001b[1;33m\u001b[0m\u001b[0m\n\u001b[0m",
      "\u001b[1;31mNameError\u001b[0m: name 'Ten' is not defined"
     ]
    }
   ],
   "source": [
    "ten=10\n",
    "print(Ten)"
   ]
  },
  {
   "cell_type": "code",
   "execution_count": 5,
   "id": "2b8bd274",
   "metadata": {},
   "outputs": [
    {
     "ename": "NameError",
     "evalue": "name 'hi' is not defined",
     "output_type": "error",
     "traceback": [
      "\u001b[1;31m---------------------------------------------------------------------------\u001b[0m",
      "\u001b[1;31mNameError\u001b[0m                                 Traceback (most recent call last)",
      "\u001b[1;32m~\\AppData\\Local\\Temp\\ipykernel_6480\\2187410482.py\u001b[0m in \u001b[0;36m<module>\u001b[1;34m\u001b[0m\n\u001b[1;32m----> 1\u001b[1;33m \u001b[0mhi\u001b[0m\u001b[1;33m\u001b[0m\u001b[1;33m\u001b[0m\u001b[0m\n\u001b[0m",
      "\u001b[1;31mNameError\u001b[0m: name 'hi' is not defined"
     ]
    }
   ],
   "source": [
    "hi"
   ]
  },
  {
   "cell_type": "code",
   "execution_count": 6,
   "id": "5f6ed6b0",
   "metadata": {},
   "outputs": [
    {
     "data": {
      "text/plain": [
       "'hi'"
      ]
     },
     "execution_count": 6,
     "metadata": {},
     "output_type": "execute_result"
    }
   ],
   "source": [
    "\"hi\""
   ]
  },
  {
   "cell_type": "code",
   "execution_count": 7,
   "id": "68a9fb34",
   "metadata": {},
   "outputs": [
    {
     "data": {
      "text/plain": [
       "''"
      ]
     },
     "execution_count": 7,
     "metadata": {},
     "output_type": "execute_result"
    }
   ],
   "source": [
    "\"\""
   ]
  },
  {
   "cell_type": "code",
   "execution_count": 8,
   "id": "24f3472e",
   "metadata": {},
   "outputs": [
    {
     "data": {
      "text/plain": [
       "''"
      ]
     },
     "execution_count": 8,
     "metadata": {},
     "output_type": "execute_result"
    }
   ],
   "source": [
    "\"\"\"\"\"\""
   ]
  },
  {
   "cell_type": "code",
   "execution_count": 9,
   "id": "baa63a97",
   "metadata": {},
   "outputs": [
    {
     "data": {
      "text/plain": [
       "''"
      ]
     },
     "execution_count": 9,
     "metadata": {},
     "output_type": "execute_result"
    }
   ],
   "source": [
    "''"
   ]
  },
  {
   "cell_type": "code",
   "execution_count": 10,
   "id": "a4d57842",
   "metadata": {},
   "outputs": [
    {
     "ename": "SyntaxError",
     "evalue": "EOL while scanning string literal (165411067.py, line 1)",
     "output_type": "error",
     "traceback": [
      "\u001b[1;36m  File \u001b[1;32m\"C:\\Users\\NEW\\AppData\\Local\\Temp\\ipykernel_6480\\165411067.py\"\u001b[1;36m, line \u001b[1;32m1\u001b[0m\n\u001b[1;33m    print((\"hi \\chaiitanya\\\"))\u001b[0m\n\u001b[1;37m                              ^\u001b[0m\n\u001b[1;31mSyntaxError\u001b[0m\u001b[1;31m:\u001b[0m EOL while scanning string literal\n"
     ]
    }
   ],
   "source": [
    "print((\"hi \\chaiitanya\\\"))"
   ]
  },
  {
   "cell_type": "code",
   "execution_count": 11,
   "id": "f195a6fa",
   "metadata": {},
   "outputs": [
    {
     "ename": "SyntaxError",
     "evalue": "EOL while scanning string literal (2274629029.py, line 1)",
     "output_type": "error",
     "traceback": [
      "\u001b[1;36m  File \u001b[1;32m\"C:\\Users\\NEW\\AppData\\Local\\Temp\\ipykernel_6480\\2274629029.py\"\u001b[1;36m, line \u001b[1;32m1\u001b[0m\n\u001b[1;33m    print(\"hi \\chaiitanya\\\")\u001b[0m\n\u001b[1;37m                            ^\u001b[0m\n\u001b[1;31mSyntaxError\u001b[0m\u001b[1;31m:\u001b[0m EOL while scanning string literal\n"
     ]
    }
   ],
   "source": [
    "print(\"hi \\chaiitanya\\\")\n",
    "      "
   ]
  },
  {
   "cell_type": "code",
   "execution_count": 13,
   "id": "7f5d625d",
   "metadata": {},
   "outputs": [
    {
     "name": "stdout",
     "output_type": "stream",
     "text": [
      "hi \"chaiitanya\"\n"
     ]
    }
   ],
   "source": [
    "print(\"hi \\\"chaiitanya\\\"\")\n",
    "      "
   ]
  },
  {
   "cell_type": "code",
   "execution_count": 15,
   "id": "45a4c518",
   "metadata": {},
   "outputs": [
    {
     "ename": "SyntaxError",
     "evalue": "unexpected character after line continuation character (2220007221.py, line 1)",
     "output_type": "error",
     "traceback": [
      "\u001b[1;36m  File \u001b[1;32m\"C:\\Users\\NEW\\AppData\\Local\\Temp\\ipykernel_6480\\2220007221.py\"\u001b[1;36m, line \u001b[1;32m1\u001b[0m\n\u001b[1;33m    print(\"hi \"\\chaiitanya\"\\\")\u001b[0m\n\u001b[1;37m                ^\u001b[0m\n\u001b[1;31mSyntaxError\u001b[0m\u001b[1;31m:\u001b[0m unexpected character after line continuation character\n"
     ]
    }
   ],
   "source": [
    "print(\"hi \"\\chaiitanya\"\\\")"
   ]
  },
  {
   "cell_type": "code",
   "execution_count": 21,
   "id": "c12fa537",
   "metadata": {},
   "outputs": [
    {
     "data": {
      "text/plain": [
       "3"
      ]
     },
     "execution_count": 21,
     "metadata": {},
     "output_type": "execute_result"
    }
   ],
   "source": [
    "1+2"
   ]
  },
  {
   "cell_type": "code",
   "execution_count": 1,
   "id": "f7db653b",
   "metadata": {},
   "outputs": [
    {
     "ename": "TypeError",
     "evalue": "can't multiply sequence by non-int of type 'str'",
     "output_type": "error",
     "traceback": [
      "\u001b[1;31m---------------------------------------------------------------------------\u001b[0m",
      "\u001b[1;31mTypeError\u001b[0m                                 Traceback (most recent call last)",
      "\u001b[1;32m~\\AppData\\Local\\Temp\\ipykernel_11408\\4101687823.py\u001b[0m in \u001b[0;36m<module>\u001b[1;34m\u001b[0m\n\u001b[1;32m----> 1\u001b[1;33m \u001b[0mprint\u001b[0m\u001b[1;33m(\u001b[0m\u001b[1;34m\"1\"\u001b[0m\u001b[1;33m*\u001b[0m\u001b[1;34m\"2\"\u001b[0m\u001b[1;33m)\u001b[0m\u001b[1;33m\u001b[0m\u001b[1;33m\u001b[0m\u001b[0m\n\u001b[0m",
      "\u001b[1;31mTypeError\u001b[0m: can't multiply sequence by non-int of type 'str'"
     ]
    }
   ],
   "source": [
    "print(\"1\"*\"2\")"
   ]
  },
  {
   "cell_type": "code",
   "execution_count": 2,
   "id": "6b326979",
   "metadata": {},
   "outputs": [
    {
     "name": "stdout",
     "output_type": "stream",
     "text": [
      "2*3\n"
     ]
    }
   ],
   "source": [
    "print(\"2*3\")"
   ]
  },
  {
   "cell_type": "code",
   "execution_count": 3,
   "id": "01184e43",
   "metadata": {},
   "outputs": [
    {
     "data": {
      "text/plain": [
       "str"
      ]
     },
     "execution_count": 3,
     "metadata": {},
     "output_type": "execute_result"
    }
   ],
   "source": [
    "type(\"2*3\")"
   ]
  },
  {
   "cell_type": "code",
   "execution_count": 4,
   "id": "3481cdb1",
   "metadata": {},
   "outputs": [
    {
     "name": "stdout",
     "output_type": "stream",
     "text": [
      "data type before: <class 'str'>, value of A: \n"
     ]
    },
    {
     "ename": "ValueError",
     "evalue": "invalid literal for int() with base 10: ''",
     "output_type": "error",
     "traceback": [
      "\u001b[1;31m---------------------------------------------------------------------------\u001b[0m",
      "\u001b[1;31mValueError\u001b[0m                                Traceback (most recent call last)",
      "\u001b[1;32m~\\AppData\\Local\\Temp\\ipykernel_11408\\3947396933.py\u001b[0m in \u001b[0;36m<module>\u001b[1;34m\u001b[0m\n\u001b[0;32m      1\u001b[0m \u001b[0mA\u001b[0m \u001b[1;33m=\u001b[0m \u001b[1;34m\"\"\u001b[0m\u001b[1;33m\u001b[0m\u001b[1;33m\u001b[0m\u001b[0m\n\u001b[0;32m      2\u001b[0m \u001b[0mprint\u001b[0m\u001b[1;33m(\u001b[0m\u001b[1;34mf\"data type before: {type(A)}, value of A: {A}\"\u001b[0m\u001b[1;33m)\u001b[0m\u001b[1;33m\u001b[0m\u001b[1;33m\u001b[0m\u001b[0m\n\u001b[1;32m----> 3\u001b[1;33m \u001b[0mA\u001b[0m \u001b[1;33m=\u001b[0m \u001b[0mint\u001b[0m\u001b[1;33m(\u001b[0m\u001b[0mA\u001b[0m\u001b[1;33m)\u001b[0m\u001b[1;33m\u001b[0m\u001b[1;33m\u001b[0m\u001b[0m\n\u001b[0m\u001b[0;32m      4\u001b[0m \u001b[0mprint\u001b[0m\u001b[1;33m(\u001b[0m\u001b[1;34mf\"data type after: {type(A)}, value of A: {A}\"\u001b[0m\u001b[1;33m)\u001b[0m\u001b[1;33m\u001b[0m\u001b[1;33m\u001b[0m\u001b[0m\n",
      "\u001b[1;31mValueError\u001b[0m: invalid literal for int() with base 10: ''"
     ]
    }
   ],
   "source": [
    "# we can't change empty string to any data type\n",
    "A = \"\"\n",
    "print(f\"data type before: {type(A)}, value of A: {A}\")\n",
    "A = int(A)\n",
    "print(f\"data type after: {type(A)}, value of A: {A}\")\n"
   ]
  },
  {
   "cell_type": "code",
   "execution_count": 5,
   "id": "e431caeb",
   "metadata": {},
   "outputs": [
    {
     "data": {
      "text/plain": [
       "str"
      ]
     },
     "execution_count": 5,
     "metadata": {},
     "output_type": "execute_result"
    }
   ],
   "source": [
    "x=\"\"\n",
    "type (x)"
   ]
  },
  {
   "cell_type": "code",
   "execution_count": 6,
   "id": "f2fb91d4",
   "metadata": {},
   "outputs": [
    {
     "ename": "NameError",
     "evalue": "name 'pi' is not defined",
     "output_type": "error",
     "traceback": [
      "\u001b[1;31m---------------------------------------------------------------------------\u001b[0m",
      "\u001b[1;31mNameError\u001b[0m                                 Traceback (most recent call last)",
      "\u001b[1;32m~\\AppData\\Local\\Temp\\ipykernel_11408\\3068699003.py\u001b[0m in \u001b[0;36m<module>\u001b[1;34m\u001b[0m\n\u001b[1;32m----> 1\u001b[1;33m \u001b[0mpi\u001b[0m\u001b[1;33m/\u001b[0m\u001b[1;36m1\u001b[0m\u001b[1;33m\u001b[0m\u001b[1;33m\u001b[0m\u001b[0m\n\u001b[0m",
      "\u001b[1;31mNameError\u001b[0m: name 'pi' is not defined"
     ]
    }
   ],
   "source": [
    "pi/1"
   ]
  },
  {
   "cell_type": "markdown",
   "id": "5fc8ba21",
   "metadata": {},
   "source": [
    "2. complex numbers "
   ]
  },
  {
   "cell_type": "code",
   "execution_count": 8,
   "id": "0318eb10",
   "metadata": {},
   "outputs": [
    {
     "ename": "NameError",
     "evalue": "name 'real' is not defined",
     "output_type": "error",
     "traceback": [
      "\u001b[1;31m---------------------------------------------------------------------------\u001b[0m",
      "\u001b[1;31mNameError\u001b[0m                                 Traceback (most recent call last)",
      "\u001b[1;32m~\\AppData\\Local\\Temp\\ipykernel_11408\\556510447.py\u001b[0m in \u001b[0;36m<module>\u001b[1;34m\u001b[0m\n\u001b[0;32m      1\u001b[0m \u001b[0mx\u001b[0m\u001b[1;33m=\u001b[0m\u001b[1;36m2\u001b[0m\u001b[1;33m+\u001b[0m\u001b[1;36m3j\u001b[0m\u001b[1;33m\u001b[0m\u001b[1;33m\u001b[0m\u001b[0m\n\u001b[1;32m----> 2\u001b[1;33m \u001b[0mreal\u001b[0m\u001b[1;33m.\u001b[0m\u001b[0mx\u001b[0m\u001b[1;33m\u001b[0m\u001b[1;33m\u001b[0m\u001b[0m\n\u001b[0m",
      "\u001b[1;31mNameError\u001b[0m: name 'real' is not defined"
     ]
    }
   ],
   "source": [
    "x=2+3j \n",
    "real.x"
   ]
  },
  {
   "cell_type": "code",
   "execution_count": 9,
   "id": "38e0f63b",
   "metadata": {},
   "outputs": [
    {
     "data": {
      "text/plain": [
       "2.0"
      ]
     },
     "execution_count": 9,
     "metadata": {},
     "output_type": "execute_result"
    }
   ],
   "source": [
    "x.real"
   ]
  },
  {
   "cell_type": "code",
   "execution_count": 10,
   "id": "83fc12ab",
   "metadata": {},
   "outputs": [
    {
     "ename": "AttributeError",
     "evalue": "'complex' object has no attribute 'img'",
     "output_type": "error",
     "traceback": [
      "\u001b[1;31m---------------------------------------------------------------------------\u001b[0m",
      "\u001b[1;31mAttributeError\u001b[0m                            Traceback (most recent call last)",
      "\u001b[1;32m~\\AppData\\Local\\Temp\\ipykernel_11408\\1952414349.py\u001b[0m in \u001b[0;36m<module>\u001b[1;34m\u001b[0m\n\u001b[1;32m----> 1\u001b[1;33m \u001b[0mx\u001b[0m\u001b[1;33m.\u001b[0m\u001b[0mimg\u001b[0m\u001b[1;33m\u001b[0m\u001b[1;33m\u001b[0m\u001b[0m\n\u001b[0m",
      "\u001b[1;31mAttributeError\u001b[0m: 'complex' object has no attribute 'img'"
     ]
    }
   ],
   "source": [
    "x.img\n"
   ]
  },
  {
   "cell_type": "code",
   "execution_count": 11,
   "id": "4fe46b94",
   "metadata": {},
   "outputs": [
    {
     "data": {
      "text/plain": [
       "3.0"
      ]
     },
     "execution_count": 11,
     "metadata": {},
     "output_type": "execute_result"
    }
   ],
   "source": [
    "x.imag"
   ]
  },
  {
   "cell_type": "code",
   "execution_count": 12,
   "id": "8cdc0f74",
   "metadata": {},
   "outputs": [
    {
     "data": {
      "text/plain": [
       "'day1'"
      ]
     },
     "execution_count": 12,
     "metadata": {},
     "output_type": "execute_result"
    }
   ],
   "source": [
    "\"day\" + \"1\" # here both are string"
   ]
  },
  {
   "cell_type": "code",
   "execution_count": 13,
   "id": "cd88f574",
   "metadata": {},
   "outputs": [
    {
     "data": {
      "text/plain": [
       "'2222'"
      ]
     },
     "execution_count": 13,
     "metadata": {},
     "output_type": "execute_result"
    }
   ],
   "source": [
    "\"22\"+\"22\""
   ]
  },
  {
   "cell_type": "code",
   "execution_count": 14,
   "id": "201a0d87",
   "metadata": {},
   "outputs": [
    {
     "name": "stdout",
     "output_type": "stream",
     "text": [
      "Hi welcome to class of computer language\n"
     ]
    }
   ],
   "source": [
    "# f -> formatted string method\n",
    "language = \"computer\"\n",
    "print(f\"Hi welcome to class of {language} language\") # current standard approach used in python"
   ]
  },
  {
   "cell_type": "code",
   "execution_count": 15,
   "id": "909ec175",
   "metadata": {},
   "outputs": [
    {
     "name": "stdout",
     "output_type": "stream",
     "text": [
      "Today is the first class of Python language\n"
     ]
    }
   ],
   "source": [
    "num = \"first\"\n",
    "language = \"Python\"\n",
    "print(\"Today is the {} class of {} language\".format(num, language)) # old method still useful"
   ]
  },
  {
   "cell_type": "code",
   "execution_count": 5,
   "id": "31d6df56",
   "metadata": {},
   "outputs": [
    {
     "name": "stdout",
     "output_type": "stream",
     "text": [
      "6\n",
      "5\n",
      "9\n",
      "1\n",
      "1.5\n",
      "1\n",
      "1\n"
     ]
    }
   ],
   "source": [
    "# 2 math operations\n",
    "a= 3\n",
    "b=2\n",
    "print(a*b)\n",
    "print(a+b)\n",
    "print(a**b) # exponential\n",
    "print(a-b)\n",
    "print(a/b) #division\n",
    "print(a%b) #remainder\n",
    "print(a//b) # quotient"
   ]
  },
  {
   "cell_type": "markdown",
   "id": "dc553f67",
   "metadata": {},
   "source": [
    "# 4. Create email ids with the user inputs. in the following format - lastname.firstname@gmail.com¶\n"
   ]
  },
  {
   "cell_type": "code",
   "execution_count": 7,
   "id": "9314a81c",
   "metadata": {},
   "outputs": [
    {
     "name": "stdout",
     "output_type": "stream",
     "text": [
      "enter the first name:ramesh\n",
      "enter the last name:suresh\n",
      "suresh.ramesh@gmail.com\n"
     ]
    }
   ],
   "source": [
    "first_name=input(\"enter the first name:\")\n",
    "last_name=input(\"enter the last name:\")\n",
    "print(f\"{last_name}.{first_name}@gmail.com\")\n"
   ]
  },
  {
   "cell_type": "markdown",
   "id": "e0ea7fd1",
   "metadata": {},
   "source": [
    "## 5. Try to print the following lines -\n",
    "Hi I'm Sunny\n",
    "My address is 22\\3\n",
    "I earn 20$ daily."
   ]
  },
  {
   "cell_type": "code",
   "execution_count": 8,
   "id": "1664479a",
   "metadata": {},
   "outputs": [
    {
     "ename": "SyntaxError",
     "evalue": "invalid syntax (460328683.py, line 1)",
     "output_type": "error",
     "traceback": [
      "\u001b[1;36m  File \u001b[1;32m\"C:\\Users\\NEW\\AppData\\Local\\Temp\\ipykernel_1112\\460328683.py\"\u001b[1;36m, line \u001b[1;32m1\u001b[0m\n\u001b[1;33m    hi i'm sunny\u001b[0m\n\u001b[1;37m       ^\u001b[0m\n\u001b[1;31mSyntaxError\u001b[0m\u001b[1;31m:\u001b[0m invalid syntax\n"
     ]
    }
   ],
   "source": [
    "hi i'm sunny"
   ]
  },
  {
   "cell_type": "code",
   "execution_count": 9,
   "id": "3ea870c8",
   "metadata": {},
   "outputs": [
    {
     "data": {
      "text/plain": [
       "\"Hi I'm Sunny\""
      ]
     },
     "execution_count": 9,
     "metadata": {},
     "output_type": "execute_result"
    }
   ],
   "source": [
    "\"Hi I'm Sunny\""
   ]
  },
  {
   "cell_type": "code",
   "execution_count": 10,
   "id": "6fe480a5",
   "metadata": {},
   "outputs": [
    {
     "name": "stdout",
     "output_type": "stream",
     "text": [
      "My address is 22\u0003\n"
     ]
    }
   ],
   "source": [
    "print(\"My address is 22\\3\")  # use print() function to avoid quotes"
   ]
  },
  {
   "cell_type": "code",
   "execution_count": 11,
   "id": "be00570a",
   "metadata": {},
   "outputs": [
    {
     "data": {
      "text/plain": [
       "'I earn 20$ daily'"
      ]
     },
     "execution_count": 11,
     "metadata": {},
     "output_type": "execute_result"
    }
   ],
   "source": [
    "'I earn 20$ daily'"
   ]
  },
  {
   "cell_type": "markdown",
   "id": "3690dc1c",
   "metadata": {},
   "source": [
    "# 6. Take user input (name, address, date of birth etc) to fill a form for your college and print their email IDs"
   ]
  },
  {
   "cell_type": "code",
   "execution_count": 13,
   "id": "d519b2e8",
   "metadata": {},
   "outputs": [
    {
     "name": "stdout",
     "output_type": "stream",
     "text": [
      "enter the first name:uppalapati\n",
      "enter the last name:prabhas\n",
      "enter your presnt address for contact:bheemavaram\n",
      "date of birth as per proof:23 oct 1979\n",
      "uppalapati_prabhas@.ai\n"
     ]
    }
   ],
   "source": [
    "first_name=input(\"enter the first name:\")\n",
    "last_name=input(\"enter the last name:\")\n",
    "address=input(\"enter your presnt address for contact:\")\n",
    "age=input(\"date of birth as per proof:\")\n",
    "\n",
    "print(f\"{first_name}_{last_name}@.ai\")"
   ]
  },
  {
   "cell_type": "markdown",
   "id": "47cd05fb",
   "metadata": {},
   "source": [
    "# Convert the following -\n",
    "\"22.4\" into integer\n",
    "\"22\" into complex no."
   ]
  },
  {
   "cell_type": "code",
   "execution_count": 14,
   "id": "c1939f16",
   "metadata": {},
   "outputs": [
    {
     "data": {
      "text/plain": [
       "int"
      ]
     },
     "execution_count": 14,
     "metadata": {},
     "output_type": "execute_result"
    }
   ],
   "source": [
    "a=22.4\n",
    "a=int(a)\n",
    "type(a)"
   ]
  },
  {
   "cell_type": "code",
   "execution_count": 15,
   "id": "ee6a2d89",
   "metadata": {},
   "outputs": [
    {
     "data": {
      "text/plain": [
       "complex"
      ]
     },
     "execution_count": 15,
     "metadata": {},
     "output_type": "execute_result"
    }
   ],
   "source": [
    "a=22\n",
    "a=complex(a)\n",
    "type(a)"
   ]
  },
  {
   "cell_type": "code",
   "execution_count": null,
   "id": "5f8ec68f",
   "metadata": {},
   "outputs": [],
   "source": []
  }
 ],
 "metadata": {
  "kernelspec": {
   "display_name": "Python 3 (ipykernel)",
   "language": "python",
   "name": "python3"
  },
  "language_info": {
   "codemirror_mode": {
    "name": "ipython",
    "version": 3
   },
   "file_extension": ".py",
   "mimetype": "text/x-python",
   "name": "python",
   "nbconvert_exporter": "python",
   "pygments_lexer": "ipython3",
   "version": "3.9.13"
  }
 },
 "nbformat": 4,
 "nbformat_minor": 5
}
