{
 "cells": [
  {
   "cell_type": "markdown",
   "id": "12dcc922",
   "metadata": {},
   "source": [
    "# 1. In the below elements which of them are values or an expression? eg:- values can be integer or string and expressions will be mathematical operators.\n",
    "\n",
    "* \n",
    "'hello'\n",
    "-87.8\n",
    "- \n",
    "/ \n",
    "+\n",
    "6 "
   ]
  },
  {
   "cell_type": "code",
   "execution_count": 12,
   "id": "f977e56f",
   "metadata": {},
   "outputs": [
    {
     "name": "stdout",
     "output_type": "stream",
     "text": [
      "hello is <class 'str'>\n",
      "-87.8 is <class 'float'>\n",
      "6 is <class 'int'>\n",
      "* is mathematical_operator\n",
      "- is mathematical_operator\n",
      "/ is mathematical_operator\n",
      "+ is mathematical_operator\n"
     ]
    }
   ],
   "source": [
    "mathematical_operators=[\"*\",\"-\",\"/\",\"+\"]\n",
    "a=['hello',-87.8,6,\"*\",\"-\",\"/\",\"+\"]\n",
    "for i in a:\n",
    "    if i in a and i in mathematical_operators:\n",
    "        print(f'{i} is mathematical_operator')\n",
    "    else:\n",
    "        print(f'{i} is {type(i)}')"
   ]
  },
  {
   "cell_type": "markdown",
   "id": "1ac6aa26",
   "metadata": {},
   "source": [
    "# 2.What is the difference between string and variable?\n"
   ]
  },
  {
   "cell_type": "code",
   "execution_count": 15,
   "id": "6d733e43",
   "metadata": {},
   "outputs": [
    {
     "name": "stdout",
     "output_type": "stream",
     "text": [
      "1.string is a value representing text enclosed with quotations (\"\" or ''). string is a variable type\n",
      "2.variable is name of value and variable types are integers,string,float and boolean.\n"
     ]
    }
   ],
   "source": [
    "print(\"\"\"1.string is a value representing text enclosed with quotations (\"\" or ''). string is a variable type\"\"\")\n",
    "print('2.variable is name of value and variable types are integers,string,float and boolean.')"
   ]
  },
  {
   "cell_type": "markdown",
   "id": "2e14b366",
   "metadata": {},
   "source": [
    "# 3. Describe three different data types.\n"
   ]
  },
  {
   "cell_type": "code",
   "execution_count": 21,
   "id": "4f132419",
   "metadata": {},
   "outputs": [
    {
     "name": "stdout",
     "output_type": "stream",
     "text": [
      "data_types are 'integer','string','boolean'etc\n",
      "integer is a data type, contains whole number. example=1,2,3\n",
      "string is a data type, contains value enclosed with quotations. example=\"1\",\"+\",\"h\",\"hellow\",\" \".\n",
      "boolean data type has two values either True or False.\n"
     ]
    }
   ],
   "source": [
    "print(\"data_types are 'integer','string','boolean'etc\")\n",
    "print('integer is a data type, contains whole number. example=1,2,3')\n",
    "print('string is a data type, contains value enclosed with quotations. example=\"1\",\"+\",\"h\",\"hellow\",\" \".') \n",
    "print('boolean data type has two values either True or False.')"
   ]
  },
  {
   "cell_type": "markdown",
   "id": "7519c6e0",
   "metadata": {},
   "source": [
    "# 4. What is an expression made up of? What do all expressions do?\n",
    "Ans. Expression is a combination of values, variables, operators or function calls. Expression is evaluated by the interpreter to produce a value"
   ]
  },
  {
   "cell_type": "markdown",
   "id": "fdfa67f5",
   "metadata": {},
   "source": [
    "# 5. This assignment statements, like spam = 10. What is the difference between an expression and a statement?\n",
    "Ans An expression is a combination of values, variables, and operators. \n",
    "example spam =10 is expression, \n",
    "here spam is variable, \n",
    "'=' is operator\n",
    "10 is value.\n",
    "statement is an instruction that a Python interpreter can execute.   "
   ]
  },
  {
   "cell_type": "markdown",
   "id": "dc80428b",
   "metadata": {},
   "source": [
    "# 6. After running the following code, what does the variable bacon contain?\n",
    "bacon = 22\n",
    "bacon + 1"
   ]
  },
  {
   "cell_type": "code",
   "execution_count": 22,
   "id": "d65933e3",
   "metadata": {},
   "outputs": [
    {
     "data": {
      "text/plain": [
       "23"
      ]
     },
     "execution_count": 22,
     "metadata": {},
     "output_type": "execute_result"
    }
   ],
   "source": [
    "bacon = 22 \n",
    "bacon + 1"
   ]
  },
  {
   "cell_type": "markdown",
   "id": "0036957d",
   "metadata": {},
   "source": [
    "# 7. What should the values of the following two terms be?\n",
    "1.'spam' + 'spamspam'\n",
    "n\\2.'spam' * 3"
   ]
  },
  {
   "cell_type": "code",
   "execution_count": 24,
   "id": "cf8c6249",
   "metadata": {},
   "outputs": [
    {
     "data": {
      "text/plain": [
       "'spamspamspam'"
      ]
     },
     "execution_count": 24,
     "metadata": {},
     "output_type": "execute_result"
    }
   ],
   "source": [
    "'spam' + 'spamspam'"
   ]
  },
  {
   "cell_type": "code",
   "execution_count": 25,
   "id": "9a19ec10",
   "metadata": {},
   "outputs": [
    {
     "data": {
      "text/plain": [
       "'spamspamspam'"
      ]
     },
     "execution_count": 25,
     "metadata": {},
     "output_type": "execute_result"
    }
   ],
   "source": [
    "'spam' * 3"
   ]
  },
  {
   "cell_type": "markdown",
   "id": "312fce92",
   "metadata": {},
   "source": [
    "# 8. Why is eggs a valid variable name while 100 is invalid?"
   ]
  },
  {
   "cell_type": "code",
   "execution_count": 26,
   "id": "27732a83",
   "metadata": {},
   "outputs": [],
   "source": [
    "# To use variable there are set of rules to be valid \n",
    "#1.variable must start with a alpha or underscore(_), shouldn't contain spaces. so 100 is invalid.\n",
    "#2. reserved keywords sholdn't be used as variable names. "
   ]
  },
  {
   "cell_type": "markdown",
   "id": "e7858bd7",
   "metadata": {},
   "source": [
    "# 9. What three functions can be used to get the integer, floating-point number, or string version of a value?"
   ]
  },
  {
   "cell_type": "code",
   "execution_count": 40,
   "id": "03aa870d",
   "metadata": {},
   "outputs": [
    {
     "name": "stdout",
     "output_type": "stream",
     "text": [
      "value1 is <class 'str'>, changed to <class 'int'>\n"
     ]
    }
   ],
   "source": [
    "#three functions are int(),float(),str() use of these functions explained with examples below.\n",
    "# string to integer\n",
    "value1 = '14'    # string type\n",
    "y= int(value1)   # we get an integer type\n",
    "print(f'value1 is {type(value1)}, changed to {type(y)}')"
   ]
  },
  {
   "cell_type": "code",
   "execution_count": 44,
   "id": "ae738669",
   "metadata": {},
   "outputs": [
    {
     "name": "stdout",
     "output_type": "stream",
     "text": [
      "value2 is <class 'str'>, changed to <class 'float'>\n"
     ]
    }
   ],
   "source": [
    "# string to float\n",
    "value2 = '14'    # string type\n",
    "y= float(value2)   # we get an float type\n",
    "print(f'value2 is {type(value2)}, changed to {type(y)}')"
   ]
  },
  {
   "cell_type": "code",
   "execution_count": 45,
   "id": "9cccdb05",
   "metadata": {},
   "outputs": [
    {
     "name": "stdout",
     "output_type": "stream",
     "text": [
      "value3 is <class 'int'>, changed to <class 'str'>\n"
     ]
    }
   ],
   "source": [
    "# integer to string\n",
    "value3 = 14   # integer type\n",
    "y= str(value3)   # we get an string type\n",
    "print(f'value3 is {type(value3)}, changed to {type(y)}')"
   ]
  },
  {
   "cell_type": "markdown",
   "id": "0cbfac92",
   "metadata": {},
   "source": [
    "## 10. Why does this expression cause an error? How can you fix it?\n",
    "'I have eaten ' + 99 + ' burritos.'"
   ]
  },
  {
   "cell_type": "code",
   "execution_count": 46,
   "id": "758e3824",
   "metadata": {},
   "outputs": [
    {
     "ename": "TypeError",
     "evalue": "can only concatenate str (not \"int\") to str",
     "output_type": "error",
     "traceback": [
      "\u001b[1;31m---------------------------------------------------------------------------\u001b[0m",
      "\u001b[1;31mTypeError\u001b[0m                                 Traceback (most recent call last)",
      "\u001b[1;32m~\\AppData\\Local\\Temp\\ipykernel_5496\\1774935878.py\u001b[0m in \u001b[0;36m<module>\u001b[1;34m\u001b[0m\n\u001b[1;32m----> 1\u001b[1;33m \u001b[1;34m'I have eaten '\u001b[0m \u001b[1;33m+\u001b[0m \u001b[1;36m99\u001b[0m \u001b[1;33m+\u001b[0m \u001b[1;34m' burritos.'\u001b[0m\u001b[1;33m\u001b[0m\u001b[1;33m\u001b[0m\u001b[0m\n\u001b[0m",
      "\u001b[1;31mTypeError\u001b[0m: can only concatenate str (not \"int\") to str"
     ]
    }
   ],
   "source": [
    "'I have eaten ' + 99 + ' burritos.'"
   ]
  },
  {
   "cell_type": "code",
   "execution_count": 47,
   "id": "9e051027",
   "metadata": {},
   "outputs": [
    {
     "data": {
      "text/plain": [
       "'I have eaten 99 burritos.'"
      ]
     },
     "execution_count": 47,
     "metadata": {},
     "output_type": "execute_result"
    }
   ],
   "source": [
    "# 'I have eaten ' + 99 + ' burritos.' is error because 99 is default int type cannot cancatenate with string data types. \n",
    "# if we put 99 value in quotes it will become string type and fix the error.\n",
    "'I have eaten ' + '99' + ' burritos.'"
   ]
  },
  {
   "cell_type": "code",
   "execution_count": null,
   "id": "32ea19e2",
   "metadata": {},
   "outputs": [],
   "source": []
  }
 ],
 "metadata": {
  "kernelspec": {
   "display_name": "Python 3 (ipykernel)",
   "language": "python",
   "name": "python3"
  },
  "language_info": {
   "codemirror_mode": {
    "name": "ipython",
    "version": 3
   },
   "file_extension": ".py",
   "mimetype": "text/x-python",
   "name": "python",
   "nbconvert_exporter": "python",
   "pygments_lexer": "ipython3",
   "version": "3.9.13"
  }
 },
 "nbformat": 4,
 "nbformat_minor": 5
}
